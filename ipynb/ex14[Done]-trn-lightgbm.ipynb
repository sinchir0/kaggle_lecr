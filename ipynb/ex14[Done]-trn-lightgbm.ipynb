{
 "cells": [
  {
   "cell_type": "code",
   "execution_count": 1,
   "id": "fa2b29e0-150c-47b3-9f56-e0241255ca87",
   "metadata": {
    "tags": []
   },
   "outputs": [],
   "source": [
    "NOTEBOOK_NAME = \"ex14-trn-lightgbm\""
   ]
  },
  {
   "cell_type": "code",
   "execution_count": 2,
   "id": "fdd0b75a-2889-48af-b1df-a47cb38584bd",
   "metadata": {
    "tags": []
   },
   "outputs": [],
   "source": [
    "import os\n",
    "OUTPUT_DIR = f\"/notebooks/kaggle_lecr/output/{NOTEBOOK_NAME}\"\n",
    "os.makedirs(OUTPUT_DIR, exist_ok=True)"
   ]
  },
  {
   "cell_type": "code",
   "execution_count": 5,
   "id": "bea3d0df-f4e8-4202-a89b-f5926005aa42",
   "metadata": {
    "autoscroll": "auto",
    "collapsed": false,
    "jupyter": {
     "outputs_hidden": false
    },
    "tags": []
   },
   "outputs": [
    {
     "name": "stdout",
     "output_type": "stream",
     "text": [
      "Looking in indexes: https://pypi.org/simple, https://download.pytorch.org/whl/cu116\n",
      "Collecting torch==1.12.0\n",
      "  Downloading https://download.pytorch.org/whl/cu116/torch-1.12.0%2Bcu116-cp39-cp39-linux_x86_64.whl (1904.6 MB)\n",
      "     ━━━━━━━━━━━━━━━━━━━━━━━━━━━━━━━━━━━━━━━━ 1.9/1.9 GB 1.4 MB/s eta 0:00:00\n",
      "Requirement already satisfied: typing-extensions in /opt/conda/envs/rapids/lib/python3.9/site-packages (from torch==1.12.0) (4.4.0)\n",
      "Installing collected packages: torch\n",
      "Successfully installed torch-1.12.0+cu116\n"
     ]
    },
    {
     "name": "stderr",
     "output_type": "stream",
     "text": [
      "WARNING: Running pip as the 'root' user can result in broken permissions and conflicting behaviour with the system package manager. It is recommended to use a virtual environment instead: https://pip.pypa.io/warnings/venv\n"
     ]
    },
    {
     "name": "stdout",
     "output_type": "stream",
     "text": [
      "Collecting tokenizers==0.12.1\n",
      "  Downloading tokenizers-0.12.1-cp39-cp39-manylinux_2_12_x86_64.manylinux2010_x86_64.whl (6.6 MB)\n",
      "     ━━━━━━━━━━━━━━━━━━━━━━━━━━━━━━━━━━━━━━━━ 6.6/6.6 MB 45.8 MB/s eta 0:00:00\n",
      "Installing collected packages: tokenizers\n",
      "Successfully installed tokenizers-0.12.1\n"
     ]
    },
    {
     "name": "stderr",
     "output_type": "stream",
     "text": [
      "WARNING: Running pip as the 'root' user can result in broken permissions and conflicting behaviour with the system package manager. It is recommended to use a virtual environment instead: https://pip.pypa.io/warnings/venv\n"
     ]
    },
    {
     "name": "stdout",
     "output_type": "stream",
     "text": [
      "Collecting transformers==4.20.1\n",
      "  Downloading transformers-4.20.1-py3-none-any.whl (4.4 MB)\n",
      "     ━━━━━━━━━━━━━━━━━━━━━━━━━━━━━━━━━━━━━━━━ 4.4/4.4 MB 83.2 MB/s eta 0:00:00\n",
      "Requirement already satisfied: pyyaml>=5.1 in /opt/conda/envs/rapids/lib/python3.9/site-packages (from transformers==4.20.1) (6.0)\n",
      "Requirement already satisfied: numpy>=1.17 in /opt/conda/envs/rapids/lib/python3.9/site-packages (from transformers==4.20.1) (1.23.4)\n",
      "Requirement already satisfied: requests in /opt/conda/envs/rapids/lib/python3.9/site-packages (from transformers==4.20.1) (2.28.1)\n",
      "Collecting regex!=2019.12.17\n",
      "  Downloading regex-2022.10.31-cp39-cp39-manylinux_2_17_x86_64.manylinux2014_x86_64.whl (769 kB)\n",
      "     ━━━━━━━━━━━━━━━━━━━━━━━━━━━━━━━━━━━━━ 770.0/770.0 kB 102.0 MB/s eta 0:00:00\n",
      "Collecting huggingface-hub<1.0,>=0.1.0\n",
      "  Downloading huggingface_hub-0.12.1-py3-none-any.whl (190 kB)\n",
      "     ━━━━━━━━━━━━━━━━━━━━━━━━━━━━━━━━━━━━━━ 190.3/190.3 kB 58.8 MB/s eta 0:00:00\n",
      "Requirement already satisfied: tqdm>=4.27 in /opt/conda/envs/rapids/lib/python3.9/site-packages (from transformers==4.20.1) (4.64.1)\n",
      "Requirement already satisfied: packaging>=20.0 in /opt/conda/envs/rapids/lib/python3.9/site-packages (from transformers==4.20.1) (21.3)\n",
      "Collecting filelock\n",
      "  Downloading filelock-3.9.0-py3-none-any.whl (9.7 kB)\n",
      "Requirement already satisfied: tokenizers!=0.11.3,<0.13,>=0.11.1 in /opt/conda/envs/rapids/lib/python3.9/site-packages (from transformers==4.20.1) (0.12.1)\n",
      "Requirement already satisfied: typing-extensions>=3.7.4.3 in /opt/conda/envs/rapids/lib/python3.9/site-packages (from huggingface-hub<1.0,>=0.1.0->transformers==4.20.1) (4.4.0)\n",
      "Requirement already satisfied: pyparsing!=3.0.5,>=2.0.2 in /opt/conda/envs/rapids/lib/python3.9/site-packages (from packaging>=20.0->transformers==4.20.1) (3.0.9)\n",
      "Requirement already satisfied: idna<4,>=2.5 in /opt/conda/envs/rapids/lib/python3.9/site-packages (from requests->transformers==4.20.1) (3.4)\n",
      "Requirement already satisfied: charset-normalizer<3,>=2 in /opt/conda/envs/rapids/lib/python3.9/site-packages (from requests->transformers==4.20.1) (2.1.1)\n",
      "Requirement already satisfied: urllib3<1.27,>=1.21.1 in /opt/conda/envs/rapids/lib/python3.9/site-packages (from requests->transformers==4.20.1) (1.26.11)\n",
      "Requirement already satisfied: certifi>=2017.4.17 in /opt/conda/envs/rapids/lib/python3.9/site-packages (from requests->transformers==4.20.1) (2022.9.24)\n",
      "Installing collected packages: regex, filelock, huggingface-hub, transformers\n",
      "Successfully installed filelock-3.9.0 huggingface-hub-0.12.1 regex-2022.10.31 transformers-4.20.1\n"
     ]
    },
    {
     "name": "stderr",
     "output_type": "stream",
     "text": [
      "WARNING: Running pip as the 'root' user can result in broken permissions and conflicting behaviour with the system package manager. It is recommended to use a virtual environment instead: https://pip.pypa.io/warnings/venv\n"
     ]
    },
    {
     "data": {
      "text/plain": [
       "0"
      ]
     },
     "execution_count": 5,
     "metadata": {},
     "output_type": "execute_result"
    }
   ],
   "source": [
    "os.system(\"pip3 install torch==1.12.0 --extra-index-url https://download.pytorch.org/whl/cu116\")\n",
    "os.system(\"pip install tokenizers==0.12.1\")\n",
    "os.system(\"pip install transformers==4.20.1\")"
   ]
  },
  {
   "cell_type": "code",
   "execution_count": 6,
   "id": "a09c789d-506f-4886-b7ee-c222198479fc",
   "metadata": {
    "tags": []
   },
   "outputs": [
    {
     "name": "stdout",
     "output_type": "stream",
     "text": [
      "Sun Mar  5 00:21:34 2023       \n",
      "+-----------------------------------------------------------------------------+\n",
      "| NVIDIA-SMI 510.73.05    Driver Version: 510.73.05    CUDA Version: 11.6     |\n",
      "|-------------------------------+----------------------+----------------------+\n",
      "| GPU  Name        Persistence-M| Bus-Id        Disp.A | Volatile Uncorr. ECC |\n",
      "| Fan  Temp  Perf  Pwr:Usage/Cap|         Memory-Usage | GPU-Util  Compute M. |\n",
      "|                               |                      |               MIG M. |\n",
      "|===============================+======================+======================|\n",
      "|   0  NVIDIA RTX A6000    Off  | 00000000:00:05.0 Off |                  Off |\n",
      "| 30%   40C    P8    19W / 300W |      0MiB / 49140MiB |      0%      Default |\n",
      "|                               |                      |                  N/A |\n",
      "+-------------------------------+----------------------+----------------------+\n",
      "                                                                               \n",
      "+-----------------------------------------------------------------------------+\n",
      "| Processes:                                                                  |\n",
      "|  GPU   GI   CI        PID   Type   Process name                  GPU Memory |\n",
      "|        ID   ID                                                   Usage      |\n",
      "|=============================================================================|\n",
      "|  No running processes found                                                 |\n",
      "+-----------------------------------------------------------------------------+\n"
     ]
    }
   ],
   "source": [
    "!nvidia-smi"
   ]
  },
  {
   "cell_type": "code",
   "execution_count": 7,
   "id": "b6819dc6-ff40-4f79-8685-02db3c6a8f77",
   "metadata": {
    "autoscroll": "auto",
    "collapsed": false,
    "jupyter": {
     "outputs_hidden": false
    },
    "tags": []
   },
   "outputs": [
    {
     "name": "stdout",
     "output_type": "stream",
     "text": [
      "Collecting python-dotenv\n",
      "  Downloading python_dotenv-1.0.0-py3-none-any.whl (19 kB)\n",
      "Installing collected packages: python-dotenv\n",
      "Successfully installed python-dotenv-1.0.0\n"
     ]
    },
    {
     "name": "stderr",
     "output_type": "stream",
     "text": [
      "WARNING: Running pip as the 'root' user can result in broken permissions and conflicting behaviour with the system package manager. It is recommended to use a virtual environment instead: https://pip.pypa.io/warnings/venv\n"
     ]
    },
    {
     "data": {
      "text/plain": [
       "True"
      ]
     },
     "execution_count": 7,
     "metadata": {},
     "output_type": "execute_result"
    }
   ],
   "source": [
    "import os\n",
    "os.system('pip install python-dotenv')\n",
    "\n",
    "from dotenv import load_dotenv\n",
    "load_dotenv()"
   ]
  },
  {
   "cell_type": "code",
   "execution_count": 8,
   "id": "c95534da-f206-4f29-a023-0b49a499bdf9",
   "metadata": {
    "autoscroll": "auto",
    "collapsed": false,
    "jupyter": {
     "outputs_hidden": false
    },
    "tags": []
   },
   "outputs": [
    {
     "name": "stdout",
     "output_type": "stream",
     "text": [
      "Collecting scikit-learn==1.2.1\n",
      "  Downloading scikit_learn-1.2.1-cp39-cp39-manylinux_2_17_x86_64.manylinux2014_x86_64.whl (9.6 MB)\n",
      "     ━━━━━━━━━━━━━━━━━━━━━━━━━━━━━━━━━━━━━━━━ 9.6/9.6 MB 98.0 MB/s eta 0:00:00\n",
      "Requirement already satisfied: scipy>=1.3.2 in /opt/conda/envs/rapids/lib/python3.9/site-packages (from scikit-learn==1.2.1) (1.6.0)\n",
      "Requirement already satisfied: joblib>=1.1.1 in /opt/conda/envs/rapids/lib/python3.9/site-packages (from scikit-learn==1.2.1) (1.2.0)\n",
      "Requirement already satisfied: numpy>=1.17.3 in /opt/conda/envs/rapids/lib/python3.9/site-packages (from scikit-learn==1.2.1) (1.23.4)\n",
      "Requirement already satisfied: threadpoolctl>=2.0.0 in /opt/conda/envs/rapids/lib/python3.9/site-packages (from scikit-learn==1.2.1) (3.1.0)\n",
      "Installing collected packages: scikit-learn\n",
      "  Attempting uninstall: scikit-learn\n",
      "    Found existing installation: scikit-learn 0.24.2\n",
      "    Uninstalling scikit-learn-0.24.2:\n",
      "      Successfully uninstalled scikit-learn-0.24.2\n",
      "Successfully installed scikit-learn-1.2.1\n"
     ]
    },
    {
     "name": "stderr",
     "output_type": "stream",
     "text": [
      "WARNING: Running pip as the 'root' user can result in broken permissions and conflicting behaviour with the system package manager. It is recommended to use a virtual environment instead: https://pip.pypa.io/warnings/venv\n"
     ]
    },
    {
     "data": {
      "text/plain": [
       "0"
      ]
     },
     "execution_count": 8,
     "metadata": {},
     "output_type": "execute_result"
    }
   ],
   "source": [
    "os.system(\"pip install scikit-learn==1.2.1\")"
   ]
  },
  {
   "cell_type": "code",
   "execution_count": 9,
   "id": "b47ca7ea-1fca-4054-b2f0-579897678bbd",
   "metadata": {
    "tags": []
   },
   "outputs": [
    {
     "name": "stdout",
     "output_type": "stream",
     "text": [
      "Collecting lightgbm\n",
      "  Downloading lightgbm-3.3.5-py3-none-manylinux1_x86_64.whl (2.0 MB)\n",
      "\u001b[2K     \u001b[90m━━━━━━━━━━━━━━━━━━━━━━━━━━━━━━━━━━━━━━━━\u001b[0m \u001b[32m2.0/2.0 MB\u001b[0m \u001b[31m87.6 MB/s\u001b[0m eta \u001b[36m0:00:00\u001b[0m\n",
      "\u001b[?25hRequirement already satisfied: numpy in /opt/conda/envs/rapids/lib/python3.9/site-packages (from lightgbm) (1.23.4)\n",
      "Requirement already satisfied: scipy in /opt/conda/envs/rapids/lib/python3.9/site-packages (from lightgbm) (1.6.0)\n",
      "Requirement already satisfied: wheel in /opt/conda/envs/rapids/lib/python3.9/site-packages (from lightgbm) (0.37.1)\n",
      "Requirement already satisfied: scikit-learn!=0.22.0 in /opt/conda/envs/rapids/lib/python3.9/site-packages (from lightgbm) (1.2.1)\n",
      "Requirement already satisfied: threadpoolctl>=2.0.0 in /opt/conda/envs/rapids/lib/python3.9/site-packages (from scikit-learn!=0.22.0->lightgbm) (3.1.0)\n",
      "Requirement already satisfied: joblib>=1.1.1 in /opt/conda/envs/rapids/lib/python3.9/site-packages (from scikit-learn!=0.22.0->lightgbm) (1.2.0)\n",
      "Installing collected packages: lightgbm\n",
      "Successfully installed lightgbm-3.3.5\n",
      "\u001b[33mWARNING: Running pip as the 'root' user can result in broken permissions and conflicting behaviour with the system package manager. It is recommended to use a virtual environment instead: https://pip.pypa.io/warnings/venv\u001b[0m\u001b[33m\n",
      "\u001b[0m"
     ]
    }
   ],
   "source": [
    "!pip install lightgbm"
   ]
  },
  {
   "cell_type": "code",
   "execution_count": 10,
   "id": "2af13c3b",
   "metadata": {
    "papermill": {
     "duration": 7.561173,
     "end_time": "2023-02-11T02:05:08.553027",
     "exception": false,
     "start_time": "2023-02-11T02:05:00.991854",
     "status": "completed"
    },
    "tags": []
   },
   "outputs": [
    {
     "name": "stdout",
     "output_type": "stream",
     "text": [
      "env: TOKENIZERS_PARALLELISM=true\n"
     ]
    }
   ],
   "source": [
    "# =========================================================================================\n",
    "# Libraries\n",
    "# =========================================================================================\n",
    "import os\n",
    "import gc\n",
    "import time\n",
    "import pickle\n",
    "import math\n",
    "import random\n",
    "import warnings\n",
    "warnings.filterwarnings(\"ignore\")\n",
    "import numpy as np\n",
    "import pandas as pd\n",
    "from tqdm.auto import tqdm\n",
    "import torch\n",
    "import torch.nn as nn\n",
    "from torch.optim import AdamW\n",
    "from torch.utils.data import DataLoader, Dataset\n",
    "from torch.utils.checkpoint import checkpoint\n",
    "import lightgbm as lgb\n",
    "import tokenizers\n",
    "import transformers\n",
    "from transformers import AutoTokenizer, AutoModel, AutoConfig\n",
    "from transformers import get_cosine_schedule_with_warmup, DataCollatorWithPadding\n",
    "from sklearn.model_selection import StratifiedGroupKFold\n",
    "%env TOKENIZERS_PARALLELISM=true\n",
    "device = torch.device('cuda' if torch.cuda.is_available() else 'cpu')"
   ]
  },
  {
   "cell_type": "code",
   "execution_count": 11,
   "id": "7f108c3d",
   "metadata": {
    "papermill": {
     "duration": 0.01567,
     "end_time": "2023-02-11T02:05:08.574968",
     "exception": false,
     "start_time": "2023-02-11T02:05:08.559298",
     "status": "completed"
    },
    "tags": []
   },
   "outputs": [],
   "source": [
    "# =========================================================================================\n",
    "# Configurations\n",
    "# =========================================================================================\n",
    "class CFG:\n",
    "    debug = False\n",
    "    upload_data = True\n",
    "    wandb = True\n",
    "    print_freq = 500\n",
    "    num_workers = 4\n",
    "    # model = \"xlm-roberta-base\"\n",
    "    model = \"/notebooks/kaggle_lecr/data/lecr-finetune-para-mpnet-parent-text-data/paraphrase-multilingual-mpnet-base-v2-exp\"\n",
    "    tokenizer = AutoTokenizer.from_pretrained(model)\n",
    "    gradient_checkpointing = False\n",
    "    num_cycles = 0.5\n",
    "    warmup_ratio = 0.1\n",
    "    encoder_lr = 1e-5\n",
    "    decoder_lr = 1e-4\n",
    "    eps = 1e-6\n",
    "    betas = (0.9, 0.999)\n",
    "    batch_size = 128#368# 32#128#64#32\n",
    "    weight_decay = 0.01\n",
    "    max_grad_norm = 0.012\n",
    "    max_len = 512\n",
    "    n_folds = 5\n",
    "    seed = 42\n",
    "    epochs = 5\n",
    "    data_url = \"/notebooks/kaggle_lecr/data/learning-equality-curriculum-recommendations\"\n",
    "    train_set_url = \"/notebooks/kaggle_lecr/output/ex12-uns-top50\"\n",
    "    vector_name = [f\"feat_{i}\" for i in range(768)]\n",
    "    svd_n_components = 100\n",
    "    svd_vector_name = [f\"svd_feat_{i}\" for i in range(svd_n_components)]"
   ]
  },
  {
   "cell_type": "code",
   "execution_count": 10,
   "id": "bf556033-94aa-4878-9379-1cd79a7bc14d",
   "metadata": {
    "autoscroll": "auto",
    "collapsed": false,
    "execution": {
     "iopub.execute_input": "2023-03-03T10:25:42.169947Z",
     "iopub.status.busy": "2023-03-03T10:25:42.169757Z",
     "iopub.status.idle": "2023-03-03T10:25:50.556901Z",
     "shell.execute_reply": "2023-03-03T10:25:50.556412Z"
    },
    "jupyter": {
     "outputs_hidden": false
    }
   },
   "outputs": [
    {
     "data": {
      "text/html": [
       "wandb version 0.13.10 is available!  To upgrade, please run:\n",
       " $ pip install wandb --upgrade"
      ],
      "text/plain": [
       "<IPython.core.display.HTML object>"
      ]
     },
     "metadata": {},
     "output_type": "display_data"
    },
    {
     "data": {
      "text/html": [
       "Tracking run with wandb version 0.13.3"
      ],
      "text/plain": [
       "<IPython.core.display.HTML object>"
      ]
     },
     "metadata": {},
     "output_type": "display_data"
    },
    {
     "data": {
      "text/html": [
       "Run data is saved locally in <code>/notebooks/kaggle_lecr/wandb/run-20230303_102545-2jl64be9</code>"
      ],
      "text/plain": [
       "<IPython.core.display.HTML object>"
      ]
     },
     "metadata": {},
     "output_type": "display_data"
    },
    {
     "data": {
      "text/html": [
       "Syncing run <strong><a href=\"https://wandb.ai/sinchir0/LECR/runs/2jl64be9\" target=\"_blank\">ex14-trn-lightgbm</a></strong> to <a href=\"https://wandb.ai/sinchir0/LECR\" target=\"_blank\">Weights & Biases</a> (<a href=\"https://wandb.me/run\" target=\"_blank\">docs</a>)<br/>"
      ],
      "text/plain": [
       "<IPython.core.display.HTML object>"
      ]
     },
     "metadata": {},
     "output_type": "display_data"
    }
   ],
   "source": [
    "# ====================================================\n",
    "# wandb\n",
    "# ====================================================\n",
    "if CFG.wandb:\n",
    "    os.system('pip install wandb==0.13.3')\n",
    "    import wandb\n",
    "\n",
    "    try:\n",
    "        # for kaggle\n",
    "        # from kaggle_secrets import UserSecretsClient\n",
    "        # user_secrets = UserSecretsClient()\n",
    "        # secret_value_0 = user_secrets.get_secret(\"wandb_api\")\n",
    "        \n",
    "        # for paperspace\n",
    "        secret_value_0 = os.getenv('WANDB_API_KEY')\n",
    "        wandb.login(key=secret_value_0)\n",
    "        \n",
    "        anony = None\n",
    "    except:\n",
    "        anony = \"must\"\n",
    "        print('If you want to use your W&B account, go to Add-ons -> Secrets and provide your W&B access token. Use the Label name as wandb_api. \\nGet your W&B access token from here: https://wandb.ai/authorize')\n",
    "\n",
    "\n",
    "    def class2dict(f):\n",
    "        return dict((name, getattr(f, name)) for name in dir(f) if not name.startswith('__'))\n",
    "\n",
    "    run = wandb.init(project='LECR',\n",
    "                     entity=\"sinchir0\",\n",
    "                     name=NOTEBOOK_NAME,\n",
    "                     config=class2dict(CFG),\n",
    "                     group=\"trn\",\n",
    "                     job_type=\"train\",\n",
    "                     anonymous=anony)"
   ]
  },
  {
   "cell_type": "code",
   "execution_count": 11,
   "id": "aea8f99c",
   "metadata": {
    "execution": {
     "iopub.execute_input": "2023-03-03T10:25:50.559697Z",
     "iopub.status.busy": "2023-03-03T10:25:50.559370Z",
     "iopub.status.idle": "2023-03-03T10:25:50.598173Z",
     "shell.execute_reply": "2023-03-03T10:25:50.597694Z"
    },
    "papermill": {
     "duration": 0.014544,
     "end_time": "2023-02-11T02:05:08.595307",
     "exception": false,
     "start_time": "2023-02-11T02:05:08.580763",
     "status": "completed"
    },
    "tags": []
   },
   "outputs": [],
   "source": [
    "# =========================================================================================\n",
    "# Seed everything for deterministic results\n",
    "# =========================================================================================\n",
    "def seed_everything(cfg):\n",
    "    random.seed(cfg.seed)\n",
    "    os.environ['PYTHONHASHSEED'] = str(cfg.seed)\n",
    "    np.random.seed(cfg.seed)\n",
    "    torch.manual_seed(cfg.seed)\n",
    "    torch.cuda.manual_seed(cfg.seed)\n",
    "    torch.backends.cudnn.deterministic = True"
   ]
  },
  {
   "cell_type": "code",
   "execution_count": 12,
   "id": "0fd14795",
   "metadata": {
    "execution": {
     "iopub.execute_input": "2023-03-03T10:25:50.600540Z",
     "iopub.status.busy": "2023-03-03T10:25:50.600378Z",
     "iopub.status.idle": "2023-03-03T10:25:50.609355Z",
     "shell.execute_reply": "2023-03-03T10:25:50.608852Z"
    },
    "papermill": {
     "duration": 0.015773,
     "end_time": "2023-02-11T02:05:08.616987",
     "exception": false,
     "start_time": "2023-02-11T02:05:08.601214",
     "status": "completed"
    },
    "tags": []
   },
   "outputs": [],
   "source": [
    "# =========================================================================================\n",
    "# Data Loading\n",
    "# =========================================================================================\n",
    "def read_data(cfg):\n",
    "    # train = pd.read_csv(f\"{cfg.train_set_url}/train.csv\")\n",
    "    # train = pd.read_pickle(f\"{cfg.train_set_url}/train.pkl\")\n",
    "    train = pd.read_csv(f\"{cfg.train_set_url}/train_50.csv\")\n",
    "    train[\"content_titles\"] = train[\"content_titles\"].fillna(\"\")\n",
    "    \n",
    "    topics = pd.read_csv(cfg.data_url + \"/\" + \"topics.csv\")\n",
    "    content = pd.read_csv(cfg.data_url + \"/\" + \"content.csv\")\n",
    "    correlations = pd.read_csv(cfg.data_url + \"/\" + \"correlations.csv\")\n",
    "\n",
    "    topics[\"title\"] = topics[\"title\"].fillna(\"\")\n",
    "    content[\"title\"] = content[\"title\"].fillna(\"\")\n",
    "    \n",
    "    topics[\"description\"] = topics[\"description\"].fillna(\"\")\n",
    "    content[\"description\"] = content[\"description\"].fillna(\"\")\n",
    "    \n",
    "    content['text'] = content['text'].fillna(\"\")\n",
    "    \n",
    "    print(' ')\n",
    "    print('-' * 50)\n",
    "    print(f\"train.shape: {train.shape}\")\n",
    "    print(f\"correlations.shape: {correlations.shape}\")\n",
    "    return train, topics, content, correlations"
   ]
  },
  {
   "cell_type": "code",
   "execution_count": 13,
   "id": "c7007386",
   "metadata": {
    "execution": {
     "iopub.execute_input": "2023-03-03T10:25:50.611994Z",
     "iopub.status.busy": "2023-03-03T10:25:50.611823Z",
     "iopub.status.idle": "2023-03-03T10:25:50.627746Z",
     "shell.execute_reply": "2023-03-03T10:25:50.627258Z"
    },
    "papermill": {
     "duration": 0.016546,
     "end_time": "2023-02-11T02:05:08.702048",
     "exception": false,
     "start_time": "2023-02-11T02:05:08.685502",
     "status": "completed"
    },
    "tags": []
   },
   "outputs": [],
   "source": [
    "# =========================================================================================\n",
    "# F2 score metric\n",
    "# =========================================================================================\n",
    "def f2_score(y_true, y_pred):\n",
    "    y_true = y_true.apply(lambda x: set(x.split()))\n",
    "    y_pred = y_pred.apply(lambda x: set(x.split()))\n",
    "    tp = np.array([len(x[0] & x[1]) for x in zip(y_true, y_pred)])\n",
    "    fp = np.array([len(x[1] - x[0]) for x in zip(y_true, y_pred)])\n",
    "    fn = np.array([len(x[0] - x[1]) for x in zip(y_true, y_pred)])\n",
    "    precision = tp / (tp + fp)\n",
    "    recall = tp / (tp + fn)\n",
    "    f2 = tp / (tp + 0.2 * fp + 0.8 * fn)\n",
    "    return round(f2.mean(), 4)"
   ]
  },
  {
   "cell_type": "code",
   "execution_count": 14,
   "id": "cc8d29cf",
   "metadata": {
    "execution": {
     "iopub.execute_input": "2023-03-03T10:25:50.629886Z",
     "iopub.status.busy": "2023-03-03T10:25:50.629710Z",
     "iopub.status.idle": "2023-03-03T10:25:50.637766Z",
     "shell.execute_reply": "2023-03-03T10:25:50.637328Z"
    },
    "papermill": {
     "duration": 0.058232,
     "end_time": "2023-02-11T02:05:08.787596",
     "exception": false,
     "start_time": "2023-02-11T02:05:08.729364",
     "status": "completed"
    },
    "tags": []
   },
   "outputs": [],
   "source": [
    "# =========================================================================================\n",
    "# Get best threshold\n",
    "# =========================================================================================\n",
    "def get_best_threshold(x_val, val_predictions, correlations):\n",
    "    best_score = 0\n",
    "    best_threshold = None\n",
    "    for thres in np.arange(0.001, 0.1, 0.001):\n",
    "        x_val['predictions'] = np.where(val_predictions > thres, 1, 0)\n",
    "        x_val1 = x_val[x_val['predictions'] == 1]\n",
    "        x_val1 = x_val1.groupby(['topics_ids'])['content_ids'].unique().reset_index()\n",
    "        x_val1['content_ids'] = x_val1['content_ids'].apply(lambda x: ' '.join(x))\n",
    "        x_val1.columns = ['topic_id', 'predictions']\n",
    "        x_val0 = pd.Series(x_val['topics_ids'].unique())\n",
    "        x_val0 = x_val0[~x_val0.isin(x_val1['topic_id'])]\n",
    "        x_val0 = pd.DataFrame({'topic_id': x_val0.values, 'predictions': \"\"})\n",
    "        x_val_r = pd.concat([x_val1, x_val0], axis = 0, ignore_index = True)\n",
    "        x_val_r = x_val_r.merge(correlations, how = 'left', on = 'topic_id')\n",
    "        score = f2_score(x_val_r['content_ids'], x_val_r['predictions'])\n",
    "        if score > best_score:\n",
    "            best_score = score\n",
    "            best_threshold = thres\n",
    "    return best_score, best_threshold\n"
   ]
  },
  {
   "cell_type": "code",
   "execution_count": 15,
   "id": "f3f57c04",
   "metadata": {
    "execution": {
     "iopub.execute_input": "2023-03-03T10:25:50.640132Z",
     "iopub.status.busy": "2023-03-03T10:25:50.639968Z",
     "iopub.status.idle": "2023-03-03T10:25:50.646792Z",
     "shell.execute_reply": "2023-03-03T10:25:50.646279Z"
    },
    "papermill": {
     "duration": 0.019865,
     "end_time": "2023-02-11T02:05:08.813594",
     "exception": false,
     "start_time": "2023-02-11T02:05:08.793729",
     "status": "completed"
    },
    "tags": []
   },
   "outputs": [],
   "source": [
    "# Seed everything\n",
    "seed_everything(CFG)"
   ]
  },
  {
   "cell_type": "code",
   "execution_count": 16,
   "id": "75b78f49",
   "metadata": {
    "execution": {
     "iopub.execute_input": "2023-03-03T10:25:50.649046Z",
     "iopub.status.busy": "2023-03-03T10:25:50.648879Z",
     "iopub.status.idle": "2023-03-03T10:26:05.749834Z",
     "shell.execute_reply": "2023-03-03T10:26:05.749169Z"
    },
    "papermill": {
     "duration": 22.091749,
     "end_time": "2023-02-11T02:05:30.911554",
     "exception": false,
     "start_time": "2023-02-11T02:05:08.819805",
     "status": "completed"
    },
    "tags": []
   },
   "outputs": [],
   "source": [
    "# Read data\n",
    "train, topics, content, correlations = read_data(CFG)"
   ]
  },
  {
   "cell_type": "code",
   "execution_count": 17,
   "id": "07e4ae1f-e06f-4ed3-b3a9-3bebe8d28eda",
   "metadata": {
    "execution": {
     "iopub.execute_input": "2023-03-03T10:26:05.779946Z",
     "iopub.status.busy": "2023-03-03T10:26:05.779694Z",
     "iopub.status.idle": "2023-03-03T10:26:06.243375Z",
     "shell.execute_reply": "2023-03-03T10:26:06.242769Z"
    }
   },
   "outputs": [],
   "source": [
    "train = train.rename(columns={\"topics_titles\":\"topics_texts\",\"content_titles\":\"content_texts\"})"
   ]
  },
  {
   "cell_type": "code",
   "execution_count": 18,
   "id": "a72c73ae-6a03-4db9-8f7f-eba633295b17",
   "metadata": {
    "autoscroll": "auto",
    "collapsed": false,
    "execution": {
     "iopub.execute_input": "2023-03-03T10:26:06.246175Z",
     "iopub.status.busy": "2023-03-03T10:26:06.245988Z",
     "iopub.status.idle": "2023-03-03T10:26:07.156006Z",
     "shell.execute_reply": "2023-03-03T10:26:07.155482Z"
    },
    "jupyter": {
     "outputs_hidden": false
    },
    "tags": []
   },
   "outputs": [
    {
     "data": {
      "text/plain": [
       "topics_ids       0\n",
       "content_ids      0\n",
       "topics_texts     0\n",
       "content_texts    0\n",
       "target           0\n",
       "dtype: int64"
      ]
     },
     "execution_count": 18,
     "metadata": {},
     "output_type": "execute_result"
    }
   ],
   "source": [
    "train.isnull().sum()"
   ]
  },
  {
   "cell_type": "code",
   "execution_count": 19,
   "id": "b0e6c17a-1e04-43e3-8522-645a7e50d555",
   "metadata": {
    "execution": {
     "iopub.execute_input": "2023-03-03T10:26:07.159043Z",
     "iopub.status.busy": "2023-03-03T10:26:07.158837Z",
     "iopub.status.idle": "2023-03-03T10:26:11.270561Z",
     "shell.execute_reply": "2023-03-03T10:26:11.269862Z"
    },
    "tags": []
   },
   "outputs": [],
   "source": [
    "# positive sampleを足す\n",
    "def add_positive_sample(train: pd.DataFrame, correlations: pd.DataFrame, topics: pd.DataFrame, content: pd.DataFrame):\n",
    "    \n",
    "    # topic_text_dict = dict(zip(topics[\"id\"], topics['title'] + \" \" + topics['description']))\n",
    "    # content_text_dict = dict(zip(content[\"id\"], content['title'] + \" \" + content['description']))\n",
    "    topic_text_dict = dict(zip(topics[\"id\"], topics['title']))\n",
    "    content_text_dict = dict(zip(content[\"id\"], content['title']))\n",
    "    \n",
    "    correlations[\"content_ids_list\"] = correlations[\"content_ids\"].apply(lambda x : x.split())\n",
    "    \n",
    "    all_positive_sample = correlations.explode(\"content_ids_list\")[[\"topic_id\",\"content_ids_list\"]]\n",
    "    all_positive_sample = all_positive_sample.rename(columns={\"topic_id\":\"topics_ids\",\"content_ids_list\":\"content_ids\"})\n",
    "    \n",
    "    all_positive_sample[\"topics_texts\"] = all_positive_sample[\"topics_ids\"].map(topic_text_dict)\n",
    "    all_positive_sample[\"content_texts\"] = all_positive_sample[\"content_ids\"].map(content_text_dict)\n",
    "    all_positive_sample[\"target\"] = 1\n",
    "    \n",
    "    all_positive_sample = all_positive_sample.reset_index(drop=True)\n",
    "    \n",
    "    # 追加するtopic, contentのみを持つlistを生成\n",
    "    all_positive_topic_content = (all_positive_sample[\"topics_ids\"] + all_positive_sample[\"content_ids\"]).tolist()\n",
    "    train_positive = train[train[\"target\"] == 1]\n",
    "    train_positive_topic_content = (train_positive[\"topics_ids\"] + train_positive[\"content_ids\"]).tolist()\n",
    "    add_topic_content = list(set(all_positive_topic_content) - set(train_positive_topic_content))\n",
    "    \n",
    "    # trainにpositive sampleを追加\n",
    "    train = pd.concat([train, all_positive_sample]).drop_duplicates(subset=[\"topics_ids\",\"content_ids\"], keep='first')\n",
    "    train = train.sort_values(\"topics_ids\")\n",
    "    train = train.reset_index(drop=True)\n",
    "\n",
    "    return train, add_topic_content\n",
    "\n",
    "train, add_topic_content = add_positive_sample(train, correlations, topics, content)"
   ]
  },
  {
   "cell_type": "code",
   "execution_count": 20,
   "id": "67fa349b-7b57-43d6-844e-533dbbeced8a",
   "metadata": {
    "autoscroll": "auto",
    "collapsed": false,
    "execution": {
     "iopub.execute_input": "2023-03-03T10:26:11.273334Z",
     "iopub.status.busy": "2023-03-03T10:26:11.273146Z",
     "iopub.status.idle": "2023-03-03T10:26:11.282226Z",
     "shell.execute_reply": "2023-03-03T10:26:11.281734Z"
    },
    "jupyter": {
     "outputs_hidden": false
    },
    "tags": []
   },
   "outputs": [],
   "source": [
    "# train[\"topics_texts\"] = train[\"topics_texts\"].apply(lambda x: x[:300])\n",
    "# train[\"content_texts\"] = train[\"content_texts\"].apply(lambda x: x[:300])"
   ]
  },
  {
   "cell_type": "code",
   "execution_count": 21,
   "id": "53157afd-2fbf-4421-adf2-b6cd94da55fa",
   "metadata": {
    "autoscroll": "auto",
    "collapsed": false,
    "execution": {
     "iopub.execute_input": "2023-03-03T10:26:11.284212Z",
     "iopub.status.busy": "2023-03-03T10:26:11.284042Z",
     "iopub.status.idle": "2023-03-03T10:26:11.294592Z",
     "shell.execute_reply": "2023-03-03T10:26:11.293998Z"
    },
    "jupyter": {
     "outputs_hidden": false
    }
   },
   "outputs": [
    {
     "data": {
      "text/html": [
       "<div>\n",
       "<style scoped>\n",
       "    .dataframe tbody tr th:only-of-type {\n",
       "        vertical-align: middle;\n",
       "    }\n",
       "\n",
       "    .dataframe tbody tr th {\n",
       "        vertical-align: top;\n",
       "    }\n",
       "\n",
       "    .dataframe thead th {\n",
       "        text-align: right;\n",
       "    }\n",
       "</style>\n",
       "<table border=\"1\" class=\"dataframe\">\n",
       "  <thead>\n",
       "    <tr style=\"text-align: right;\">\n",
       "      <th></th>\n",
       "      <th>topics_ids</th>\n",
       "      <th>content_ids</th>\n",
       "      <th>topics_texts</th>\n",
       "      <th>content_texts</th>\n",
       "      <th>target</th>\n",
       "    </tr>\n",
       "  </thead>\n",
       "  <tbody>\n",
       "    <tr>\n",
       "      <th>0</th>\n",
       "      <td>t_00004da3a1b2</td>\n",
       "      <td>c_6cd1bd6f1e49</td>\n",
       "      <td>Откриването на резисторите &gt; Открития и проект...</td>\n",
       "      <td>Диелектрици в кондензатори</td>\n",
       "      <td>0</td>\n",
       "    </tr>\n",
       "    <tr>\n",
       "      <th>1</th>\n",
       "      <td>t_00004da3a1b2</td>\n",
       "      <td>c_c8184b4bba5d</td>\n",
       "      <td>Откриването на резисторите &gt; Открития и проект...</td>\n",
       "      <td>Електричен ток</td>\n",
       "      <td>0</td>\n",
       "    </tr>\n",
       "    <tr>\n",
       "      <th>2</th>\n",
       "      <td>t_00004da3a1b2</td>\n",
       "      <td>c_678145c4cfe4</td>\n",
       "      <td>Откриването на резисторите &gt; Открития и проект...</td>\n",
       "      <td>Кондензатори и капацитет</td>\n",
       "      <td>0</td>\n",
       "    </tr>\n",
       "    <tr>\n",
       "      <th>3</th>\n",
       "      <td>t_00004da3a1b2</td>\n",
       "      <td>c_ded49059e260</td>\n",
       "      <td>Откриването на резисторите &gt; Открития и проект...</td>\n",
       "      <td>Задача за събиране на съпротивления</td>\n",
       "      <td>0</td>\n",
       "    </tr>\n",
       "    <tr>\n",
       "      <th>4</th>\n",
       "      <td>t_00004da3a1b2</td>\n",
       "      <td>c_0c885859d4fa</td>\n",
       "      <td>Откриването на резисторите &gt; Открития и проект...</td>\n",
       "      <td>Последователно свързани кондензатори</td>\n",
       "      <td>0</td>\n",
       "    </tr>\n",
       "  </tbody>\n",
       "</table>\n",
       "</div>"
      ],
      "text/plain": [
       "       topics_ids     content_ids  \\\n",
       "0  t_00004da3a1b2  c_6cd1bd6f1e49   \n",
       "1  t_00004da3a1b2  c_c8184b4bba5d   \n",
       "2  t_00004da3a1b2  c_678145c4cfe4   \n",
       "3  t_00004da3a1b2  c_ded49059e260   \n",
       "4  t_00004da3a1b2  c_0c885859d4fa   \n",
       "\n",
       "                                        topics_texts  \\\n",
       "0  Откриването на резисторите > Открития и проект...   \n",
       "1  Откриването на резисторите > Открития и проект...   \n",
       "2  Откриването на резисторите > Открития и проект...   \n",
       "3  Откриването на резисторите > Открития и проект...   \n",
       "4  Откриването на резисторите > Открития и проект...   \n",
       "\n",
       "                          content_texts  target  \n",
       "0            Диелектрици в кондензатори       0  \n",
       "1                        Електричен ток       0  \n",
       "2              Кондензатори и капацитет       0  \n",
       "3   Задача за събиране на съпротивления       0  \n",
       "4  Последователно свързани кондензатори       0  "
      ]
     },
     "execution_count": 21,
     "metadata": {},
     "output_type": "execute_result"
    }
   ],
   "source": [
    "train.head()"
   ]
  },
  {
   "cell_type": "code",
   "execution_count": 22,
   "id": "aaefd9fb-1dfb-4b79-af67-0dac3a505dd4",
   "metadata": {
    "execution": {
     "iopub.execute_input": "2023-03-03T10:26:11.296708Z",
     "iopub.status.busy": "2023-03-03T10:26:11.296533Z",
     "iopub.status.idle": "2023-03-03T10:26:12.519488Z",
     "shell.execute_reply": "2023-03-03T10:26:12.518752Z"
    }
   },
   "outputs": [],
   "source": [
    "# textとしてくっつける\n",
    "def preprocess(train: pd.DataFrame):\n",
    "    # Create feature column\n",
    "    # train['text'] = train['topics_titles'] + '[SEP]' + train['content_titles']\n",
    "    train['text'] = train['topics_texts'] + '[SEP]' + train['content_texts']\n",
    "    return train\n",
    "\n",
    "train = preprocess(train)"
   ]
  },
  {
   "cell_type": "code",
   "execution_count": 23,
   "id": "8423dbbf-336f-4dba-b084-85c5c06f02ff",
   "metadata": {
    "execution": {
     "iopub.execute_input": "2023-03-03T10:26:12.522292Z",
     "iopub.status.busy": "2023-03-03T10:26:12.522093Z",
     "iopub.status.idle": "2023-03-03T10:26:28.690082Z",
     "shell.execute_reply": "2023-03-03T10:26:28.689599Z"
    }
   },
   "outputs": [],
   "source": [
    "# cvを切る\n",
    "def cv_split(train, cfg):\n",
    "    kfold = StratifiedGroupKFold(n_splits = cfg.n_folds, shuffle = True, random_state = cfg.seed)\n",
    "    for num, (train_index, val_index) in enumerate(kfold.split(train, train['target'], train['topics_ids'])):\n",
    "        train.loc[val_index, 'fold'] = int(num)\n",
    "    train['fold'] = train['fold'].astype(int)\n",
    "    return train\n",
    "\n",
    "train = cv_split(train, CFG)"
   ]
  },
  {
   "cell_type": "code",
   "execution_count": 24,
   "id": "84428103-a7be-4cdc-891f-4250af5e45ef",
   "metadata": {
    "execution": {
     "iopub.execute_input": "2023-03-03T10:26:28.692730Z",
     "iopub.status.busy": "2023-03-03T10:26:28.692541Z",
     "iopub.status.idle": "2023-03-03T10:26:28.756884Z",
     "shell.execute_reply": "2023-03-03T10:26:28.756401Z"
    }
   },
   "outputs": [],
   "source": [
    "if CFG.debug:\n",
    "    train = train[:1000]"
   ]
  },
  {
   "cell_type": "code",
   "execution_count": 25,
   "id": "a18005ed-47a4-4d68-9cd9-281f5b45110b",
   "metadata": {
    "execution": {
     "iopub.execute_input": "2023-03-03T10:26:28.759453Z",
     "iopub.status.busy": "2023-03-03T10:26:28.759282Z",
     "iopub.status.idle": "2023-03-03T10:26:30.129561Z",
     "shell.execute_reply": "2023-03-03T10:26:30.128912Z"
    }
   },
   "outputs": [],
   "source": [
    "train = pd.merge(\n",
    "    train,\n",
    "    topics[[\"id\", \"category\", \"level\"]],\n",
    "    left_on=\"topics_ids\",\n",
    "    right_on=\"id\",\n",
    "    how=\"left\").drop(\"id\", axis=1)"
   ]
  },
  {
   "cell_type": "code",
   "execution_count": 26,
   "id": "764d3ec3-98c4-4a38-9e5b-423c3197894d",
   "metadata": {
    "execution": {
     "iopub.execute_input": "2023-03-03T10:26:30.132584Z",
     "iopub.status.busy": "2023-03-03T10:26:30.132395Z",
     "iopub.status.idle": "2023-03-03T10:26:32.507873Z",
     "shell.execute_reply": "2023-03-03T10:26:32.507238Z"
    }
   },
   "outputs": [],
   "source": [
    "train = pd.merge(\n",
    "    train,\n",
    "    content[[\"id\", \"kind\"]],\n",
    "    left_on=\"content_ids\",\n",
    "    right_on=\"id\",\n",
    "    how=\"left\").drop(\"id\", axis=1)"
   ]
  },
  {
   "cell_type": "code",
   "execution_count": 27,
   "id": "b21f9a5c-c79d-4c8b-a1d6-65a1635c61b4",
   "metadata": {
    "execution": {
     "iopub.execute_input": "2023-03-03T10:26:32.510750Z",
     "iopub.status.busy": "2023-03-03T10:26:32.510561Z",
     "iopub.status.idle": "2023-03-03T10:26:33.867322Z",
     "shell.execute_reply": "2023-03-03T10:26:33.866707Z"
    }
   },
   "outputs": [],
   "source": [
    "train = train[~((train[\"category\"] == \"source\") & (train[\"target\"] == 0))].reset_index(drop=True)"
   ]
  },
  {
   "cell_type": "code",
   "execution_count": 28,
   "id": "361b22f3-39b9-438e-b2fa-15df05e279da",
   "metadata": {
    "execution": {
     "iopub.execute_input": "2023-03-03T10:26:33.870260Z",
     "iopub.status.busy": "2023-03-03T10:26:33.870073Z",
     "iopub.status.idle": "2023-03-03T10:26:33.886931Z",
     "shell.execute_reply": "2023-03-03T10:26:33.886355Z"
    }
   },
   "outputs": [],
   "source": [
    "# Fine-tuningしたmpnetでvectorを得る\n",
    "# =========================================================================================\n",
    "# Prepare input, tokenize\n",
    "# =========================================================================================\n",
    "def prepare_input(text, cfg):\n",
    "    inputs = cfg.tokenizer.encode_plus(\n",
    "        text, \n",
    "        return_tensors = None, \n",
    "        add_special_tokens = True, \n",
    "    )\n",
    "    for k, v in inputs.items():\n",
    "        inputs[k] = torch.tensor(v, dtype = torch.long)\n",
    "    return inputs\n",
    "\n",
    "# =========================================================================================\n",
    "# Unsupervised dataset\n",
    "# =========================================================================================\n",
    "class uns_dataset(Dataset):\n",
    "    def __init__(self, df, cfg):\n",
    "        self.cfg = cfg\n",
    "        self.texts = df['text'].values\n",
    "    def __len__(self):\n",
    "        return len(self.texts)\n",
    "    def __getitem__(self, item):\n",
    "        inputs = prepare_input(self.texts[item], self.cfg)\n",
    "        return inputs\n",
    "    \n",
    "# =========================================================================================\n",
    "# Mean pooling class\n",
    "# =========================================================================================\n",
    "class MeanPooling(nn.Module):\n",
    "    def __init__(self):\n",
    "        super(MeanPooling, self).__init__()\n",
    "    def forward(self, last_hidden_state, attention_mask):\n",
    "        input_mask_expanded = attention_mask.unsqueeze(-1).expand(last_hidden_state.size()).float()\n",
    "        sum_embeddings = torch.sum(last_hidden_state * input_mask_expanded, 1)\n",
    "        sum_mask = input_mask_expanded.sum(1)\n",
    "        sum_mask = torch.clamp(sum_mask, min=1e-9)\n",
    "        mean_embeddings = sum_embeddings / sum_mask\n",
    "        return mean_embeddings\n",
    "\n",
    "# =========================================================================================\n",
    "# Unsupervised model\n",
    "# =========================================================================================\n",
    "class uns_model(nn.Module):\n",
    "    def __init__(self, cfg):\n",
    "        super().__init__()\n",
    "        self.cfg = cfg\n",
    "        self.config = AutoConfig.from_pretrained(cfg.model)\n",
    "        self.model = AutoModel.from_pretrained(cfg.model, config = self.config)\n",
    "        self.pool = MeanPooling()\n",
    "    def feature(self, inputs):\n",
    "        outputs = self.model(**inputs)\n",
    "        last_hidden_state = outputs.last_hidden_state\n",
    "        feature = self.pool(last_hidden_state, inputs['attention_mask'])\n",
    "        return feature\n",
    "    def forward(self, inputs):\n",
    "        feature = self.feature(inputs)\n",
    "        return feature\n",
    "    \n",
    "# =========================================================================================\n",
    "# Get embeddings\n",
    "# =========================================================================================\n",
    "def get_embeddings(loader, model, device):\n",
    "    model.eval()\n",
    "    preds = []\n",
    "    for step, inputs in enumerate(tqdm(loader)):\n",
    "        for k, v in inputs.items():\n",
    "            inputs[k] = v.to(device)\n",
    "        with torch.no_grad():\n",
    "            y_preds = model(inputs)\n",
    "        preds.append(y_preds.to('cpu').numpy())\n",
    "    preds = np.concatenate(preds)\n",
    "    return preds\n",
    "    \n",
    "# =========================================================================================\n",
    "# Get Vecotr\n",
    "# =========================================================================================\n",
    "def get_vector(train, cfg):\n",
    "    # Create topics dataset\n",
    "    train_dataset = uns_dataset(train, cfg)\n",
    "    # Create topics and content dataloaders\n",
    "    train_loader = DataLoader(\n",
    "        train_dataset, \n",
    "        batch_size = cfg.batch_size, \n",
    "        shuffle = False, \n",
    "        collate_fn = DataCollatorWithPadding(tokenizer = cfg.tokenizer, padding = 'longest'),\n",
    "        num_workers = cfg.num_workers, \n",
    "        pin_memory = True, \n",
    "        drop_last = False\n",
    "    )\n",
    "    # Create unsupervised model to extract embeddings\n",
    "    model = uns_model(cfg)\n",
    "    model.to(device)\n",
    "    # Predict topics\n",
    "    train_preds = get_embeddings(train_loader, model, device)\n",
    "    \n",
    "    # Release memory\n",
    "    torch.cuda.empty_cache()\n",
    "    del train_dataset, train_loader\n",
    "    gc.collect()\n",
    "    \n",
    "    return train_preds\n",
    "\n",
    "#train_preds = get_vector(train, CFG)"
   ]
  },
  {
   "cell_type": "code",
   "execution_count": 29,
   "id": "b143032d-d8d1-44a5-b299-143f363e2242",
   "metadata": {
    "execution": {
     "iopub.execute_input": "2023-03-03T10:26:33.889269Z",
     "iopub.status.busy": "2023-03-03T10:26:33.889090Z",
     "iopub.status.idle": "2023-03-03T10:26:33.924163Z",
     "shell.execute_reply": "2023-03-03T10:26:33.923687Z"
    }
   },
   "outputs": [],
   "source": [
    "# np.save(f\"{OUTPUT_DIR}/train_preds\", train_preds)"
   ]
  },
  {
   "cell_type": "code",
   "execution_count": 30,
   "id": "35754e73-274e-499a-aa48-66a28d251e1e",
   "metadata": {
    "execution": {
     "iopub.execute_input": "2023-03-03T10:26:33.926450Z",
     "iopub.status.busy": "2023-03-03T10:26:33.926252Z",
     "iopub.status.idle": "2023-03-03T10:26:33.932074Z",
     "shell.execute_reply": "2023-03-03T10:26:33.931616Z"
    }
   },
   "outputs": [],
   "source": [
    "# train_preds = np.load(f\"{OUTPUT_DIR}/train_preds.npy\")"
   ]
  },
  {
   "cell_type": "code",
   "execution_count": 31,
   "id": "f708964f-5327-4c80-b7ba-48289161c1d1",
   "metadata": {
    "execution": {
     "iopub.execute_input": "2023-03-03T10:26:33.934042Z",
     "iopub.status.busy": "2023-03-03T10:26:33.933868Z",
     "iopub.status.idle": "2023-03-03T10:26:33.951697Z",
     "shell.execute_reply": "2023-03-03T10:26:33.951261Z"
    }
   },
   "outputs": [],
   "source": [
    "# # 次元削減を行う\n",
    "# from sklearn.decomposition import TruncatedSVD\n",
    "# from scipy.sparse import csr_matrix\n",
    "\n",
    "# X = csr_matrix(train_preds)\n",
    "# svd = TruncatedSVD(n_components=CFG.svd_n_components, n_iter=7, random_state=42)\n",
    "# svd_vector = svd.fit_transform(X)"
   ]
  },
  {
   "cell_type": "code",
   "execution_count": 32,
   "id": "13c9881f-8b2b-42c5-83f3-63438317a6c6",
   "metadata": {
    "execution": {
     "iopub.execute_input": "2023-03-03T10:26:33.953719Z",
     "iopub.status.busy": "2023-03-03T10:26:33.953549Z",
     "iopub.status.idle": "2023-03-03T10:26:34.175514Z",
     "shell.execute_reply": "2023-03-03T10:26:34.174866Z"
    }
   },
   "outputs": [],
   "source": [
    "# np.save(f\"{OUTPUT_DIR}/svd_vector\", svd_vector)\n",
    "svd_vector = np.load(f\"{OUTPUT_DIR}-for-save/svd_vector.npy\")"
   ]
  },
  {
   "cell_type": "code",
   "execution_count": 33,
   "id": "3012964f-3325-49fd-ba33-ad1e63202f77",
   "metadata": {
    "execution": {
     "iopub.execute_input": "2023-03-03T10:26:34.178293Z",
     "iopub.status.busy": "2023-03-03T10:26:34.178108Z",
     "iopub.status.idle": "2023-03-03T10:26:34.185447Z",
     "shell.execute_reply": "2023-03-03T10:26:34.184834Z"
    }
   },
   "outputs": [],
   "source": [
    "# del train_preds\n",
    "# gc.collect()"
   ]
  },
  {
   "cell_type": "code",
   "execution_count": 34,
   "id": "bb6378ec-ced0-43e9-9278-827451397399",
   "metadata": {
    "execution": {
     "iopub.execute_input": "2023-03-03T10:26:34.188497Z",
     "iopub.status.busy": "2023-03-03T10:26:34.188218Z",
     "iopub.status.idle": "2023-03-03T10:26:35.276026Z",
     "shell.execute_reply": "2023-03-03T10:26:35.275527Z"
    }
   },
   "outputs": [],
   "source": [
    "train[CFG.svd_vector_name] = svd_vector"
   ]
  },
  {
   "cell_type": "code",
   "execution_count": 35,
   "id": "8bbd522a-a8c1-488a-a894-4dbb16506bd4",
   "metadata": {
    "autoscroll": "auto",
    "collapsed": false,
    "execution": {
     "iopub.execute_input": "2023-03-03T10:26:35.278694Z",
     "iopub.status.busy": "2023-03-03T10:26:35.278521Z",
     "iopub.status.idle": "2023-03-03T10:26:35.424161Z",
     "shell.execute_reply": "2023-03-03T10:26:35.423681Z"
    },
    "jupyter": {
     "outputs_hidden": false
    }
   },
   "outputs": [
    {
     "data": {
      "text/plain": [
       "106"
      ]
     },
     "execution_count": 35,
     "metadata": {},
     "output_type": "execute_result"
    }
   ],
   "source": [
    "del svd_vector\n",
    "gc.collect()"
   ]
  },
  {
   "cell_type": "code",
   "execution_count": 36,
   "id": "a504d888-8b24-44d3-a130-ef5865e7dab8",
   "metadata": {
    "execution": {
     "iopub.execute_input": "2023-03-03T10:26:35.426937Z",
     "iopub.status.busy": "2023-03-03T10:26:35.426699Z",
     "iopub.status.idle": "2023-03-03T10:26:35.433317Z",
     "shell.execute_reply": "2023-03-03T10:26:35.432850Z"
    }
   },
   "outputs": [],
   "source": [
    "# train.to_csv(f\"{OUTPUT_DIR}/train_with_vector.csv\", index=False)\n",
    "# train = pd.read_csv(f\"{OUTPUT_DIR}/train_with_vector.csv\")"
   ]
  },
  {
   "cell_type": "code",
   "execution_count": 37,
   "id": "1356e564-1474-4bb7-ac50-79ecc4c11fc2",
   "metadata": {
    "autoscroll": "auto",
    "collapsed": false,
    "execution": {
     "iopub.execute_input": "2023-03-03T10:26:35.435498Z",
     "iopub.status.busy": "2023-03-03T10:26:35.435330Z",
     "iopub.status.idle": "2023-03-03T10:26:35.470984Z",
     "shell.execute_reply": "2023-03-03T10:26:35.470490Z"
    },
    "jupyter": {
     "outputs_hidden": false
    }
   },
   "outputs": [
    {
     "data": {
      "text/html": [
       "<div>\n",
       "<style scoped>\n",
       "    .dataframe tbody tr th:only-of-type {\n",
       "        vertical-align: middle;\n",
       "    }\n",
       "\n",
       "    .dataframe tbody tr th {\n",
       "        vertical-align: top;\n",
       "    }\n",
       "\n",
       "    .dataframe thead th {\n",
       "        text-align: right;\n",
       "    }\n",
       "</style>\n",
       "<table border=\"1\" class=\"dataframe\">\n",
       "  <thead>\n",
       "    <tr style=\"text-align: right;\">\n",
       "      <th></th>\n",
       "      <th>topics_ids</th>\n",
       "      <th>content_ids</th>\n",
       "      <th>topics_texts</th>\n",
       "      <th>content_texts</th>\n",
       "      <th>target</th>\n",
       "      <th>text</th>\n",
       "      <th>fold</th>\n",
       "      <th>category</th>\n",
       "      <th>level</th>\n",
       "      <th>kind</th>\n",
       "      <th>...</th>\n",
       "      <th>svd_feat_90</th>\n",
       "      <th>svd_feat_91</th>\n",
       "      <th>svd_feat_92</th>\n",
       "      <th>svd_feat_93</th>\n",
       "      <th>svd_feat_94</th>\n",
       "      <th>svd_feat_95</th>\n",
       "      <th>svd_feat_96</th>\n",
       "      <th>svd_feat_97</th>\n",
       "      <th>svd_feat_98</th>\n",
       "      <th>svd_feat_99</th>\n",
       "    </tr>\n",
       "  </thead>\n",
       "  <tbody>\n",
       "    <tr>\n",
       "      <th>0</th>\n",
       "      <td>t_00004da3a1b2</td>\n",
       "      <td>c_76231f9d0b5e</td>\n",
       "      <td>Откриването на резисторите &gt; Открития и проект...</td>\n",
       "      <td>Последователно свързване на галваничен елемент...</td>\n",
       "      <td>1</td>\n",
       "      <td>Откриването на резисторите &gt; Открития и проект...</td>\n",
       "      <td>1</td>\n",
       "      <td>source</td>\n",
       "      <td>4</td>\n",
       "      <td>video</td>\n",
       "      <td>...</td>\n",
       "      <td>-0.206004</td>\n",
       "      <td>0.210298</td>\n",
       "      <td>0.045369</td>\n",
       "      <td>-0.138827</td>\n",
       "      <td>-0.053636</td>\n",
       "      <td>-0.112049</td>\n",
       "      <td>0.023230</td>\n",
       "      <td>-0.112240</td>\n",
       "      <td>-0.008163</td>\n",
       "      <td>0.225495</td>\n",
       "    </tr>\n",
       "    <tr>\n",
       "      <th>1</th>\n",
       "      <td>t_00004da3a1b2</td>\n",
       "      <td>c_1108dd0c7a5d</td>\n",
       "      <td>Откриването на резисторите &gt; Открития и проект...</td>\n",
       "      <td>Молив като резистор</td>\n",
       "      <td>1</td>\n",
       "      <td>Откриването на резисторите &gt; Открития и проект...</td>\n",
       "      <td>1</td>\n",
       "      <td>source</td>\n",
       "      <td>4</td>\n",
       "      <td>video</td>\n",
       "      <td>...</td>\n",
       "      <td>-0.169751</td>\n",
       "      <td>0.162981</td>\n",
       "      <td>0.065976</td>\n",
       "      <td>-0.116974</td>\n",
       "      <td>-0.023236</td>\n",
       "      <td>-0.098758</td>\n",
       "      <td>0.038024</td>\n",
       "      <td>-0.093514</td>\n",
       "      <td>-0.046875</td>\n",
       "      <td>0.260005</td>\n",
       "    </tr>\n",
       "    <tr>\n",
       "      <th>2</th>\n",
       "      <td>t_00004da3a1b2</td>\n",
       "      <td>c_5bc0e1e2cba0</td>\n",
       "      <td>Откриването на резисторите &gt; Открития и проект...</td>\n",
       "      <td>Променлив резистор (реостат) с графит от молив</td>\n",
       "      <td>1</td>\n",
       "      <td>Откриването на резисторите &gt; Открития и проект...</td>\n",
       "      <td>1</td>\n",
       "      <td>source</td>\n",
       "      <td>4</td>\n",
       "      <td>video</td>\n",
       "      <td>...</td>\n",
       "      <td>-0.167677</td>\n",
       "      <td>0.143924</td>\n",
       "      <td>0.046197</td>\n",
       "      <td>-0.156766</td>\n",
       "      <td>-0.008850</td>\n",
       "      <td>-0.102681</td>\n",
       "      <td>0.063325</td>\n",
       "      <td>-0.061339</td>\n",
       "      <td>-0.049079</td>\n",
       "      <td>0.214675</td>\n",
       "    </tr>\n",
       "    <tr>\n",
       "      <th>3</th>\n",
       "      <td>t_00004da3a1b2</td>\n",
       "      <td>c_376c5a8eb028</td>\n",
       "      <td>Откриването на резисторите &gt; Открития и проект...</td>\n",
       "      <td>Да чуем променливото съпротивление</td>\n",
       "      <td>1</td>\n",
       "      <td>Откриването на резисторите &gt; Открития и проект...</td>\n",
       "      <td>1</td>\n",
       "      <td>source</td>\n",
       "      <td>4</td>\n",
       "      <td>video</td>\n",
       "      <td>...</td>\n",
       "      <td>-0.161866</td>\n",
       "      <td>0.149925</td>\n",
       "      <td>0.052445</td>\n",
       "      <td>-0.114741</td>\n",
       "      <td>-0.043544</td>\n",
       "      <td>-0.079053</td>\n",
       "      <td>0.063789</td>\n",
       "      <td>-0.042917</td>\n",
       "      <td>-0.035958</td>\n",
       "      <td>0.225816</td>\n",
       "    </tr>\n",
       "    <tr>\n",
       "      <th>4</th>\n",
       "      <td>t_00068291e9a4</td>\n",
       "      <td>c_ac1672cdcd2c</td>\n",
       "      <td>Entradas e saídas de uma função &gt; Álgebra: fun...</td>\n",
       "      <td>Resolução de exemplo: como relacionar uma entr...</td>\n",
       "      <td>1</td>\n",
       "      <td>Entradas e saídas de uma função &gt; Álgebra: fun...</td>\n",
       "      <td>3</td>\n",
       "      <td>source</td>\n",
       "      <td>4</td>\n",
       "      <td>video</td>\n",
       "      <td>...</td>\n",
       "      <td>0.258849</td>\n",
       "      <td>0.256854</td>\n",
       "      <td>0.077855</td>\n",
       "      <td>0.313349</td>\n",
       "      <td>-0.060605</td>\n",
       "      <td>-0.443884</td>\n",
       "      <td>-0.002490</td>\n",
       "      <td>-0.204502</td>\n",
       "      <td>0.112875</td>\n",
       "      <td>-0.086771</td>\n",
       "    </tr>\n",
       "  </tbody>\n",
       "</table>\n",
       "<p>5 rows × 110 columns</p>\n",
       "</div>"
      ],
      "text/plain": [
       "       topics_ids     content_ids  \\\n",
       "0  t_00004da3a1b2  c_76231f9d0b5e   \n",
       "1  t_00004da3a1b2  c_1108dd0c7a5d   \n",
       "2  t_00004da3a1b2  c_5bc0e1e2cba0   \n",
       "3  t_00004da3a1b2  c_376c5a8eb028   \n",
       "4  t_00068291e9a4  c_ac1672cdcd2c   \n",
       "\n",
       "                                        topics_texts  \\\n",
       "0  Откриването на резисторите > Открития и проект...   \n",
       "1  Откриването на резисторите > Открития и проект...   \n",
       "2  Откриването на резисторите > Открития и проект...   \n",
       "3  Откриването на резисторите > Открития и проект...   \n",
       "4  Entradas e saídas de uma função > Álgebra: fun...   \n",
       "\n",
       "                                       content_texts  target  \\\n",
       "0  Последователно свързване на галваничен елемент...       1   \n",
       "1                                Молив като резистор       1   \n",
       "2     Променлив резистор (реостат) с графит от молив       1   \n",
       "3                 Да чуем променливото съпротивление       1   \n",
       "4  Resolução de exemplo: como relacionar uma entr...       1   \n",
       "\n",
       "                                                text  fold category  level  \\\n",
       "0  Откриването на резисторите > Открития и проект...     1   source      4   \n",
       "1  Откриването на резисторите > Открития и проект...     1   source      4   \n",
       "2  Откриването на резисторите > Открития и проект...     1   source      4   \n",
       "3  Откриването на резисторите > Открития и проект...     1   source      4   \n",
       "4  Entradas e saídas de uma função > Álgebra: fun...     3   source      4   \n",
       "\n",
       "    kind  ...  svd_feat_90  svd_feat_91  svd_feat_92  svd_feat_93  \\\n",
       "0  video  ...    -0.206004     0.210298     0.045369    -0.138827   \n",
       "1  video  ...    -0.169751     0.162981     0.065976    -0.116974   \n",
       "2  video  ...    -0.167677     0.143924     0.046197    -0.156766   \n",
       "3  video  ...    -0.161866     0.149925     0.052445    -0.114741   \n",
       "4  video  ...     0.258849     0.256854     0.077855     0.313349   \n",
       "\n",
       "   svd_feat_94  svd_feat_95  svd_feat_96  svd_feat_97  svd_feat_98  \\\n",
       "0    -0.053636    -0.112049     0.023230    -0.112240    -0.008163   \n",
       "1    -0.023236    -0.098758     0.038024    -0.093514    -0.046875   \n",
       "2    -0.008850    -0.102681     0.063325    -0.061339    -0.049079   \n",
       "3    -0.043544    -0.079053     0.063789    -0.042917    -0.035958   \n",
       "4    -0.060605    -0.443884    -0.002490    -0.204502     0.112875   \n",
       "\n",
       "   svd_feat_99  \n",
       "0     0.225495  \n",
       "1     0.260005  \n",
       "2     0.214675  \n",
       "3     0.225816  \n",
       "4    -0.086771  \n",
       "\n",
       "[5 rows x 110 columns]"
      ]
     },
     "execution_count": 37,
     "metadata": {},
     "output_type": "execute_result"
    }
   ],
   "source": [
    "train.head()"
   ]
  },
  {
   "cell_type": "code",
   "execution_count": 38,
   "id": "49203e53-3127-4228-a88c-5b2d4a7aedf5",
   "metadata": {
    "execution": {
     "iopub.execute_input": "2023-03-03T10:26:35.473778Z",
     "iopub.status.busy": "2023-03-03T10:26:35.473591Z",
     "iopub.status.idle": "2023-03-03T10:26:36.215259Z",
     "shell.execute_reply": "2023-03-03T10:26:36.214608Z"
    }
   },
   "outputs": [],
   "source": [
    "data = train.copy()"
   ]
  },
  {
   "cell_type": "code",
   "execution_count": 39,
   "id": "435891a4-7a94-4c79-82f3-d0facb1db40c",
   "metadata": {
    "autoscroll": "auto",
    "collapsed": false,
    "execution": {
     "iopub.execute_input": "2023-03-03T10:26:36.218039Z",
     "iopub.status.busy": "2023-03-03T10:26:36.217857Z",
     "iopub.status.idle": "2023-03-03T10:26:36.403576Z",
     "shell.execute_reply": "2023-03-03T10:26:36.402900Z"
    },
    "jupyter": {
     "outputs_hidden": false
    }
   },
   "outputs": [
    {
     "data": {
      "text/plain": [
       "0"
      ]
     },
     "execution_count": 39,
     "metadata": {},
     "output_type": "execute_result"
    }
   ],
   "source": [
    "del train\n",
    "gc.collect()"
   ]
  },
  {
   "cell_type": "code",
   "execution_count": 40,
   "id": "25fdd79c-d2c3-4121-9e64-2d76605cd2eb",
   "metadata": {
    "execution": {
     "iopub.execute_input": "2023-03-03T10:26:36.406126Z",
     "iopub.status.busy": "2023-03-03T10:26:36.405948Z",
     "iopub.status.idle": "2023-03-03T10:26:36.418425Z",
     "shell.execute_reply": "2023-03-03T10:26:36.417772Z"
    }
   },
   "outputs": [],
   "source": [
    "use_col = [\"category\", \"level\", \"kind\"] + CFG.svd_vector_name"
   ]
  },
  {
   "cell_type": "code",
   "execution_count": 41,
   "id": "332aeabb-862d-40a0-95d7-393bf0fce9b7",
   "metadata": {
    "execution": {
     "iopub.execute_input": "2023-03-03T10:26:36.420954Z",
     "iopub.status.busy": "2023-03-03T10:26:36.420770Z",
     "iopub.status.idle": "2023-03-03T10:26:36.858701Z",
     "shell.execute_reply": "2023-03-03T10:26:36.858159Z"
    }
   },
   "outputs": [],
   "source": [
    "data[\"category\"] = data[\"category\"].astype(\"category\")\n",
    "data[\"kind\"] = data[\"kind\"].astype(\"category\")"
   ]
  },
  {
   "cell_type": "code",
   "execution_count": 42,
   "id": "17cd56b7-31f9-40e9-adee-730193a484d2",
   "metadata": {
    "execution": {
     "iopub.execute_input": "2023-03-03T10:26:36.861464Z",
     "iopub.status.busy": "2023-03-03T10:26:36.861279Z",
     "iopub.status.idle": "2023-03-03T10:42:34.160871Z",
     "shell.execute_reply": "2023-03-03T10:42:34.160241Z"
    }
   },
   "outputs": [],
   "source": [
    "params = {\n",
    "    'objective': 'binary',\n",
    "    'verbosity': -1,\n",
    "    'boosting_type': 'gbdt',\n",
    "    'num_leaves': 63,\n",
    "    'learning_rate': 0.01,\n",
    "    'feature_fraction': 0.8,\n",
    "    'bagging_freq': 1,\n",
    "    'bagging_fraction': 0.8,\n",
    "    'random_state': 0\n",
    "}\n",
    "\n",
    "valid_scores = []\n",
    "models = []\n",
    "\n",
    "for fold in range(CFG.n_folds):\n",
    "    train = data[data[\"fold\"] != fold]\n",
    "    valid = data[data[\"fold\"] == fold]\n",
    "    \n",
    "    X_train, X_valid = train[use_col], valid[use_col]\n",
    "    y_train, y_valid = train[\"target\"], valid[\"target\"]\n",
    "    \n",
    "    lgb_train = lgb.Dataset(X_train, y_train)\n",
    "    lgb_eval = lgb.Dataset(X_valid, y_valid)\n",
    "\n",
    "    model = lgb.train(\n",
    "        params,\n",
    "        lgb_train,\n",
    "        valid_sets=lgb_eval,\n",
    "        num_boost_round=10000,\n",
    "        verbose_eval=-1,\n",
    "        callbacks=[lgb.early_stopping(stopping_rounds=100)]\n",
    "    )\n",
    "\n",
    "    y_valid_pred = model.predict(X_valid)\n",
    "    \n",
    "    score, threshold = get_best_threshold(valid, y_valid_pred, correlations)\n",
    "    print(f'fold{fold} f1 score: {score}　best_threshold: {threshold}')\n",
    "    valid_scores.append(score)\n",
    "\n",
    "    models.append(model)\n",
    "    \n",
    "    # Save valid pred, model, Score, Threshold\n",
    "    valid[\"pred\"] = y_valid_pred\n",
    "    valid[[\"topics_ids\",\"content_ids\",\"pred\"]].to_csv(f\"{OUTPUT_DIR}/pred_fold{fold}.csv\", index=False)\n",
    "    \n",
    "    with open(f\"{OUTPUT_DIR}/model_fold{fold}.pkl\", 'wb') as f:\n",
    "        pickle.dump(model, f)\n",
    "    \n",
    "    score = {\"score\": score, \"best_threshold\": threshold}\n",
    "    \n",
    "    with open(f\"{OUTPUT_DIR}/score_fold{fold}.pkl\", \"wb\") as f:\n",
    "        pickle.dump(score, f)\n",
    "    \n",
    "    break"
   ]
  },
  {
   "cell_type": "markdown",
   "id": "b8f858de-30f7-455a-856f-d9b1631f087f",
   "metadata": {},
   "source": [
    "# Upload"
   ]
  },
  {
   "cell_type": "code",
   "execution_count": 3,
   "id": "435a8cd3-0dc7-453c-b37e-e94d125fc681",
   "metadata": {
    "autoscroll": "auto",
    "collapsed": false,
    "jupyter": {
     "outputs_hidden": false
    },
    "tags": []
   },
   "outputs": [
    {
     "name": "stdout",
     "output_type": "stream",
     "text": [
      "Collecting kaggle\n",
      "  Downloading kaggle-1.5.13.tar.gz (63 kB)\n",
      "     ━━━━━━━━━━━━━━━━━━━━━━━━━━━━━━━━━━━━━━━━ 63.3/63.3 kB 18.2 MB/s eta 0:00:00\n",
      "  Preparing metadata (setup.py): started\n",
      "  Preparing metadata (setup.py): finished with status 'done'\n",
      "Requirement already satisfied: six>=1.10 in /opt/conda/envs/rapids/lib/python3.9/site-packages (from kaggle) (1.16.0)\n",
      "Requirement already satisfied: certifi in /opt/conda/envs/rapids/lib/python3.9/site-packages (from kaggle) (2022.9.24)\n",
      "Requirement already satisfied: python-dateutil in /opt/conda/envs/rapids/lib/python3.9/site-packages (from kaggle) (2.8.2)\n",
      "Requirement already satisfied: requests in /opt/conda/envs/rapids/lib/python3.9/site-packages (from kaggle) (2.28.1)\n",
      "Requirement already satisfied: tqdm in /opt/conda/envs/rapids/lib/python3.9/site-packages (from kaggle) (4.64.1)\n",
      "Collecting python-slugify\n",
      "  Downloading python_slugify-8.0.1-py2.py3-none-any.whl (9.7 kB)\n",
      "Requirement already satisfied: urllib3 in /opt/conda/envs/rapids/lib/python3.9/site-packages (from kaggle) (1.26.11)\n",
      "Collecting text-unidecode>=1.3\n",
      "  Downloading text_unidecode-1.3-py2.py3-none-any.whl (78 kB)\n",
      "     ━━━━━━━━━━━━━━━━━━━━━━━━━━━━━━━━━━━━━━━━ 78.2/78.2 kB 19.3 MB/s eta 0:00:00\n",
      "Requirement already satisfied: charset-normalizer<3,>=2 in /opt/conda/envs/rapids/lib/python3.9/site-packages (from requests->kaggle) (2.1.1)\n",
      "Requirement already satisfied: idna<4,>=2.5 in /opt/conda/envs/rapids/lib/python3.9/site-packages (from requests->kaggle) (3.4)\n",
      "Building wheels for collected packages: kaggle\n",
      "  Building wheel for kaggle (setup.py): started\n",
      "  Building wheel for kaggle (setup.py): finished with status 'done'\n",
      "  Created wheel for kaggle: filename=kaggle-1.5.13-py3-none-any.whl size=77733 sha256=f65fc011155adbab5029ee02a20fc6d4df69dcb71c6974251d2cece161f582a6\n",
      "  Stored in directory: /root/.cache/pip/wheels/92/8c/37/96a1971bedc1e74057af1e4852f18de7e8286dea4f12928e6c\n",
      "Successfully built kaggle\n",
      "Installing collected packages: text-unidecode, python-slugify, kaggle\n",
      "Successfully installed kaggle-1.5.13 python-slugify-8.0.1 text-unidecode-1.3\n"
     ]
    },
    {
     "name": "stderr",
     "output_type": "stream",
     "text": [
      "WARNING: Running pip as the 'root' user can result in broken permissions and conflicting behaviour with the system package manager. It is recommended to use a virtual environment instead: https://pip.pypa.io/warnings/venv\n"
     ]
    },
    {
     "data": {
      "text/plain": [
       "0"
      ]
     },
     "execution_count": 3,
     "metadata": {},
     "output_type": "execute_result"
    }
   ],
   "source": [
    "import os\n",
    "os.system(\"pip install kaggle\")\n",
    "os.system(\"mkdir -p ~/.kaggle/\")\n",
    "os.system(\"cp /notebooks/kaggle_lecr/kaggle.json ~/.kaggle/\")\n",
    "os.system(\"chmod 600 ~/.kaggle/kaggle.json\")"
   ]
  },
  {
   "cell_type": "code",
   "execution_count": 12,
   "id": "510a516b-6edc-4aac-88c5-93f58b6ece6c",
   "metadata": {
    "autoscroll": "auto",
    "collapsed": false,
    "jupyter": {
     "outputs_hidden": false
    },
    "tags": []
   },
   "outputs": [
    {
     "name": "stdout",
     "output_type": "stream",
     "text": [
      "Create Dataset name:ex14-trn-lightgbm, output_dir:/notebooks/kaggle_lecr/output/ex14-trn-lightgbm\n",
      "Starting upload for file model_fold0.pkl\n"
     ]
    },
    {
     "name": "stderr",
     "output_type": "stream",
     "text": [
      "100%|██████████| 66.7M/66.7M [00:01<00:00, 49.7MB/s]\n"
     ]
    },
    {
     "name": "stdout",
     "output_type": "stream",
     "text": [
      "Upload successful: model_fold0.pkl (67MB)\n",
      "Starting upload for file pred_fold0.csv\n"
     ]
    },
    {
     "name": "stderr",
     "output_type": "stream",
     "text": [
      "100%|██████████| 13.9M/13.9M [00:00<00:00, 14.7MB/s]\n"
     ]
    },
    {
     "name": "stdout",
     "output_type": "stream",
     "text": [
      "Upload successful: pred_fold0.csv (14MB)\n",
      "Starting upload for file .ipynb_checkpoints.tar\n"
     ]
    },
    {
     "name": "stderr",
     "output_type": "stream",
     "text": [
      "100%|██████████| 10.0k/10.0k [00:00<00:00, 19.5kB/s]\n"
     ]
    },
    {
     "name": "stdout",
     "output_type": "stream",
     "text": [
      "Upload successful: .ipynb_checkpoints.tar (10KB)\n",
      "Starting upload for file score_fold0.pkl\n"
     ]
    },
    {
     "name": "stderr",
     "output_type": "stream",
     "text": [
      "100%|██████████| 164/164 [00:00<00:00, 257B/s]\n"
     ]
    },
    {
     "name": "stdout",
     "output_type": "stream",
     "text": [
      "Upload successful: score_fold0.pkl (164B)\n"
     ]
    }
   ],
   "source": [
    "from kaggle.api.kaggle_api_extended import KaggleApi\n",
    "import json\n",
    "\n",
    "def dataset_create_new(dataset_name: str, upload_dir: str):\n",
    "    if \"_\" in dataset_name:\n",
    "        raise ValueError(\"datasetの名称に_の使用は禁止です\")\n",
    "    dataset_metadata = {}\n",
    "    dataset_metadata['id'] = f'sinchir0/{dataset_name}'\n",
    "    dataset_metadata['licenses'] = [{'name': 'CC0-1.0'}]\n",
    "    dataset_metadata['title'] = dataset_name\n",
    "    with open(os.path.join(upload_dir, 'dataset-metadata.json'), 'w') as f:\n",
    "        json.dump(dataset_metadata, f, indent=4)\n",
    "    api = KaggleApi()\n",
    "    api.authenticate()\n",
    "    api.dataset_create_new(folder=upload_dir, convert_to_csv=False, dir_mode='tar')\n",
    "\n",
    "if CFG.upload_data:\n",
    "    print(f\"Create Dataset name:{NOTEBOOK_NAME}, output_dir:{OUTPUT_DIR}\")\n",
    "    dataset_create_new(dataset_name=NOTEBOOK_NAME, upload_dir=OUTPUT_DIR)"
   ]
  },
  {
   "cell_type": "code",
   "execution_count": null,
   "id": "123cae5a-2c82-4a18-bf74-9df089e6d717",
   "metadata": {},
   "outputs": [],
   "source": []
  }
 ],
 "metadata": {
  "kernelspec": {
   "display_name": "Python 3 (ipykernel)",
   "language": "python",
   "name": "python3"
  },
  "language_info": {
   "codemirror_mode": {
    "name": "ipython",
    "version": 3
   },
   "file_extension": ".py",
   "mimetype": "text/x-python",
   "name": "python",
   "nbconvert_exporter": "python",
   "pygments_lexer": "ipython3",
   "version": "3.9.13"
  },
  "papermill": {
   "default_parameters": {},
   "duration": 17548.763501,
   "end_time": "2023-02-11T06:57:21.580304",
   "environment_variables": {},
   "exception": null,
   "input_path": "__notebook__.ipynb",
   "output_path": "__notebook__.ipynb",
   "parameters": {},
   "start_time": "2023-02-11T02:04:52.816803",
   "version": "2.3.4"
  },
  "widgets": {
   "application/vnd.jupyter.widget-state+json": {
    "state": {
     "223f6f968736427287b84e25b4afc45f": {
      "model_module": "@jupyter-widgets/base",
      "model_module_version": "2.0.0",
      "model_name": "LayoutModel",
      "state": {
       "_model_module": "@jupyter-widgets/base",
       "_model_module_version": "2.0.0",
       "_model_name": "LayoutModel",
       "_view_count": null,
       "_view_module": "@jupyter-widgets/base",
       "_view_module_version": "2.0.0",
       "_view_name": "LayoutView",
       "align_content": null,
       "align_items": null,
       "align_self": null,
       "border_bottom": null,
       "border_left": null,
       "border_right": null,
       "border_top": null,
       "bottom": null,
       "display": null,
       "flex": null,
       "flex_flow": null,
       "grid_area": null,
       "grid_auto_columns": null,
       "grid_auto_flow": null,
       "grid_auto_rows": null,
       "grid_column": null,
       "grid_gap": null,
       "grid_row": null,
       "grid_template_areas": null,
       "grid_template_columns": null,
       "grid_template_rows": null,
       "height": null,
       "justify_content": null,
       "justify_items": null,
       "left": null,
       "margin": null,
       "max_height": null,
       "max_width": null,
       "min_height": null,
       "min_width": null,
       "object_fit": null,
       "object_position": null,
       "order": null,
       "overflow": null,
       "padding": null,
       "right": null,
       "top": null,
       "visibility": null,
       "width": null
      }
     },
     "2fe933ad1dc94dad8ff77699885df82c": {
      "model_module": "@jupyter-widgets/controls",
      "model_module_version": "2.0.0",
      "model_name": "VBoxModel",
      "state": {
       "_dom_classes": [],
       "_model_module": "@jupyter-widgets/controls",
       "_model_module_version": "2.0.0",
       "_model_name": "VBoxModel",
       "_view_count": null,
       "_view_module": "@jupyter-widgets/controls",
       "_view_module_version": "2.0.0",
       "_view_name": "VBoxView",
       "box_style": "",
       "children": [
        "IPY_MODEL_922463167126446888afb9661fd63620",
        "IPY_MODEL_c66a00c8284a42238ae6a797f58c1076"
       ],
       "layout": "IPY_MODEL_3ff1a5ccf1f74148ae6ccc674249d1b7",
       "tabbable": null,
       "tooltip": null
      }
     },
     "3ff1a5ccf1f74148ae6ccc674249d1b7": {
      "model_module": "@jupyter-widgets/base",
      "model_module_version": "2.0.0",
      "model_name": "LayoutModel",
      "state": {
       "_model_module": "@jupyter-widgets/base",
       "_model_module_version": "2.0.0",
       "_model_name": "LayoutModel",
       "_view_count": null,
       "_view_module": "@jupyter-widgets/base",
       "_view_module_version": "2.0.0",
       "_view_name": "LayoutView",
       "align_content": null,
       "align_items": null,
       "align_self": null,
       "border_bottom": null,
       "border_left": null,
       "border_right": null,
       "border_top": null,
       "bottom": null,
       "display": null,
       "flex": null,
       "flex_flow": null,
       "grid_area": null,
       "grid_auto_columns": null,
       "grid_auto_flow": null,
       "grid_auto_rows": null,
       "grid_column": null,
       "grid_gap": null,
       "grid_row": null,
       "grid_template_areas": null,
       "grid_template_columns": null,
       "grid_template_rows": null,
       "height": null,
       "justify_content": null,
       "justify_items": null,
       "left": null,
       "margin": null,
       "max_height": null,
       "max_width": null,
       "min_height": null,
       "min_width": null,
       "object_fit": null,
       "object_position": null,
       "order": null,
       "overflow": null,
       "padding": null,
       "right": null,
       "top": null,
       "visibility": null,
       "width": null
      }
     },
     "5cd6109404934b1dac2787c8045ce773": {
      "model_module": "@jupyter-widgets/controls",
      "model_module_version": "2.0.0",
      "model_name": "LabelModel",
      "state": {
       "_dom_classes": [],
       "_model_module": "@jupyter-widgets/controls",
       "_model_module_version": "2.0.0",
       "_model_name": "LabelModel",
       "_view_count": null,
       "_view_module": "@jupyter-widgets/controls",
       "_view_module_version": "2.0.0",
       "_view_name": "LabelView",
       "description": "",
       "description_allow_html": false,
       "layout": "IPY_MODEL_5e10bc584e4c4ab5b0729bbdcf4e0869",
       "placeholder": "​",
       "style": "IPY_MODEL_5d9fa7e6da0942faa2fc79756f5008c9",
       "tabbable": null,
       "tooltip": null,
       "value": ""
      }
     },
     "5d9fa7e6da0942faa2fc79756f5008c9": {
      "model_module": "@jupyter-widgets/controls",
      "model_module_version": "2.0.0",
      "model_name": "LabelStyleModel",
      "state": {
       "_model_module": "@jupyter-widgets/controls",
       "_model_module_version": "2.0.0",
       "_model_name": "LabelStyleModel",
       "_view_count": null,
       "_view_module": "@jupyter-widgets/base",
       "_view_module_version": "2.0.0",
       "_view_name": "StyleView",
       "background": null,
       "description_width": "",
       "font_family": null,
       "font_size": null,
       "font_style": null,
       "font_variant": null,
       "font_weight": null,
       "text_color": null,
       "text_decoration": null
      }
     },
     "5e10bc584e4c4ab5b0729bbdcf4e0869": {
      "model_module": "@jupyter-widgets/base",
      "model_module_version": "2.0.0",
      "model_name": "LayoutModel",
      "state": {
       "_model_module": "@jupyter-widgets/base",
       "_model_module_version": "2.0.0",
       "_model_name": "LayoutModel",
       "_view_count": null,
       "_view_module": "@jupyter-widgets/base",
       "_view_module_version": "2.0.0",
       "_view_name": "LayoutView",
       "align_content": null,
       "align_items": null,
       "align_self": null,
       "border_bottom": null,
       "border_left": null,
       "border_right": null,
       "border_top": null,
       "bottom": null,
       "display": null,
       "flex": null,
       "flex_flow": null,
       "grid_area": null,
       "grid_auto_columns": null,
       "grid_auto_flow": null,
       "grid_auto_rows": null,
       "grid_column": null,
       "grid_gap": null,
       "grid_row": null,
       "grid_template_areas": null,
       "grid_template_columns": null,
       "grid_template_rows": null,
       "height": null,
       "justify_content": null,
       "justify_items": null,
       "left": null,
       "margin": null,
       "max_height": null,
       "max_width": null,
       "min_height": null,
       "min_width": null,
       "object_fit": null,
       "object_position": null,
       "order": null,
       "overflow": null,
       "padding": null,
       "right": null,
       "top": null,
       "visibility": null,
       "width": null
      }
     },
     "8fdc4f34243548e0bf0792f84dbaa480": {
      "model_module": "@jupyter-widgets/controls",
      "model_module_version": "2.0.0",
      "model_name": "VBoxModel",
      "state": {
       "_dom_classes": [],
       "_model_module": "@jupyter-widgets/controls",
       "_model_module_version": "2.0.0",
       "_model_name": "VBoxModel",
       "_view_count": null,
       "_view_module": "@jupyter-widgets/controls",
       "_view_module_version": "2.0.0",
       "_view_name": "VBoxView",
       "box_style": "",
       "children": [
        "IPY_MODEL_5cd6109404934b1dac2787c8045ce773",
        "IPY_MODEL_de000d065fdf4927bd77a3ab57c10c1a"
       ],
       "layout": "IPY_MODEL_e1acd789154143609c644bac8169421a",
       "tabbable": null,
       "tooltip": null
      }
     },
     "922463167126446888afb9661fd63620": {
      "model_module": "@jupyter-widgets/controls",
      "model_module_version": "2.0.0",
      "model_name": "LabelModel",
      "state": {
       "_dom_classes": [],
       "_model_module": "@jupyter-widgets/controls",
       "_model_module_version": "2.0.0",
       "_model_name": "LabelModel",
       "_view_count": null,
       "_view_module": "@jupyter-widgets/controls",
       "_view_module_version": "2.0.0",
       "_view_name": "LabelView",
       "description": "",
       "description_allow_html": false,
       "layout": "IPY_MODEL_af9ea806cf1e4d389e79efc0adb0d3fd",
       "placeholder": "​",
       "style": "IPY_MODEL_e89741585c13494690faeb599cc5bb46",
       "tabbable": null,
       "tooltip": null,
       "value": ""
      }
     },
     "9ca90e98fc4f4900a239aa7f764a8eae": {
      "model_module": "@jupyter-widgets/controls",
      "model_module_version": "2.0.0",
      "model_name": "ProgressStyleModel",
      "state": {
       "_model_module": "@jupyter-widgets/controls",
       "_model_module_version": "2.0.0",
       "_model_name": "ProgressStyleModel",
       "_view_count": null,
       "_view_module": "@jupyter-widgets/base",
       "_view_module_version": "2.0.0",
       "_view_name": "StyleView",
       "bar_color": null,
       "description_width": ""
      }
     },
     "9f06033a6b184c85a01fbb045f271651": {
      "model_module": "@jupyter-widgets/controls",
      "model_module_version": "2.0.0",
      "model_name": "ProgressStyleModel",
      "state": {
       "_model_module": "@jupyter-widgets/controls",
       "_model_module_version": "2.0.0",
       "_model_name": "ProgressStyleModel",
       "_view_count": null,
       "_view_module": "@jupyter-widgets/base",
       "_view_module_version": "2.0.0",
       "_view_name": "StyleView",
       "bar_color": null,
       "description_width": ""
      }
     },
     "af9ea806cf1e4d389e79efc0adb0d3fd": {
      "model_module": "@jupyter-widgets/base",
      "model_module_version": "2.0.0",
      "model_name": "LayoutModel",
      "state": {
       "_model_module": "@jupyter-widgets/base",
       "_model_module_version": "2.0.0",
       "_model_name": "LayoutModel",
       "_view_count": null,
       "_view_module": "@jupyter-widgets/base",
       "_view_module_version": "2.0.0",
       "_view_name": "LayoutView",
       "align_content": null,
       "align_items": null,
       "align_self": null,
       "border_bottom": null,
       "border_left": null,
       "border_right": null,
       "border_top": null,
       "bottom": null,
       "display": null,
       "flex": null,
       "flex_flow": null,
       "grid_area": null,
       "grid_auto_columns": null,
       "grid_auto_flow": null,
       "grid_auto_rows": null,
       "grid_column": null,
       "grid_gap": null,
       "grid_row": null,
       "grid_template_areas": null,
       "grid_template_columns": null,
       "grid_template_rows": null,
       "height": null,
       "justify_content": null,
       "justify_items": null,
       "left": null,
       "margin": null,
       "max_height": null,
       "max_width": null,
       "min_height": null,
       "min_width": null,
       "object_fit": null,
       "object_position": null,
       "order": null,
       "overflow": null,
       "padding": null,
       "right": null,
       "top": null,
       "visibility": null,
       "width": null
      }
     },
     "b20ad15f56434190888753955819445f": {
      "model_module": "@jupyter-widgets/base",
      "model_module_version": "2.0.0",
      "model_name": "LayoutModel",
      "state": {
       "_model_module": "@jupyter-widgets/base",
       "_model_module_version": "2.0.0",
       "_model_name": "LayoutModel",
       "_view_count": null,
       "_view_module": "@jupyter-widgets/base",
       "_view_module_version": "2.0.0",
       "_view_name": "LayoutView",
       "align_content": null,
       "align_items": null,
       "align_self": null,
       "border_bottom": null,
       "border_left": null,
       "border_right": null,
       "border_top": null,
       "bottom": null,
       "display": null,
       "flex": null,
       "flex_flow": null,
       "grid_area": null,
       "grid_auto_columns": null,
       "grid_auto_flow": null,
       "grid_auto_rows": null,
       "grid_column": null,
       "grid_gap": null,
       "grid_row": null,
       "grid_template_areas": null,
       "grid_template_columns": null,
       "grid_template_rows": null,
       "height": null,
       "justify_content": null,
       "justify_items": null,
       "left": null,
       "margin": null,
       "max_height": null,
       "max_width": null,
       "min_height": null,
       "min_width": null,
       "object_fit": null,
       "object_position": null,
       "order": null,
       "overflow": null,
       "padding": null,
       "right": null,
       "top": null,
       "visibility": null,
       "width": null
      }
     },
     "c66a00c8284a42238ae6a797f58c1076": {
      "model_module": "@jupyter-widgets/controls",
      "model_module_version": "2.0.0",
      "model_name": "FloatProgressModel",
      "state": {
       "_dom_classes": [],
       "_model_module": "@jupyter-widgets/controls",
       "_model_module_version": "2.0.0",
       "_model_name": "FloatProgressModel",
       "_view_count": null,
       "_view_module": "@jupyter-widgets/controls",
       "_view_module_version": "2.0.0",
       "_view_name": "ProgressView",
       "bar_style": "",
       "description": "",
       "description_allow_html": false,
       "layout": "IPY_MODEL_b20ad15f56434190888753955819445f",
       "max": 1,
       "min": 0,
       "orientation": "horizontal",
       "style": "IPY_MODEL_9ca90e98fc4f4900a239aa7f764a8eae",
       "tabbable": null,
       "tooltip": null,
       "value": 0
      }
     },
     "de000d065fdf4927bd77a3ab57c10c1a": {
      "model_module": "@jupyter-widgets/controls",
      "model_module_version": "2.0.0",
      "model_name": "FloatProgressModel",
      "state": {
       "_dom_classes": [],
       "_model_module": "@jupyter-widgets/controls",
       "_model_module_version": "2.0.0",
       "_model_name": "FloatProgressModel",
       "_view_count": null,
       "_view_module": "@jupyter-widgets/controls",
       "_view_module_version": "2.0.0",
       "_view_name": "ProgressView",
       "bar_style": "",
       "description": "",
       "description_allow_html": false,
       "layout": "IPY_MODEL_223f6f968736427287b84e25b4afc45f",
       "max": 1,
       "min": 0,
       "orientation": "horizontal",
       "style": "IPY_MODEL_9f06033a6b184c85a01fbb045f271651",
       "tabbable": null,
       "tooltip": null,
       "value": 0
      }
     },
     "e1acd789154143609c644bac8169421a": {
      "model_module": "@jupyter-widgets/base",
      "model_module_version": "2.0.0",
      "model_name": "LayoutModel",
      "state": {
       "_model_module": "@jupyter-widgets/base",
       "_model_module_version": "2.0.0",
       "_model_name": "LayoutModel",
       "_view_count": null,
       "_view_module": "@jupyter-widgets/base",
       "_view_module_version": "2.0.0",
       "_view_name": "LayoutView",
       "align_content": null,
       "align_items": null,
       "align_self": null,
       "border_bottom": null,
       "border_left": null,
       "border_right": null,
       "border_top": null,
       "bottom": null,
       "display": null,
       "flex": null,
       "flex_flow": null,
       "grid_area": null,
       "grid_auto_columns": null,
       "grid_auto_flow": null,
       "grid_auto_rows": null,
       "grid_column": null,
       "grid_gap": null,
       "grid_row": null,
       "grid_template_areas": null,
       "grid_template_columns": null,
       "grid_template_rows": null,
       "height": null,
       "justify_content": null,
       "justify_items": null,
       "left": null,
       "margin": null,
       "max_height": null,
       "max_width": null,
       "min_height": null,
       "min_width": null,
       "object_fit": null,
       "object_position": null,
       "order": null,
       "overflow": null,
       "padding": null,
       "right": null,
       "top": null,
       "visibility": null,
       "width": null
      }
     },
     "e89741585c13494690faeb599cc5bb46": {
      "model_module": "@jupyter-widgets/controls",
      "model_module_version": "2.0.0",
      "model_name": "LabelStyleModel",
      "state": {
       "_model_module": "@jupyter-widgets/controls",
       "_model_module_version": "2.0.0",
       "_model_name": "LabelStyleModel",
       "_view_count": null,
       "_view_module": "@jupyter-widgets/base",
       "_view_module_version": "2.0.0",
       "_view_name": "StyleView",
       "background": null,
       "description_width": "",
       "font_family": null,
       "font_size": null,
       "font_style": null,
       "font_variant": null,
       "font_weight": null,
       "text_color": null,
       "text_decoration": null
      }
     }
    },
    "version_major": 2,
    "version_minor": 0
   }
  }
 },
 "nbformat": 4,
 "nbformat_minor": 5
}
