{
 "cells": [
  {
   "cell_type": "code",
   "execution_count": 1,
   "id": "fa2b29e0-150c-47b3-9f56-e0241255ca87",
   "metadata": {
    "execution": {
     "iopub.execute_input": "2023-02-18T07:09:41.231654Z",
     "iopub.status.busy": "2023-02-18T07:09:41.231445Z",
     "iopub.status.idle": "2023-02-18T07:09:41.238051Z",
     "shell.execute_reply": "2023-02-18T07:09:41.237561Z"
    },
    "tags": []
   },
   "outputs": [],
   "source": [
    "NOTEBOOK_NAME = \"ex4-trn-use-all-positive-sample\""
   ]
  },
  {
   "cell_type": "code",
   "execution_count": 2,
   "id": "fdd0b75a-2889-48af-b1df-a47cb38584bd",
   "metadata": {
    "execution": {
     "iopub.execute_input": "2023-02-18T07:09:41.240037Z",
     "iopub.status.busy": "2023-02-18T07:09:41.239870Z",
     "iopub.status.idle": "2023-02-18T07:09:41.242581Z",
     "shell.execute_reply": "2023-02-18T07:09:41.242080Z"
    }
   },
   "outputs": [],
   "source": [
    "import os\n",
    "OUTPUT_DIR = f\"/notebooks/kaggle_lecr/output/{NOTEBOOK_NAME}\"\n",
    "os.makedirs(OUTPUT_DIR, exist_ok=True)"
   ]
  },
  {
   "cell_type": "code",
   "execution_count": 3,
   "id": "bea3d0df-f4e8-4202-a89b-f5926005aa42",
   "metadata": {
    "autoscroll": "auto",
    "collapsed": false,
    "execution": {
     "iopub.execute_input": "2023-02-18T07:09:41.244344Z",
     "iopub.status.busy": "2023-02-18T07:09:41.244190Z",
     "iopub.status.idle": "2023-02-18T07:09:46.575522Z",
     "shell.execute_reply": "2023-02-18T07:09:46.574920Z"
    },
    "jupyter": {
     "outputs_hidden": false
    }
   },
   "outputs": [
    {
     "data": {
      "text/plain": [
       "0"
      ]
     },
     "execution_count": 3,
     "metadata": {},
     "output_type": "execute_result"
    }
   ],
   "source": [
    "os.system(\"pip3 install torch==1.12.0 --extra-index-url https://download.pytorch.org/whl/cu116\")\n",
    "os.system(\"pip install tokenizers==0.12.1\")\n",
    "os.system(\"pip install transformers==4.20.1\")"
   ]
  },
  {
   "cell_type": "code",
   "execution_count": 4,
   "id": "a09c789d-506f-4886-b7ee-c222198479fc",
   "metadata": {
    "execution": {
     "iopub.execute_input": "2023-02-18T07:09:46.578020Z",
     "iopub.status.busy": "2023-02-18T07:09:46.577796Z",
     "iopub.status.idle": "2023-02-18T07:09:47.084225Z",
     "shell.execute_reply": "2023-02-18T07:09:47.083606Z"
    }
   },
   "outputs": [],
   "source": [
    "!nvidia-smi"
   ]
  },
  {
   "cell_type": "code",
   "execution_count": 5,
   "id": "c95534da-f206-4f29-a023-0b49a499bdf9",
   "metadata": {
    "autoscroll": "auto",
    "collapsed": false,
    "execution": {
     "iopub.execute_input": "2023-02-18T07:09:47.086863Z",
     "iopub.status.busy": "2023-02-18T07:09:47.086664Z",
     "iopub.status.idle": "2023-02-18T07:09:48.900313Z",
     "shell.execute_reply": "2023-02-18T07:09:48.899817Z"
    },
    "jupyter": {
     "outputs_hidden": false
    }
   },
   "outputs": [
    {
     "data": {
      "text/plain": [
       "0"
      ]
     },
     "execution_count": 5,
     "metadata": {},
     "output_type": "execute_result"
    }
   ],
   "source": [
    "os.system(\"pip install scikit-learn==1.2.1\")"
   ]
  },
  {
   "cell_type": "code",
   "execution_count": 6,
   "id": "2af13c3b",
   "metadata": {
    "execution": {
     "iopub.execute_input": "2023-02-18T07:09:48.902694Z",
     "iopub.status.busy": "2023-02-18T07:09:48.902500Z",
     "iopub.status.idle": "2023-02-18T07:09:50.171457Z",
     "shell.execute_reply": "2023-02-18T07:09:50.170752Z"
    },
    "papermill": {
     "duration": 7.561173,
     "end_time": "2023-02-11T02:05:08.553027",
     "exception": false,
     "start_time": "2023-02-11T02:05:00.991854",
     "status": "completed"
    },
    "tags": []
   },
   "outputs": [],
   "source": [
    "# =========================================================================================\n",
    "# Libraries\n",
    "# =========================================================================================\n",
    "import os\n",
    "import gc\n",
    "import time\n",
    "import pickle\n",
    "import math\n",
    "import random\n",
    "import warnings\n",
    "warnings.filterwarnings(\"ignore\")\n",
    "import numpy as np\n",
    "import pandas as pd\n",
    "from tqdm.auto import tqdm\n",
    "import torch\n",
    "import torch.nn as nn\n",
    "from torch.optim import AdamW\n",
    "from torch.utils.data import DataLoader, Dataset\n",
    "from torch.utils.checkpoint import checkpoint\n",
    "import tokenizers\n",
    "import transformers\n",
    "from transformers import AutoTokenizer, AutoModel, AutoConfig\n",
    "from transformers import get_cosine_schedule_with_warmup, DataCollatorWithPadding\n",
    "from sklearn.model_selection import StratifiedGroupKFold\n",
    "%env TOKENIZERS_PARALLELISM=true\n",
    "device = torch.device('cuda' if torch.cuda.is_available() else 'cpu')"
   ]
  },
  {
   "cell_type": "code",
   "execution_count": 7,
   "id": "7f108c3d",
   "metadata": {
    "execution": {
     "iopub.execute_input": "2023-02-18T07:09:50.174225Z",
     "iopub.status.busy": "2023-02-18T07:09:50.173925Z",
     "iopub.status.idle": "2023-02-18T07:09:50.178113Z",
     "shell.execute_reply": "2023-02-18T07:09:50.177596Z"
    },
    "papermill": {
     "duration": 0.01567,
     "end_time": "2023-02-11T02:05:08.574968",
     "exception": false,
     "start_time": "2023-02-11T02:05:08.559298",
     "status": "completed"
    },
    "tags": []
   },
   "outputs": [],
   "source": [
    "# =========================================================================================\n",
    "# Configurations\n",
    "# =========================================================================================\n",
    "class CFG:\n",
    "    debug = False\n",
    "    upload_data = True\n",
    "    print_freq = 500\n",
    "    num_workers = 4\n",
    "    model = \"/notebooks/kaggle_lecr/data/ex1-finetuning-mpnet-mnrloss-ep10-fold\"\n",
    "    gradient_checkpointing = False\n",
    "    num_cycles = 0.5\n",
    "    warmup_ratio = 0.1\n",
    "    encoder_lr = 1e-5\n",
    "    decoder_lr = 1e-4\n",
    "    eps = 1e-6\n",
    "    betas = (0.9, 0.999)\n",
    "    batch_size = 64#32\n",
    "    weight_decay = 0.01\n",
    "    max_grad_norm = 0.012\n",
    "    max_len = 512\n",
    "    n_folds = 5\n",
    "    seed = 42\n",
    "    epochs = 5\n",
    "    data_url = \"/notebooks/kaggle_lecr/data/learning-equality-curriculum-recommendations\"\n",
    "    train_set_url = \"/notebooks/kaggle_lecr/output/ex1-uns-top-n-10-para-mpnet-fold\"\n",
    "    finetune_url = \"/notebooks/kaggle_lecr/data/ex1-finetuning-mpnet-mnrloss-ep10-fold\""
   ]
  },
  {
   "cell_type": "code",
   "execution_count": 8,
   "id": "aea8f99c",
   "metadata": {
    "execution": {
     "iopub.execute_input": "2023-02-18T07:09:50.180220Z",
     "iopub.status.busy": "2023-02-18T07:09:50.179812Z",
     "iopub.status.idle": "2023-02-18T07:09:50.183111Z",
     "shell.execute_reply": "2023-02-18T07:09:50.182607Z"
    },
    "papermill": {
     "duration": 0.014544,
     "end_time": "2023-02-11T02:05:08.595307",
     "exception": false,
     "start_time": "2023-02-11T02:05:08.580763",
     "status": "completed"
    },
    "tags": []
   },
   "outputs": [],
   "source": [
    "# =========================================================================================\n",
    "# Seed everything for deterministic results\n",
    "# =========================================================================================\n",
    "def seed_everything(cfg):\n",
    "    random.seed(cfg.seed)\n",
    "    os.environ['PYTHONHASHSEED'] = str(cfg.seed)\n",
    "    np.random.seed(cfg.seed)\n",
    "    torch.manual_seed(cfg.seed)\n",
    "    torch.cuda.manual_seed(cfg.seed)\n",
    "    torch.backends.cudnn.deterministic = True"
   ]
  },
  {
   "cell_type": "code",
   "execution_count": 9,
   "id": "0fd14795",
   "metadata": {
    "execution": {
     "iopub.execute_input": "2023-02-18T07:09:50.184961Z",
     "iopub.status.busy": "2023-02-18T07:09:50.184797Z",
     "iopub.status.idle": "2023-02-18T07:09:50.188503Z",
     "shell.execute_reply": "2023-02-18T07:09:50.188019Z"
    },
    "papermill": {
     "duration": 0.015773,
     "end_time": "2023-02-11T02:05:08.616987",
     "exception": false,
     "start_time": "2023-02-11T02:05:08.601214",
     "status": "completed"
    },
    "tags": []
   },
   "outputs": [],
   "source": [
    "# =========================================================================================\n",
    "# Data Loading\n",
    "# =========================================================================================\n",
    "def read_data(cfg):\n",
    "    train = pd.read_csv(f\"{cfg.train_set_url}/train.csv\")\n",
    "    \n",
    "    topics = pd.read_csv(cfg.data_url + \"/\" + \"topics.csv\")\n",
    "    content = pd.read_csv(cfg.data_url + \"/\" + \"content.csv\")\n",
    "    correlations = pd.read_csv(cfg.data_url + \"/\" + \"correlations.csv\")\n",
    "\n",
    "    topics[\"title\"] = topics[\"title\"].fillna(\"\")\n",
    "    content[\"title\"] = content[\"title\"].fillna(\"\")\n",
    "    \n",
    "    print(' ')\n",
    "    print('-' * 50)\n",
    "    print(f\"train.shape: {train.shape}\")\n",
    "    print(f\"correlations.shape: {correlations.shape}\")\n",
    "    return train, topics, content, correlations"
   ]
  },
  {
   "cell_type": "code",
   "execution_count": 10,
   "id": "99c94a6b",
   "metadata": {
    "execution": {
     "iopub.execute_input": "2023-02-18T07:09:50.190278Z",
     "iopub.status.busy": "2023-02-18T07:09:50.190115Z",
     "iopub.status.idle": "2023-02-18T07:09:50.192878Z",
     "shell.execute_reply": "2023-02-18T07:09:50.192317Z"
    },
    "papermill": {
     "duration": 0.013152,
     "end_time": "2023-02-11T02:05:08.635842",
     "exception": false,
     "start_time": "2023-02-11T02:05:08.622690",
     "status": "completed"
    },
    "tags": []
   },
   "outputs": [],
   "source": [
    "def preprocess(train: pd.DataFrame):\n",
    "    # Create feature column\n",
    "    train['text'] = train['topics_titles'] + '[SEP]' + train['content_titles']\n",
    "    return train"
   ]
  },
  {
   "cell_type": "code",
   "execution_count": 11,
   "id": "d457e372",
   "metadata": {
    "execution": {
     "iopub.execute_input": "2023-02-18T07:09:50.194865Z",
     "iopub.status.busy": "2023-02-18T07:09:50.194704Z",
     "iopub.status.idle": "2023-02-18T07:09:50.200494Z",
     "shell.execute_reply": "2023-02-18T07:09:50.200011Z"
    },
    "papermill": {
     "duration": 0.017013,
     "end_time": "2023-02-11T02:05:08.658444",
     "exception": false,
     "start_time": "2023-02-11T02:05:08.641431",
     "status": "completed"
    },
    "tags": []
   },
   "outputs": [],
   "source": [
    "def merge_cat_info(train: pd.DataFrame, topics: pd.DataFrame, content:pd.DataFrame):\n",
    "    merge_train = pd.merge(train, topics[[\"id\", \"level\", \"category\"]], left_on=\"topics_ids\", right_on=\"id\", how=\"left\")\n",
    "    merge_train = merge_train.drop(\"id\", axis=1)\n",
    "    merge_train = pd.merge(merge_train, content[[\"id\", \"kind\"]], left_on=\"content_ids\", right_on=\"id\", how=\"left\")\n",
    "    merge_train = merge_train.drop(\"id\", axis=1)\n",
    "    \n",
    "    merge_train[\"level_tag\"] = merge_train[\"level\"].apply(lambda x: f\"[LEVEL{x}]\")\n",
    "    merge_train[\"category_tag\"] = merge_train[\"category\"].apply(lambda x: f\"[CATEGORY_{x.upper()}]\")\n",
    "    merge_train[\"kind_tag\"] = merge_train[\"kind\"].apply(lambda x: f\"[KIND_{x.upper()}]\")\n",
    "    \n",
    "    level_tag_list = sorted(merge_train[\"level_tag\"].unique()) \n",
    "    category_list = sorted(merge_train[\"category_tag\"].unique()) \n",
    "    kind_list = sorted(merge_train[\"kind_tag\"].unique()) \n",
    "    \n",
    "    train['topics_titles'] = merge_train['level_tag'] + merge_train[\"category_tag\"] + merge_train['topics_titles'] \n",
    "    train['content_titles'] = merge_train['kind_tag'] + merge_train['content_titles']\n",
    "    \n",
    "    return train, level_tag_list, category_list, kind_list"
   ]
  },
  {
   "cell_type": "code",
   "execution_count": 12,
   "id": "a68033ec",
   "metadata": {
    "execution": {
     "iopub.execute_input": "2023-02-18T07:09:50.202285Z",
     "iopub.status.busy": "2023-02-18T07:09:50.202120Z",
     "iopub.status.idle": "2023-02-18T07:09:50.204586Z",
     "shell.execute_reply": "2023-02-18T07:09:50.204109Z"
    },
    "papermill": {
     "duration": 0.01453,
     "end_time": "2023-02-11T02:05:08.678562",
     "exception": false,
     "start_time": "2023-02-11T02:05:08.664032",
     "status": "completed"
    },
    "tags": []
   },
   "outputs": [],
   "source": [
    "# =========================================================================================\n",
    "# CV split\n",
    "# =========================================================================================\n",
    "# def cv_split(train, cfg):\n",
    "#     import pdb; pdb.set_trace()\n",
    "#     kfold = StratifiedGroupKFold(n_splits = cfg.n_folds, shuffle = True, random_state = cfg.seed)\n",
    "#     for num, (train_index, val_index) in enumerate(kfold.split(train, train['target'], train['topics_ids'])):\n",
    "#         train.loc[val_index, 'fold'] = int(num)\n",
    "#     train['fold'] = train['fold'].astype(int)\n",
    "#     return train"
   ]
  },
  {
   "cell_type": "code",
   "execution_count": 13,
   "id": "c7007386",
   "metadata": {
    "execution": {
     "iopub.execute_input": "2023-02-18T07:09:50.206557Z",
     "iopub.status.busy": "2023-02-18T07:09:50.206378Z",
     "iopub.status.idle": "2023-02-18T07:09:50.210654Z",
     "shell.execute_reply": "2023-02-18T07:09:50.210116Z"
    },
    "papermill": {
     "duration": 0.016546,
     "end_time": "2023-02-11T02:05:08.702048",
     "exception": false,
     "start_time": "2023-02-11T02:05:08.685502",
     "status": "completed"
    },
    "tags": []
   },
   "outputs": [],
   "source": [
    "# =========================================================================================\n",
    "# F2 score metric\n",
    "# =========================================================================================\n",
    "def f2_score(y_true, y_pred):\n",
    "    y_true = y_true.apply(lambda x: set(x.split()))\n",
    "    y_pred = y_pred.apply(lambda x: set(x.split()))\n",
    "    tp = np.array([len(x[0] & x[1]) for x in zip(y_true, y_pred)])\n",
    "    fp = np.array([len(x[1] - x[0]) for x in zip(y_true, y_pred)])\n",
    "    fn = np.array([len(x[0] - x[1]) for x in zip(y_true, y_pred)])\n",
    "    precision = tp / (tp + fp)\n",
    "    recall = tp / (tp + fn)\n",
    "    f2 = tp / (tp + 0.2 * fp + 0.8 * fn)\n",
    "    return round(f2.mean(), 4)"
   ]
  },
  {
   "cell_type": "code",
   "execution_count": 14,
   "id": "c79f24de",
   "metadata": {
    "execution": {
     "iopub.execute_input": "2023-02-18T07:09:50.212503Z",
     "iopub.status.busy": "2023-02-18T07:09:50.212342Z",
     "iopub.status.idle": "2023-02-18T07:09:50.215982Z",
     "shell.execute_reply": "2023-02-18T07:09:50.215392Z"
    },
    "papermill": {
     "duration": 0.015781,
     "end_time": "2023-02-11T02:05:08.723530",
     "exception": false,
     "start_time": "2023-02-11T02:05:08.707749",
     "status": "completed"
    },
    "tags": []
   },
   "outputs": [],
   "source": [
    "# =========================================================================================\n",
    "# Get max length\n",
    "# =========================================================================================\n",
    "def get_max_length(train, cfg):\n",
    "    lengths = []\n",
    "    for text in tqdm(train['text'].fillna(\"\").values, total = len(train)):\n",
    "        length = len(cfg.tokenizer(text, add_special_tokens = False)['input_ids'])\n",
    "        lengths.append(length)\n",
    "    cfg.max_len = max(lengths) + 5 # cls + sep + level + category + kind\n",
    "    print(f\"max_len: {cfg.max_len}\")"
   ]
  },
  {
   "cell_type": "code",
   "execution_count": 15,
   "id": "cc8d29cf",
   "metadata": {
    "execution": {
     "iopub.execute_input": "2023-02-18T07:09:50.218537Z",
     "iopub.status.busy": "2023-02-18T07:09:50.218315Z",
     "iopub.status.idle": "2023-02-18T07:09:50.252002Z",
     "shell.execute_reply": "2023-02-18T07:09:50.251303Z"
    },
    "papermill": {
     "duration": 0.058232,
     "end_time": "2023-02-11T02:05:08.787596",
     "exception": false,
     "start_time": "2023-02-11T02:05:08.729364",
     "status": "completed"
    },
    "tags": []
   },
   "outputs": [],
   "source": [
    "# =========================================================================================\n",
    "# Prepare input, tokenize\n",
    "# =========================================================================================\n",
    "def prepare_input(text, cfg):\n",
    "    inputs = cfg.tokenizer.encode_plus(\n",
    "        text, \n",
    "        return_tensors = None, \n",
    "        add_special_tokens = True, \n",
    "        max_length = cfg.max_len,\n",
    "        pad_to_max_length = True,\n",
    "        truncation = True\n",
    "    )\n",
    "    for k, v in inputs.items():\n",
    "        inputs[k] = torch.tensor(v, dtype = torch.long)\n",
    "    return inputs\n",
    "\n",
    "# =========================================================================================\n",
    "# Custom dataset\n",
    "# =========================================================================================\n",
    "class custom_dataset(Dataset):\n",
    "    def __init__(self, df, cfg):\n",
    "        self.cfg = cfg\n",
    "        self.texts = df['text'].values\n",
    "        self.labels = df['target'].values\n",
    "    def __len__(self):\n",
    "        return len(self.texts)\n",
    "    def __getitem__(self, item):\n",
    "        inputs = prepare_input(self.texts[item], self.cfg)\n",
    "        label = torch.tensor(self.labels[item], dtype = torch.float)\n",
    "        return inputs, label\n",
    "    \n",
    "# =========================================================================================\n",
    "# Collate function for training\n",
    "# =========================================================================================\n",
    "def collate(inputs):\n",
    "    mask_len = int(inputs[\"attention_mask\"].sum(axis=1).max())\n",
    "    for k, v in inputs.items():\n",
    "        inputs[k] = inputs[k][:,:mask_len]\n",
    "    return inputs\n",
    "\n",
    "# =========================================================================================\n",
    "# Mean pooling class\n",
    "# =========================================================================================\n",
    "class MeanPooling(nn.Module):\n",
    "    def __init__(self):\n",
    "        super(MeanPooling, self).__init__()\n",
    "    def forward(self, last_hidden_state, attention_mask):\n",
    "        input_mask_expanded = attention_mask.unsqueeze(-1).expand(last_hidden_state.size()).float()\n",
    "        sum_embeddings = torch.sum(last_hidden_state * input_mask_expanded, 1)\n",
    "        sum_mask = input_mask_expanded.sum(1)\n",
    "        sum_mask = torch.clamp(sum_mask, min=1e-9)\n",
    "        mean_embeddings = sum_embeddings / sum_mask\n",
    "        return mean_embeddings\n",
    "    \n",
    "# =========================================================================================\n",
    "# Model\n",
    "# =========================================================================================\n",
    "class custom_model(nn.Module):\n",
    "    def __init__(self, cfg):\n",
    "        super().__init__()\n",
    "        self.cfg = cfg\n",
    "        self.config = AutoConfig.from_pretrained(cfg.model, output_hidden_states = True)\n",
    "        self.config.hidden_dropout = 0.0\n",
    "        self.config.hidden_dropout_prob = 0.0\n",
    "        self.config.attention_dropout = 0.0\n",
    "        self.config.attention_probs_dropout_prob = 0.0\n",
    "        self.model = AutoModel.from_pretrained(cfg.model, config = self.config)\n",
    "        # AutoTokenizer.from_pretrainedでadditional_special_tokensをした際は、増えたtoken分、新しい語彙として登録が必要らしい\n",
    "        # https://cocoinit23.com/pytorch-runtimeerror-cuda-error-device-side-assert-triggered/\n",
    "        self.model.resize_token_embeddings(len(cfg.tokenizer))\n",
    "        if self.cfg.gradient_checkpointing:\n",
    "            self.model.gradient_checkpointing_enable()\n",
    "        self.pool = MeanPooling()\n",
    "        self.fc = nn.Linear(self.config.hidden_size, 1)\n",
    "        self._init_weights(self.fc)\n",
    "    def _init_weights(self, module):\n",
    "        if isinstance(module, nn.Linear):\n",
    "            module.weight.data.normal_(mean=0.0, std=self.config.initializer_range)\n",
    "            if module.bias is not None:\n",
    "                module.bias.data.zero_()\n",
    "        elif isinstance(module, nn.Embedding):\n",
    "            module.weight.data.normal_(mean=0.0, std=self.config.initializer_range)\n",
    "            if module.padding_idx is not None:\n",
    "                module.weight.data[module.padding_idx].zero_()\n",
    "        elif isinstance(module, nn.LayerNorm):\n",
    "            module.bias.data.zero_()\n",
    "            module.weight.data.fill_(1.0)\n",
    "    def feature(self, inputs):\n",
    "        outputs = self.model(**inputs)\n",
    "        last_hidden_state = outputs.last_hidden_state\n",
    "        feature = self.pool(last_hidden_state, inputs['attention_mask'])\n",
    "        return feature\n",
    "    def forward(self, inputs):\n",
    "        feature = self.feature(inputs)\n",
    "        output = self.fc(feature)\n",
    "        return output\n",
    "    \n",
    "# =========================================================================================\n",
    "# Helper functions\n",
    "# =========================================================================================\n",
    "class AverageMeter(object):\n",
    "    \"\"\"Computes and stores the average and current value\"\"\"\n",
    "    def __init__(self):\n",
    "        self.reset()\n",
    "    def reset(self):\n",
    "        self.val = 0\n",
    "        self.avg = 0\n",
    "        self.sum = 0\n",
    "        self.count = 0\n",
    "    def update(self, val, n=1):\n",
    "        self.val = val\n",
    "        self.sum += val * n\n",
    "        self.count += n\n",
    "        self.avg = self.sum / self.count\n",
    "\n",
    "def asMinutes(s):\n",
    "    m = math.floor(s / 60)\n",
    "    s -= m * 60\n",
    "    return '%dm %ds' % (m, s)\n",
    "\n",
    "def timeSince(since, percent):\n",
    "    now = time.time()\n",
    "    s = now - since\n",
    "    es = s / (percent)\n",
    "    rs = es - s\n",
    "    return '%s (remain %s)' % (asMinutes(s), asMinutes(rs))\n",
    "\n",
    "# =========================================================================================\n",
    "# Train function loop\n",
    "# =========================================================================================\n",
    "def train_fn(train_loader, model, criterion, optimizer, epoch, scheduler, device, cfg):\n",
    "    model.train()\n",
    "    scaler = torch.cuda.amp.GradScaler(enabled = True)\n",
    "    losses = AverageMeter()\n",
    "    start = end = time.time()\n",
    "    global_step = 0\n",
    "    for step, (inputs, target) in enumerate(train_loader):\n",
    "        inputs = collate(inputs)\n",
    "        for k, v in inputs.items():\n",
    "            inputs[k] = v.to(device)\n",
    "        target = target.to(device)\n",
    "        batch_size = target.size(0)\n",
    "        with torch.cuda.amp.autocast(enabled = True):\n",
    "            y_preds = model(inputs)\n",
    "            loss = criterion(y_preds.view(-1), target)\n",
    "        losses.update(loss.item(), batch_size)\n",
    "        scaler.scale(loss).backward()\n",
    "        scaler.unscale_(optimizer)\n",
    "        grad_norm = torch.nn.utils.clip_grad_norm_(model.parameters(), cfg.max_grad_norm)\n",
    "        scaler.step(optimizer)\n",
    "        scaler.update()\n",
    "        optimizer.zero_grad()\n",
    "        global_step += 1\n",
    "        scheduler.step()\n",
    "        end = time.time()\n",
    "        if step % cfg.print_freq == 0 or step == (len(train_loader) - 1):\n",
    "            print('Epoch: [{0}][{1}/{2}] '\n",
    "                  'Elapsed {remain:s} '\n",
    "                  'Loss: {loss.val:.4f}({loss.avg:.4f}) '\n",
    "                  'Grad: {grad_norm:.4f}  '\n",
    "                  'LR: {lr:.8f}  '\n",
    "                  .format(epoch + 1, \n",
    "                          step, \n",
    "                          len(train_loader), \n",
    "                          remain = timeSince(start, float(step + 1) / len(train_loader)),\n",
    "                          loss = losses,\n",
    "                          grad_norm = grad_norm,\n",
    "                          lr = scheduler.get_lr()[0]))\n",
    "    return losses.avg\n",
    "\n",
    "# =========================================================================================\n",
    "# Valid function loop\n",
    "# =========================================================================================\n",
    "def valid_fn(valid_loader, model, criterion, device, cfg):\n",
    "    losses = AverageMeter()\n",
    "    model.eval()\n",
    "    preds = []\n",
    "    start = end = time.time()\n",
    "    for step, (inputs, target) in enumerate(valid_loader):\n",
    "        inputs = collate(inputs)\n",
    "        for k, v in inputs.items():\n",
    "            inputs[k] = v.to(device)\n",
    "        target = target.to(device)\n",
    "        batch_size = target.size(0)\n",
    "        with torch.no_grad():\n",
    "            y_preds = model(inputs)\n",
    "        loss = criterion(y_preds.view(-1), target)\n",
    "        losses.update(loss.item(), batch_size)\n",
    "        preds.append(y_preds.sigmoid().squeeze().to('cpu').numpy().reshape(-1))\n",
    "        end = time.time()\n",
    "        if step % cfg.print_freq == 0 or step == (len(valid_loader) - 1):\n",
    "            print('EVAL: [{0}/{1}] '\n",
    "                  'Elapsed {remain:s} '\n",
    "                  'Loss: {loss.val:.4f}({loss.avg:.4f}) '\n",
    "                  .format(step, \n",
    "                          len(valid_loader),\n",
    "                          loss = losses,\n",
    "                          remain = timeSince(start, float(step + 1) / len(valid_loader))))\n",
    "    predictions = np.concatenate(preds, axis = 0)\n",
    "    return losses.avg, predictions\n",
    "\n",
    "# =========================================================================================\n",
    "# Get best threshold\n",
    "# =========================================================================================\n",
    "def get_best_threshold(x_val, val_predictions, correlations):\n",
    "    best_score = 0\n",
    "    best_threshold = None\n",
    "    for thres in np.arange(0.001, 0.1, 0.001):\n",
    "        x_val['predictions'] = np.where(val_predictions > thres, 1, 0)\n",
    "        x_val1 = x_val[x_val['predictions'] == 1]\n",
    "        x_val1 = x_val1.groupby(['topics_ids'])['content_ids'].unique().reset_index()\n",
    "        x_val1['content_ids'] = x_val1['content_ids'].apply(lambda x: ' '.join(x))\n",
    "        x_val1.columns = ['topic_id', 'predictions']\n",
    "        x_val0 = pd.Series(x_val['topics_ids'].unique())\n",
    "        x_val0 = x_val0[~x_val0.isin(x_val1['topic_id'])]\n",
    "        x_val0 = pd.DataFrame({'topic_id': x_val0.values, 'predictions': \"\"})\n",
    "        x_val_r = pd.concat([x_val1, x_val0], axis = 0, ignore_index = True)\n",
    "        x_val_r = x_val_r.merge(correlations, how = 'left', on = 'topic_id')\n",
    "        score = f2_score(x_val_r['content_ids'], x_val_r['predictions'])\n",
    "        if score > best_score:\n",
    "            best_score = score\n",
    "            best_threshold = thres\n",
    "    return best_score, best_threshold\n",
    "    \n",
    "# =========================================================================================\n",
    "# Train & Evaluate\n",
    "# =========================================================================================\n",
    "def train_and_evaluate_one_fold(train, correlations, fold, cfg):\n",
    "    print(' ')\n",
    "    print(f\"========== fold: {fold} training ==========\")\n",
    "    # Split train & validation\n",
    "    x_train = train[train['fold'] != fold]\n",
    "    x_val = train[train['fold'] == fold]\n",
    "    valid_labels = x_val['target'].values\n",
    "    train_dataset = custom_dataset(x_train, cfg)\n",
    "    valid_dataset = custom_dataset(x_val, cfg)\n",
    "    train_loader = DataLoader(\n",
    "        train_dataset, \n",
    "        batch_size = cfg.batch_size, \n",
    "        shuffle = True, \n",
    "        num_workers = cfg.num_workers, \n",
    "        pin_memory = True, \n",
    "        drop_last = True\n",
    "    )\n",
    "    valid_loader = DataLoader(\n",
    "        valid_dataset, \n",
    "        batch_size = cfg.batch_size, \n",
    "        shuffle = False, \n",
    "        num_workers = cfg.num_workers, \n",
    "        pin_memory = True, \n",
    "        drop_last = False\n",
    "    )\n",
    "    # Get model\n",
    "    model = custom_model(cfg)\n",
    "    model.to(device)\n",
    "    # Optimizer\n",
    "    def get_optimizer_params(model, encoder_lr, decoder_lr, weight_decay = 0.0):\n",
    "        no_decay = ['bias', 'LayerNorm.bias', 'LayerNorm.weight']\n",
    "        optimizer_parameters = [\n",
    "            {'params': [p for n, p in model.model.named_parameters() if not any(nd in n for nd in no_decay)],\n",
    "            'lr': encoder_lr, 'weight_decay': weight_decay},\n",
    "            {'params': [p for n, p in model.model.named_parameters() if any(nd in n for nd in no_decay)],\n",
    "            'lr': encoder_lr, 'weight_decay': 0.0},\n",
    "            {'params': [p for n, p in model.named_parameters() if \"model\" not in n],\n",
    "            'lr': decoder_lr, 'weight_decay': 0.0}\n",
    "        ]\n",
    "        return optimizer_parameters\n",
    "    optimizer_parameters = get_optimizer_params(\n",
    "        model, \n",
    "        encoder_lr = cfg.encoder_lr, \n",
    "        decoder_lr = cfg.decoder_lr,\n",
    "        weight_decay = cfg.weight_decay\n",
    "    )\n",
    "    optimizer = AdamW(\n",
    "        optimizer_parameters, \n",
    "        lr = cfg.encoder_lr, \n",
    "        eps = cfg.eps, \n",
    "        betas = cfg.betas\n",
    "    )\n",
    "    num_train_steps = int(len(x_train) / cfg.batch_size * cfg.epochs)\n",
    "    num_warmup_steps = num_train_steps * cfg.warmup_ratio\n",
    "    # Scheduler\n",
    "    scheduler = get_cosine_schedule_with_warmup(\n",
    "        optimizer, \n",
    "        num_warmup_steps = num_warmup_steps, \n",
    "        num_training_steps = num_train_steps, \n",
    "        num_cycles = cfg.num_cycles\n",
    "        )\n",
    "    # Training & Validation loop\n",
    "    criterion = nn.BCEWithLogitsLoss(reduction = \"mean\")\n",
    "    best_score = 0\n",
    "    for epoch in range(cfg.epochs):\n",
    "        start_time = time.time()\n",
    "        # Train\n",
    "        avg_loss = train_fn(train_loader, model, criterion, optimizer, epoch, scheduler, device, cfg)\n",
    "        # Validation\n",
    "        avg_val_loss, predictions = valid_fn(valid_loader, model, criterion, device, cfg)\n",
    "        # Compute f2_score\n",
    "        score, threshold = get_best_threshold(x_val, predictions, correlations)\n",
    "        elapsed = time.time() - start_time\n",
    "        print(f'Epoch {epoch+1} - avg_train_loss: {avg_loss:.4f}  avg_val_loss: {avg_val_loss:.4f}  time: {elapsed:.0f}s')\n",
    "        print(f'Epoch {epoch+1} - Score: {score:.4f} - Threshold: {threshold:.5f}')\n",
    "        if score > best_score:\n",
    "            best_score = score\n",
    "            print(f'Epoch {epoch+1} - Save Best Score: {best_score:.4f} Model')\n",
    "            torch.save(\n",
    "                {'model': model.state_dict(), 'predictions': predictions}, \n",
    "                f\"{OUTPUT_DIR}/{cfg.model.replace('/', '-')}_fold{fold}_{cfg.seed}.pth\"\n",
    "                )\n",
    "            val_predictions = predictions\n",
    "    torch.cuda.empty_cache()\n",
    "    gc.collect()\n",
    "    # Get best threshold\n",
    "    best_score, best_threshold = get_best_threshold(x_val, val_predictions, correlations)\n",
    "    # Save Score, Threshold\n",
    "    score = {\"best_score\": best_score, \"best_threshold\": best_threshold}\n",
    "    with open(f\"{OUTPUT_DIR}/score.pkl\", \"wb\") as f:\n",
    "        pickle.dump(score, f)\n",
    "    print(f'Our CV score is {best_score} using a threshold of {best_threshold}')"
   ]
  },
  {
   "cell_type": "code",
   "execution_count": 16,
   "id": "f3f57c04",
   "metadata": {
    "execution": {
     "iopub.execute_input": "2023-02-18T07:09:50.254471Z",
     "iopub.status.busy": "2023-02-18T07:09:50.254267Z",
     "iopub.status.idle": "2023-02-18T07:09:50.257795Z",
     "shell.execute_reply": "2023-02-18T07:09:50.257302Z"
    },
    "papermill": {
     "duration": 0.019865,
     "end_time": "2023-02-11T02:05:08.813594",
     "exception": false,
     "start_time": "2023-02-11T02:05:08.793729",
     "status": "completed"
    },
    "tags": []
   },
   "outputs": [],
   "source": [
    "# Seed everything\n",
    "seed_everything(CFG)"
   ]
  },
  {
   "cell_type": "code",
   "execution_count": 17,
   "id": "75b78f49",
   "metadata": {
    "execution": {
     "iopub.execute_input": "2023-02-18T07:09:50.276874Z",
     "iopub.status.busy": "2023-02-18T07:09:50.276688Z",
     "iopub.status.idle": "2023-02-18T07:10:00.693927Z",
     "shell.execute_reply": "2023-02-18T07:10:00.693303Z"
    },
    "papermill": {
     "duration": 22.091749,
     "end_time": "2023-02-11T02:05:30.911554",
     "exception": false,
     "start_time": "2023-02-11T02:05:08.819805",
     "status": "completed"
    },
    "tags": []
   },
   "outputs": [],
   "source": [
    "# Read data\n",
    "train, topics, content, correlations = read_data(CFG)"
   ]
  },
  {
   "cell_type": "code",
   "execution_count": 18,
   "id": "4af247a4-44dd-46bf-8e59-2f48b5de5269",
   "metadata": {
    "autoscroll": "auto",
    "collapsed": false,
    "execution": {
     "iopub.execute_input": "2023-02-18T07:10:00.696501Z",
     "iopub.status.busy": "2023-02-18T07:10:00.695868Z",
     "iopub.status.idle": "2023-02-18T07:10:00.885454Z",
     "shell.execute_reply": "2023-02-18T07:10:00.885025Z"
    }
   },
   "outputs": [
    {
     "data": {
      "text/plain": [
       "topics_ids        0\n",
       "content_ids       0\n",
       "topics_titles     0\n",
       "content_titles    0\n",
       "target            0\n",
       "dtype: int64"
      ]
     },
     "execution_count": 18,
     "metadata": {},
     "output_type": "execute_result"
    }
   ],
   "source": [
    "train.isnull().sum()"
   ]
  },
  {
   "cell_type": "code",
   "execution_count": 19,
   "id": "b0e6c17a-1e04-43e3-8522-645a7e50d555",
   "metadata": {
    "execution": {
     "iopub.execute_input": "2023-02-18T07:10:00.888116Z",
     "iopub.status.busy": "2023-02-18T07:10:00.887448Z",
     "iopub.status.idle": "2023-02-18T07:10:02.490693Z",
     "shell.execute_reply": "2023-02-18T07:10:02.490165Z"
    }
   },
   "outputs": [],
   "source": [
    "# positive sampleを足す\n",
    "def add_positive_sample(train: pd.DataFrame, correlations: pd.DataFrame, topics: pd.DataFrame, content: pd.DataFrame):\n",
    "    \n",
    "    topic_title_dict = dict(zip(topics[\"id\"], topics[\"title\"]))\n",
    "    content_title_dict = dict(zip(content[\"id\"], content[\"title\"]))\n",
    "    \n",
    "    correlations[\"content_ids_list\"] = correlations[\"content_ids\"].apply(lambda x : x.split())\n",
    "    \n",
    "    all_positive_sample = correlations.explode(\"content_ids_list\")[[\"topic_id\",\"content_ids_list\"]]\n",
    "    all_positive_sample = all_positive_sample.rename(columns={\"topic_id\":\"topics_ids\",\"content_ids_list\":\"content_ids\"})\n",
    "    \n",
    "    all_positive_sample[\"topics_titles\"] = all_positive_sample[\"topics_ids\"].map(topic_title_dict)\n",
    "    all_positive_sample[\"content_titles\"] = all_positive_sample[\"content_ids\"].map(content_title_dict)\n",
    "    all_positive_sample[\"target\"] = 1\n",
    "    \n",
    "    all_positive_sample = all_positive_sample.reset_index(drop=True)\n",
    "    \n",
    "    train = pd.concat([train, all_positive_sample]).drop_duplicates(subset=[\"topics_ids\",\"content_ids\"], keep='first')\n",
    "    train = train.sort_values(\"topics_ids\")\n",
    "    train = train.reset_index(drop=True)\n",
    "    return train\n",
    "\n",
    "train = add_positive_sample(train, correlations, topics, content)"
   ]
  },
  {
   "cell_type": "code",
   "execution_count": 20,
   "id": "27837264",
   "metadata": {
    "execution": {
     "iopub.execute_input": "2023-02-18T07:10:02.493953Z",
     "iopub.status.busy": "2023-02-18T07:10:02.493253Z",
     "iopub.status.idle": "2023-02-18T07:10:02.496165Z",
     "shell.execute_reply": "2023-02-18T07:10:02.495793Z"
    },
    "papermill": {
     "duration": 0.02252,
     "end_time": "2023-02-11T02:05:30.947474",
     "exception": false,
     "start_time": "2023-02-11T02:05:30.924954",
     "status": "completed"
    },
    "tags": []
   },
   "outputs": [],
   "source": [
    "if CFG.debug:\n",
    "    train = train[:1000]\n",
    "    CFG.epoch = 1"
   ]
  },
  {
   "cell_type": "code",
   "execution_count": 21,
   "id": "4205a7c0",
   "metadata": {
    "execution": {
     "iopub.execute_input": "2023-02-18T07:10:02.498205Z",
     "iopub.status.busy": "2023-02-18T07:10:02.497719Z",
     "iopub.status.idle": "2023-02-18T07:10:04.466462Z",
     "shell.execute_reply": "2023-02-18T07:10:04.465926Z"
    },
    "papermill": {
     "duration": 2.095627,
     "end_time": "2023-02-11T02:05:33.051735",
     "exception": false,
     "start_time": "2023-02-11T02:05:30.956108",
     "status": "completed"
    },
    "tags": []
   },
   "outputs": [],
   "source": [
    "train, level_tag_list, category_list, kind_list = merge_cat_info(train, topics, content)"
   ]
  },
  {
   "cell_type": "code",
   "execution_count": 22,
   "id": "03d9bbf0",
   "metadata": {
    "autoscroll": "auto",
    "collapsed": false,
    "execution": {
     "iopub.execute_input": "2023-02-18T07:10:04.469936Z",
     "iopub.status.busy": "2023-02-18T07:10:04.469183Z",
     "iopub.status.idle": "2023-02-18T07:10:04.473179Z",
     "shell.execute_reply": "2023-02-18T07:10:04.472794Z"
    },
    "jupyter": {
     "outputs_hidden": false
    },
    "papermill": {
     "duration": 0.017352,
     "end_time": "2023-02-11T02:05:33.075436",
     "exception": false,
     "start_time": "2023-02-11T02:05:33.058084",
     "status": "completed"
    },
    "tags": []
   },
   "outputs": [
    {
     "data": {
      "text/plain": [
       "['[LEVEL0]',\n",
       " '[LEVEL10]',\n",
       " '[LEVEL1]',\n",
       " '[LEVEL2]',\n",
       " '[LEVEL3]',\n",
       " '[LEVEL4]',\n",
       " '[LEVEL5]',\n",
       " '[LEVEL6]',\n",
       " '[LEVEL7]',\n",
       " '[LEVEL8]',\n",
       " '[LEVEL9]']"
      ]
     },
     "execution_count": 22,
     "metadata": {},
     "output_type": "execute_result"
    }
   ],
   "source": [
    "level_tag_list"
   ]
  },
  {
   "cell_type": "code",
   "execution_count": 23,
   "id": "0875c7d4",
   "metadata": {
    "autoscroll": "auto",
    "collapsed": false,
    "execution": {
     "iopub.execute_input": "2023-02-18T07:10:04.475639Z",
     "iopub.status.busy": "2023-02-18T07:10:04.475030Z",
     "iopub.status.idle": "2023-02-18T07:10:04.478380Z",
     "shell.execute_reply": "2023-02-18T07:10:04.478027Z"
    },
    "jupyter": {
     "outputs_hidden": false
    },
    "papermill": {
     "duration": 0.015936,
     "end_time": "2023-02-11T02:05:33.097182",
     "exception": false,
     "start_time": "2023-02-11T02:05:33.081246",
     "status": "completed"
    },
    "tags": []
   },
   "outputs": [
    {
     "data": {
      "text/plain": [
       "['[CATEGORY_ALIGNED]', '[CATEGORY_SOURCE]', '[CATEGORY_SUPPLEMENTAL]']"
      ]
     },
     "execution_count": 23,
     "metadata": {},
     "output_type": "execute_result"
    }
   ],
   "source": [
    "category_list"
   ]
  },
  {
   "cell_type": "code",
   "execution_count": 24,
   "id": "28e80456",
   "metadata": {
    "autoscroll": "auto",
    "collapsed": false,
    "execution": {
     "iopub.execute_input": "2023-02-18T07:10:04.480704Z",
     "iopub.status.busy": "2023-02-18T07:10:04.480163Z",
     "iopub.status.idle": "2023-02-18T07:10:04.483346Z",
     "shell.execute_reply": "2023-02-18T07:10:04.483009Z"
    },
    "jupyter": {
     "outputs_hidden": false
    },
    "papermill": {
     "duration": 0.015618,
     "end_time": "2023-02-11T02:05:33.119122",
     "exception": false,
     "start_time": "2023-02-11T02:05:33.103504",
     "status": "completed"
    },
    "tags": []
   },
   "outputs": [
    {
     "data": {
      "text/plain": [
       "['[KIND_AUDIO]',\n",
       " '[KIND_DOCUMENT]',\n",
       " '[KIND_EXERCISE]',\n",
       " '[KIND_HTML5]',\n",
       " '[KIND_VIDEO]']"
      ]
     },
     "execution_count": 24,
     "metadata": {},
     "output_type": "execute_result"
    }
   ],
   "source": [
    "kind_list"
   ]
  },
  {
   "cell_type": "code",
   "execution_count": 25,
   "id": "bb705e19",
   "metadata": {
    "execution": {
     "iopub.execute_input": "2023-02-18T07:10:04.485597Z",
     "iopub.status.busy": "2023-02-18T07:10:04.485118Z",
     "iopub.status.idle": "2023-02-18T07:10:04.774160Z",
     "shell.execute_reply": "2023-02-18T07:10:04.773605Z"
    },
    "papermill": {
     "duration": 0.227458,
     "end_time": "2023-02-11T02:05:33.352932",
     "exception": false,
     "start_time": "2023-02-11T02:05:33.125474",
     "status": "completed"
    },
    "tags": []
   },
   "outputs": [],
   "source": [
    "train = preprocess(train)"
   ]
  },
  {
   "cell_type": "code",
   "execution_count": 26,
   "id": "c95af3cf",
   "metadata": {
    "autoscroll": "auto",
    "collapsed": false,
    "execution": {
     "iopub.execute_input": "2023-02-18T07:10:04.777428Z",
     "iopub.status.busy": "2023-02-18T07:10:04.776725Z",
     "iopub.status.idle": "2023-02-18T07:10:04.784340Z",
     "shell.execute_reply": "2023-02-18T07:10:04.783984Z"
    },
    "jupyter": {
     "outputs_hidden": false
    },
    "papermill": {
     "duration": 0.024865,
     "end_time": "2023-02-11T02:05:33.384259",
     "exception": false,
     "start_time": "2023-02-11T02:05:33.359394",
     "status": "completed"
    },
    "tags": []
   },
   "outputs": [
    {
     "data": {
      "text/html": [
       "<div>\n",
       "<style scoped>\n",
       "    .dataframe tbody tr th:only-of-type {\n",
       "        vertical-align: middle;\n",
       "    }\n",
       "\n",
       "    .dataframe tbody tr th {\n",
       "        vertical-align: top;\n",
       "    }\n",
       "\n",
       "    .dataframe thead th {\n",
       "        text-align: right;\n",
       "    }\n",
       "</style>\n",
       "<table border=\"1\" class=\"dataframe\">\n",
       "  <thead>\n",
       "    <tr style=\"text-align: right;\">\n",
       "      <th></th>\n",
       "      <th>topics_ids</th>\n",
       "      <th>content_ids</th>\n",
       "      <th>topics_titles</th>\n",
       "      <th>content_titles</th>\n",
       "      <th>target</th>\n",
       "      <th>text</th>\n",
       "    </tr>\n",
       "  </thead>\n",
       "  <tbody>\n",
       "    <tr>\n",
       "      <th>0</th>\n",
       "      <td>t_00004da3a1b2</td>\n",
       "      <td>c_dfa229bd21df</td>\n",
       "      <td>[LEVEL4][CATEGORY_SOURCE]Откриването на резист...</td>\n",
       "      <td>[KIND_VIDEO]Последователно свързани резистори</td>\n",
       "      <td>0</td>\n",
       "      <td>[LEVEL4][CATEGORY_SOURCE]Откриването на резист...</td>\n",
       "    </tr>\n",
       "    <tr>\n",
       "      <th>1</th>\n",
       "      <td>t_00004da3a1b2</td>\n",
       "      <td>c_5bc0e1e2cba0</td>\n",
       "      <td>[LEVEL4][CATEGORY_SOURCE]Откриването на резист...</td>\n",
       "      <td>[KIND_VIDEO]Променлив резистор (реостат) с гра...</td>\n",
       "      <td>1</td>\n",
       "      <td>[LEVEL4][CATEGORY_SOURCE]Откриването на резист...</td>\n",
       "    </tr>\n",
       "    <tr>\n",
       "      <th>2</th>\n",
       "      <td>t_00004da3a1b2</td>\n",
       "      <td>c_e1e8557d7c61</td>\n",
       "      <td>[LEVEL4][CATEGORY_SOURCE]Откриването на резист...</td>\n",
       "      <td>[KIND_VIDEO]Последователни резистори</td>\n",
       "      <td>0</td>\n",
       "      <td>[LEVEL4][CATEGORY_SOURCE]Откриването на резист...</td>\n",
       "    </tr>\n",
       "    <tr>\n",
       "      <th>3</th>\n",
       "      <td>t_00004da3a1b2</td>\n",
       "      <td>c_8e6555906046</td>\n",
       "      <td>[LEVEL4][CATEGORY_SOURCE]Откриването на резист...</td>\n",
       "      <td>[KIND_VIDEO]Пример: Анализиране на по-сложна в...</td>\n",
       "      <td>0</td>\n",
       "      <td>[LEVEL4][CATEGORY_SOURCE]Откриването на резист...</td>\n",
       "    </tr>\n",
       "    <tr>\n",
       "      <th>4</th>\n",
       "      <td>t_00004da3a1b2</td>\n",
       "      <td>c_d35077f2c3d3</td>\n",
       "      <td>[LEVEL4][CATEGORY_SOURCE]Откриването на резист...</td>\n",
       "      <td>[KIND_EXERCISE]Опростяване на мрежи от резистори</td>\n",
       "      <td>0</td>\n",
       "      <td>[LEVEL4][CATEGORY_SOURCE]Откриването на резист...</td>\n",
       "    </tr>\n",
       "  </tbody>\n",
       "</table>\n",
       "</div>"
      ],
      "text/plain": [
       "       topics_ids     content_ids  \\\n",
       "0  t_00004da3a1b2  c_dfa229bd21df   \n",
       "1  t_00004da3a1b2  c_5bc0e1e2cba0   \n",
       "2  t_00004da3a1b2  c_e1e8557d7c61   \n",
       "3  t_00004da3a1b2  c_8e6555906046   \n",
       "4  t_00004da3a1b2  c_d35077f2c3d3   \n",
       "\n",
       "                                       topics_titles  \\\n",
       "0  [LEVEL4][CATEGORY_SOURCE]Откриването на резист...   \n",
       "1  [LEVEL4][CATEGORY_SOURCE]Откриването на резист...   \n",
       "2  [LEVEL4][CATEGORY_SOURCE]Откриването на резист...   \n",
       "3  [LEVEL4][CATEGORY_SOURCE]Откриването на резист...   \n",
       "4  [LEVEL4][CATEGORY_SOURCE]Откриването на резист...   \n",
       "\n",
       "                                      content_titles  target  \\\n",
       "0      [KIND_VIDEO]Последователно свързани резистори       0   \n",
       "1  [KIND_VIDEO]Променлив резистор (реостат) с гра...       1   \n",
       "2               [KIND_VIDEO]Последователни резистори       0   \n",
       "3  [KIND_VIDEO]Пример: Анализиране на по-сложна в...       0   \n",
       "4   [KIND_EXERCISE]Опростяване на мрежи от резистори       0   \n",
       "\n",
       "                                                text  \n",
       "0  [LEVEL4][CATEGORY_SOURCE]Откриването на резист...  \n",
       "1  [LEVEL4][CATEGORY_SOURCE]Откриването на резист...  \n",
       "2  [LEVEL4][CATEGORY_SOURCE]Откриването на резист...  \n",
       "3  [LEVEL4][CATEGORY_SOURCE]Откриването на резист...  \n",
       "4  [LEVEL4][CATEGORY_SOURCE]Откриването на резист...  "
      ]
     },
     "execution_count": 26,
     "metadata": {},
     "output_type": "execute_result"
    }
   ],
   "source": [
    "train.head()"
   ]
  },
  {
   "cell_type": "code",
   "execution_count": 27,
   "id": "1747a711",
   "metadata": {
    "autoscroll": "auto",
    "collapsed": false,
    "execution": {
     "iopub.execute_input": "2023-02-18T07:10:04.786471Z",
     "iopub.status.busy": "2023-02-18T07:10:04.786035Z",
     "iopub.status.idle": "2023-02-18T07:10:04.789170Z",
     "shell.execute_reply": "2023-02-18T07:10:04.788847Z"
    },
    "jupyter": {
     "outputs_hidden": false
    },
    "papermill": {
     "duration": 0.01595,
     "end_time": "2023-02-11T02:05:33.406795",
     "exception": false,
     "start_time": "2023-02-11T02:05:33.390845",
     "status": "completed"
    },
    "tags": []
   },
   "outputs": [
    {
     "data": {
      "text/plain": [
       "'[LEVEL4][CATEGORY_SOURCE]Откриването на резисторите > Открития и проекти > Физика > Наука > Khan Academy (български език)[SEP][KIND_VIDEO]Последователно свързани резистори'"
      ]
     },
     "execution_count": 27,
     "metadata": {},
     "output_type": "execute_result"
    }
   ],
   "source": [
    "train[\"text\"][0]"
   ]
  },
  {
   "cell_type": "code",
   "execution_count": 28,
   "id": "09133fac",
   "metadata": {
    "execution": {
     "iopub.execute_input": "2023-02-18T07:10:04.791189Z",
     "iopub.status.busy": "2023-02-18T07:10:04.790730Z",
     "iopub.status.idle": "2023-02-18T07:10:05.440461Z",
     "shell.execute_reply": "2023-02-18T07:10:05.440040Z"
    },
    "papermill": {
     "duration": 8.251238,
     "end_time": "2023-02-11T02:05:41.664455",
     "exception": false,
     "start_time": "2023-02-11T02:05:33.413217",
     "status": "completed"
    },
    "tags": []
   },
   "outputs": [],
   "source": [
    "CFG.tokenizer = AutoTokenizer.from_pretrained(\n",
    "    CFG.model,\n",
    "    additional_special_tokens = level_tag_list + category_list + kind_list\n",
    ")"
   ]
  },
  {
   "cell_type": "code",
   "execution_count": 29,
   "id": "bc3017c7",
   "metadata": {
    "autoscroll": "auto",
    "collapsed": false,
    "execution": {
     "iopub.execute_input": "2023-02-18T07:10:05.443207Z",
     "iopub.status.busy": "2023-02-18T07:10:05.442592Z",
     "iopub.status.idle": "2023-02-18T07:10:05.446283Z",
     "shell.execute_reply": "2023-02-18T07:10:05.445928Z"
    },
    "jupyter": {
     "outputs_hidden": false
    },
    "papermill": {
     "duration": 0.018461,
     "end_time": "2023-02-11T02:05:41.691787",
     "exception": false,
     "start_time": "2023-02-11T02:05:41.673326",
     "status": "completed"
    },
    "tags": []
   },
   "outputs": [
    {
     "data": {
      "text/plain": [
       "['[LEVEL0]',\n",
       " '[LEVEL10]',\n",
       " '[LEVEL1]',\n",
       " '[LEVEL2]',\n",
       " '[LEVEL3]',\n",
       " '[LEVEL4]',\n",
       " '[LEVEL5]',\n",
       " '[LEVEL6]',\n",
       " '[LEVEL7]',\n",
       " '[LEVEL8]',\n",
       " '[LEVEL9]',\n",
       " '[CATEGORY_ALIGNED]',\n",
       " '[CATEGORY_SOURCE]',\n",
       " '[CATEGORY_SUPPLEMENTAL]',\n",
       " '[KIND_AUDIO]',\n",
       " '[KIND_DOCUMENT]',\n",
       " '[KIND_EXERCISE]',\n",
       " '[KIND_HTML5]',\n",
       " '[KIND_VIDEO]']"
      ]
     },
     "execution_count": 29,
     "metadata": {},
     "output_type": "execute_result"
    }
   ],
   "source": [
    "CFG.tokenizer.additional_special_tokens"
   ]
  },
  {
   "cell_type": "code",
   "execution_count": 30,
   "id": "9e5a3ce5",
   "metadata": {
    "execution": {
     "iopub.execute_input": "2023-02-18T07:10:05.448340Z",
     "iopub.status.busy": "2023-02-18T07:10:05.447929Z",
     "iopub.status.idle": "2023-02-18T07:10:05.528841Z",
     "shell.execute_reply": "2023-02-18T07:10:05.528325Z"
    },
    "papermill": {
     "duration": 24.616901,
     "end_time": "2023-02-11T02:06:06.316153",
     "exception": false,
     "start_time": "2023-02-11T02:05:41.699252",
     "status": "completed"
    },
    "tags": []
   },
   "outputs": [],
   "source": [
    "# CV split\n",
    "# train = cv_split(train, CFG)\n",
    "\n",
    "# Use Same Fold By FineTuning\n",
    "with open(CFG.finetune_url + \"/fine_tunining_topic_id_fold.pkl\", \"rb\") as f:\n",
    "    fine_tunining_topic_id_fold = pickle.load(f)\n",
    "    \n",
    "train[\"fold\"] = train[\"topics_ids\"].map(fine_tunining_topic_id_fold)"
   ]
  },
  {
   "cell_type": "code",
   "execution_count": 31,
   "id": "287e8991-6d5a-470d-9459-2cc95718db13",
   "metadata": {
    "execution": {
     "iopub.execute_input": "2023-02-18T07:10:05.532046Z",
     "iopub.status.busy": "2023-02-18T07:10:05.531383Z",
     "iopub.status.idle": "2023-02-18T07:10:05.538507Z",
     "shell.execute_reply": "2023-02-18T07:10:05.538131Z"
    }
   },
   "outputs": [],
   "source": [
    "print(train[\"fold\"].value_counts())"
   ]
  },
  {
   "cell_type": "code",
   "execution_count": 32,
   "id": "a78af07c",
   "metadata": {
    "autoscroll": "auto",
    "collapsed": false,
    "execution": {
     "iopub.execute_input": "2023-02-18T07:10:05.541755Z",
     "iopub.status.busy": "2023-02-18T07:10:05.541469Z",
     "iopub.status.idle": "2023-02-18T07:10:05.725719Z",
     "shell.execute_reply": "2023-02-18T07:10:05.725280Z"
    },
    "jupyter": {
     "outputs_hidden": false
    },
    "papermill": {
     "duration": 0.160093,
     "end_time": "2023-02-11T02:06:06.483881",
     "exception": false,
     "start_time": "2023-02-11T02:06:06.323788",
     "status": "completed"
    },
    "tags": []
   },
   "outputs": [
    {
     "data": {
      "text/html": [
       "<div>\n",
       "<style scoped>\n",
       "    .dataframe tbody tr th:only-of-type {\n",
       "        vertical-align: middle;\n",
       "    }\n",
       "\n",
       "    .dataframe tbody tr th {\n",
       "        vertical-align: top;\n",
       "    }\n",
       "\n",
       "    .dataframe thead th {\n",
       "        text-align: right;\n",
       "    }\n",
       "</style>\n",
       "<table border=\"1\" class=\"dataframe\">\n",
       "  <thead>\n",
       "    <tr style=\"text-align: right;\">\n",
       "      <th></th>\n",
       "      <th>topics_ids</th>\n",
       "      <th>content_ids</th>\n",
       "      <th>topics_titles</th>\n",
       "      <th>content_titles</th>\n",
       "      <th>target</th>\n",
       "      <th>text</th>\n",
       "      <th>fold</th>\n",
       "    </tr>\n",
       "  </thead>\n",
       "  <tbody>\n",
       "    <tr>\n",
       "      <th>276</th>\n",
       "      <td>t_0016fa92caf4</td>\n",
       "      <td>c_27c6b4733ef7</td>\n",
       "      <td>[LEVEL6][CATEGORY_SOURCE]Two-step Problems - F...</td>\n",
       "      <td>[KIND_VIDEO]Multi-step Problems - Four Operati...</td>\n",
       "      <td>0</td>\n",
       "      <td>[LEVEL6][CATEGORY_SOURCE]Two-step Problems - F...</td>\n",
       "      <td>0</td>\n",
       "    </tr>\n",
       "    <tr>\n",
       "      <th>277</th>\n",
       "      <td>t_0016fa92caf4</td>\n",
       "      <td>c_e1d73acfff8e</td>\n",
       "      <td>[LEVEL6][CATEGORY_SOURCE]Two-step Problems - F...</td>\n",
       "      <td>[KIND_VIDEO]Two-step Problems - Four Operation...</td>\n",
       "      <td>1</td>\n",
       "      <td>[LEVEL6][CATEGORY_SOURCE]Two-step Problems - F...</td>\n",
       "      <td>0</td>\n",
       "    </tr>\n",
       "    <tr>\n",
       "      <th>278</th>\n",
       "      <td>t_0016fa92caf4</td>\n",
       "      <td>c_df32ca447e35</td>\n",
       "      <td>[LEVEL6][CATEGORY_SOURCE]Two-step Problems - F...</td>\n",
       "      <td>[KIND_VIDEO]Multi-step Compound Unit Subtracti...</td>\n",
       "      <td>0</td>\n",
       "      <td>[LEVEL6][CATEGORY_SOURCE]Two-step Problems - F...</td>\n",
       "      <td>0</td>\n",
       "    </tr>\n",
       "    <tr>\n",
       "      <th>279</th>\n",
       "      <td>t_0016fa92caf4</td>\n",
       "      <td>c_684f75086196</td>\n",
       "      <td>[LEVEL6][CATEGORY_SOURCE]Two-step Problems - F...</td>\n",
       "      <td>[KIND_VIDEO]Multi-step Addition of Weights wit...</td>\n",
       "      <td>0</td>\n",
       "      <td>[LEVEL6][CATEGORY_SOURCE]Two-step Problems - F...</td>\n",
       "      <td>0</td>\n",
       "    </tr>\n",
       "    <tr>\n",
       "      <th>280</th>\n",
       "      <td>t_0016fa92caf4</td>\n",
       "      <td>c_7db1939af130</td>\n",
       "      <td>[LEVEL6][CATEGORY_SOURCE]Two-step Problems - F...</td>\n",
       "      <td>[KIND_VIDEO]Multi-step Word Problems in Four O...</td>\n",
       "      <td>0</td>\n",
       "      <td>[LEVEL6][CATEGORY_SOURCE]Two-step Problems - F...</td>\n",
       "      <td>0</td>\n",
       "    </tr>\n",
       "    <tr>\n",
       "      <th>...</th>\n",
       "      <td>...</td>\n",
       "      <td>...</td>\n",
       "      <td>...</td>\n",
       "      <td>...</td>\n",
       "      <td>...</td>\n",
       "      <td>...</td>\n",
       "      <td>...</td>\n",
       "    </tr>\n",
       "    <tr>\n",
       "      <th>747534</th>\n",
       "      <td>t_fffbe1d5d43c</td>\n",
       "      <td>c_b67b6d19f622</td>\n",
       "      <td>[LEVEL4][CATEGORY_SOURCE]Inscribed shapes prob...</td>\n",
       "      <td>[KIND_VIDEO]Circles glossary -dubbed(KY)</td>\n",
       "      <td>0</td>\n",
       "      <td>[LEVEL4][CATEGORY_SOURCE]Inscribed shapes prob...</td>\n",
       "      <td>0</td>\n",
       "    </tr>\n",
       "    <tr>\n",
       "      <th>747535</th>\n",
       "      <td>t_fffbe1d5d43c</td>\n",
       "      <td>c_fb419a0d6fdf</td>\n",
       "      <td>[LEVEL4][CATEGORY_SOURCE]Inscribed shapes prob...</td>\n",
       "      <td>[KIND_VIDEO]CA Geometry: Basic trigonometry -d...</td>\n",
       "      <td>0</td>\n",
       "      <td>[LEVEL4][CATEGORY_SOURCE]Inscribed shapes prob...</td>\n",
       "      <td>0</td>\n",
       "    </tr>\n",
       "    <tr>\n",
       "      <th>747536</th>\n",
       "      <td>t_fffbe1d5d43c</td>\n",
       "      <td>c_fc0244e23044</td>\n",
       "      <td>[LEVEL4][CATEGORY_SOURCE]Inscribed shapes prob...</td>\n",
       "      <td>[KIND_VIDEO]Proof: perpendicular radius bisect...</td>\n",
       "      <td>0</td>\n",
       "      <td>[LEVEL4][CATEGORY_SOURCE]Inscribed shapes prob...</td>\n",
       "      <td>0</td>\n",
       "    </tr>\n",
       "    <tr>\n",
       "      <th>747537</th>\n",
       "      <td>t_fffbe1d5d43c</td>\n",
       "      <td>c_9fc34df626b9</td>\n",
       "      <td>[LEVEL4][CATEGORY_SOURCE]Inscribed shapes prob...</td>\n",
       "      <td>[KIND_VIDEO]Circumcenter of a triangle -dubbed...</td>\n",
       "      <td>0</td>\n",
       "      <td>[LEVEL4][CATEGORY_SOURCE]Inscribed shapes prob...</td>\n",
       "      <td>0</td>\n",
       "    </tr>\n",
       "    <tr>\n",
       "      <th>747538</th>\n",
       "      <td>t_fffbe1d5d43c</td>\n",
       "      <td>c_362ccd3b66e4</td>\n",
       "      <td>[LEVEL4][CATEGORY_SOURCE]Inscribed shapes prob...</td>\n",
       "      <td>[KIND_VIDEO]Using the angle bisector theorem -...</td>\n",
       "      <td>0</td>\n",
       "      <td>[LEVEL4][CATEGORY_SOURCE]Inscribed shapes prob...</td>\n",
       "      <td>0</td>\n",
       "    </tr>\n",
       "  </tbody>\n",
       "</table>\n",
       "<p>204966 rows × 7 columns</p>\n",
       "</div>"
      ],
      "text/plain": [
       "            topics_ids     content_ids  \\\n",
       "276     t_0016fa92caf4  c_27c6b4733ef7   \n",
       "277     t_0016fa92caf4  c_e1d73acfff8e   \n",
       "278     t_0016fa92caf4  c_df32ca447e35   \n",
       "279     t_0016fa92caf4  c_684f75086196   \n",
       "280     t_0016fa92caf4  c_7db1939af130   \n",
       "...                ...             ...   \n",
       "747534  t_fffbe1d5d43c  c_b67b6d19f622   \n",
       "747535  t_fffbe1d5d43c  c_fb419a0d6fdf   \n",
       "747536  t_fffbe1d5d43c  c_fc0244e23044   \n",
       "747537  t_fffbe1d5d43c  c_9fc34df626b9   \n",
       "747538  t_fffbe1d5d43c  c_362ccd3b66e4   \n",
       "\n",
       "                                            topics_titles  \\\n",
       "276     [LEVEL6][CATEGORY_SOURCE]Two-step Problems - F...   \n",
       "277     [LEVEL6][CATEGORY_SOURCE]Two-step Problems - F...   \n",
       "278     [LEVEL6][CATEGORY_SOURCE]Two-step Problems - F...   \n",
       "279     [LEVEL6][CATEGORY_SOURCE]Two-step Problems - F...   \n",
       "280     [LEVEL6][CATEGORY_SOURCE]Two-step Problems - F...   \n",
       "...                                                   ...   \n",
       "747534  [LEVEL4][CATEGORY_SOURCE]Inscribed shapes prob...   \n",
       "747535  [LEVEL4][CATEGORY_SOURCE]Inscribed shapes prob...   \n",
       "747536  [LEVEL4][CATEGORY_SOURCE]Inscribed shapes prob...   \n",
       "747537  [LEVEL4][CATEGORY_SOURCE]Inscribed shapes prob...   \n",
       "747538  [LEVEL4][CATEGORY_SOURCE]Inscribed shapes prob...   \n",
       "\n",
       "                                           content_titles  target  \\\n",
       "276     [KIND_VIDEO]Multi-step Problems - Four Operati...       0   \n",
       "277     [KIND_VIDEO]Two-step Problems - Four Operation...       1   \n",
       "278     [KIND_VIDEO]Multi-step Compound Unit Subtracti...       0   \n",
       "279     [KIND_VIDEO]Multi-step Addition of Weights wit...       0   \n",
       "280     [KIND_VIDEO]Multi-step Word Problems in Four O...       0   \n",
       "...                                                   ...     ...   \n",
       "747534           [KIND_VIDEO]Circles glossary -dubbed(KY)       0   \n",
       "747535  [KIND_VIDEO]CA Geometry: Basic trigonometry -d...       0   \n",
       "747536  [KIND_VIDEO]Proof: perpendicular radius bisect...       0   \n",
       "747537  [KIND_VIDEO]Circumcenter of a triangle -dubbed...       0   \n",
       "747538  [KIND_VIDEO]Using the angle bisector theorem -...       0   \n",
       "\n",
       "                                                     text  fold  \n",
       "276     [LEVEL6][CATEGORY_SOURCE]Two-step Problems - F...     0  \n",
       "277     [LEVEL6][CATEGORY_SOURCE]Two-step Problems - F...     0  \n",
       "278     [LEVEL6][CATEGORY_SOURCE]Two-step Problems - F...     0  \n",
       "279     [LEVEL6][CATEGORY_SOURCE]Two-step Problems - F...     0  \n",
       "280     [LEVEL6][CATEGORY_SOURCE]Two-step Problems - F...     0  \n",
       "...                                                   ...   ...  \n",
       "747534  [LEVEL4][CATEGORY_SOURCE]Inscribed shapes prob...     0  \n",
       "747535  [LEVEL4][CATEGORY_SOURCE]Inscribed shapes prob...     0  \n",
       "747536  [LEVEL4][CATEGORY_SOURCE]Inscribed shapes prob...     0  \n",
       "747537  [LEVEL4][CATEGORY_SOURCE]Inscribed shapes prob...     0  \n",
       "747538  [LEVEL4][CATEGORY_SOURCE]Inscribed shapes prob...     0  \n",
       "\n",
       "[204966 rows x 7 columns]"
      ]
     },
     "execution_count": 32,
     "metadata": {},
     "output_type": "execute_result"
    }
   ],
   "source": [
    "train[(train[\"fold\"] == 0)]"
   ]
  },
  {
   "cell_type": "code",
   "execution_count": 33,
   "id": "07e9b843",
   "metadata": {
    "autoscroll": "auto",
    "collapsed": false,
    "execution": {
     "iopub.execute_input": "2023-02-18T07:10:05.728602Z",
     "iopub.status.busy": "2023-02-18T07:10:05.727912Z",
     "iopub.status.idle": "2023-02-18T07:11:25.392248Z",
     "shell.execute_reply": "2023-02-18T07:11:25.391689Z"
    },
    "jupyter": {
     "outputs_hidden": false
    },
    "papermill": {
     "duration": 81.097871,
     "end_time": "2023-02-11T02:07:27.589260",
     "exception": false,
     "start_time": "2023-02-11T02:06:06.491389",
     "status": "completed"
    },
    "tags": []
   },
   "outputs": [
    {
     "data": {
      "application/vnd.jupyter.widget-view+json": {
       "model_id": "63f705e6ec2c4d51b79a55df8f55f966",
       "version_major": 2,
       "version_minor": 0
      },
      "text/plain": [
       "  0%|          | 0/747561 [00:00<?, ?it/s]"
      ]
     },
     "metadata": {},
     "output_type": "display_data"
    }
   ],
   "source": [
    "# Get max length\n",
    "get_max_length(train, CFG)"
   ]
  },
  {
   "cell_type": "code",
   "execution_count": 34,
   "id": "896807cf-cf68-42f9-aca1-118b255065e9",
   "metadata": {
    "execution": {
     "iopub.execute_input": "2023-02-18T07:11:25.394569Z",
     "iopub.status.busy": "2023-02-18T07:11:25.394198Z",
     "iopub.status.idle": "2023-02-18T07:11:25.397077Z",
     "shell.execute_reply": "2023-02-18T07:11:25.396606Z"
    }
   },
   "outputs": [],
   "source": [
    "if CFG.debug:\n",
    "    CFG.epochs = 1"
   ]
  },
  {
   "cell_type": "code",
   "execution_count": 35,
   "id": "0d26ac08-3550-4b1a-90fc-9f7cbda11e38",
   "metadata": {
    "autoscroll": "auto",
    "collapsed": false,
    "execution": {
     "iopub.execute_input": "2023-02-18T07:11:25.398927Z",
     "iopub.status.busy": "2023-02-18T07:11:25.398759Z",
     "iopub.status.idle": "2023-02-18T07:11:25.772271Z",
     "shell.execute_reply": "2023-02-18T07:11:25.771793Z"
    }
   },
   "outputs": [
    {
     "data": {
      "text/plain": [
       "topics_ids        0\n",
       "content_ids       0\n",
       "topics_titles     0\n",
       "content_titles    0\n",
       "target            0\n",
       "text              0\n",
       "fold              0\n",
       "dtype: int64"
      ]
     },
     "execution_count": 35,
     "metadata": {},
     "output_type": "execute_result"
    }
   ],
   "source": [
    "train.isnull().sum()"
   ]
  },
  {
   "cell_type": "code",
   "execution_count": 36,
   "id": "cebd28ca-eb07-4a5d-af37-b41bc07fdd7d",
   "metadata": {
    "autoscroll": "auto",
    "collapsed": false,
    "execution": {
     "iopub.execute_input": "2023-02-18T07:11:25.774487Z",
     "iopub.status.busy": "2023-02-18T07:11:25.774300Z",
     "iopub.status.idle": "2023-02-18T07:11:25.824295Z",
     "shell.execute_reply": "2023-02-18T07:11:25.823813Z"
    }
   },
   "outputs": [
    {
     "data": {
      "text/html": [
       "<div>\n",
       "<style scoped>\n",
       "    .dataframe tbody tr th:only-of-type {\n",
       "        vertical-align: middle;\n",
       "    }\n",
       "\n",
       "    .dataframe tbody tr th {\n",
       "        vertical-align: top;\n",
       "    }\n",
       "\n",
       "    .dataframe thead th {\n",
       "        text-align: right;\n",
       "    }\n",
       "</style>\n",
       "<table border=\"1\" class=\"dataframe\">\n",
       "  <thead>\n",
       "    <tr style=\"text-align: right;\">\n",
       "      <th></th>\n",
       "      <th>topics_ids</th>\n",
       "      <th>content_ids</th>\n",
       "      <th>topics_titles</th>\n",
       "      <th>content_titles</th>\n",
       "      <th>target</th>\n",
       "      <th>text</th>\n",
       "      <th>fold</th>\n",
       "    </tr>\n",
       "  </thead>\n",
       "  <tbody>\n",
       "  </tbody>\n",
       "</table>\n",
       "</div>"
      ],
      "text/plain": [
       "Empty DataFrame\n",
       "Columns: [topics_ids, content_ids, topics_titles, content_titles, target, text, fold]\n",
       "Index: []"
      ]
     },
     "execution_count": 36,
     "metadata": {},
     "output_type": "execute_result"
    }
   ],
   "source": [
    "train[train[\"text\"].isnull()]"
   ]
  },
  {
   "cell_type": "code",
   "execution_count": 37,
   "id": "b5253160",
   "metadata": {
    "autoscroll": "auto",
    "collapsed": false,
    "execution": {
     "iopub.execute_input": "2023-02-18T07:11:25.826490Z",
     "iopub.status.busy": "2023-02-18T07:11:25.826294Z",
     "iopub.status.idle": "2023-02-18T09:20:00.813573Z",
     "shell.execute_reply": "2023-02-18T09:20:00.813003Z"
    },
    "jupyter": {
     "outputs_hidden": false
    },
    "papermill": {
     "duration": 17391.060041,
     "end_time": "2023-02-11T06:57:18.656824",
     "exception": false,
     "start_time": "2023-02-11T02:07:27.596783",
     "status": "completed"
    },
    "tags": []
   },
   "outputs": [],
   "source": [
    "# Train and evaluate one fold\n",
    "train_and_evaluate_one_fold(train, correlations, 0, CFG)"
   ]
  },
  {
   "cell_type": "markdown",
   "id": "b8f858de-30f7-455a-856f-d9b1631f087f",
   "metadata": {},
   "source": [
    "# Upload"
   ]
  },
  {
   "cell_type": "code",
   "execution_count": 38,
   "id": "435a8cd3-0dc7-453c-b37e-e94d125fc681",
   "metadata": {
    "autoscroll": "auto",
    "collapsed": false,
    "execution": {
     "iopub.execute_input": "2023-02-18T09:20:00.816186Z",
     "iopub.status.busy": "2023-02-18T09:20:00.815789Z",
     "iopub.status.idle": "2023-02-18T09:20:02.718001Z",
     "shell.execute_reply": "2023-02-18T09:20:02.717434Z"
    },
    "jupyter": {
     "outputs_hidden": false
    }
   },
   "outputs": [
    {
     "data": {
      "text/plain": [
       "0"
      ]
     },
     "execution_count": 38,
     "metadata": {},
     "output_type": "execute_result"
    }
   ],
   "source": [
    "import os\n",
    "os.system(\"pip install kaggle\")\n",
    "os.system(\"mkdir -p ~/.kaggle/\")\n",
    "os.system(\"cp /notebooks/kaggle_lecr/kaggle.json ~/.kaggle/\")\n",
    "os.system(\"chmod 600 ~/.kaggle/kaggle.json\")"
   ]
  },
  {
   "cell_type": "code",
   "execution_count": 39,
   "id": "510a516b-6edc-4aac-88c5-93f58b6ece6c",
   "metadata": {
    "execution": {
     "iopub.execute_input": "2023-02-18T09:20:02.720691Z",
     "iopub.status.busy": "2023-02-18T09:20:02.720171Z",
     "iopub.status.idle": "2023-02-18T09:20:24.913407Z",
     "shell.execute_reply": "2023-02-18T09:20:24.912857Z"
    }
   },
   "outputs": [],
   "source": [
    "from kaggle.api.kaggle_api_extended import KaggleApi\n",
    "import json\n",
    "\n",
    "def dataset_create_new(dataset_name: str, upload_dir: str):\n",
    "    if \"_\" in dataset_name:\n",
    "        raise ValueError(\"datasetの名称に_の使用は禁止です\")\n",
    "    dataset_metadata = {}\n",
    "    dataset_metadata['id'] = f'sinchir0/{dataset_name}'\n",
    "    dataset_metadata['licenses'] = [{'name': 'CC0-1.0'}]\n",
    "    dataset_metadata['title'] = dataset_name\n",
    "    with open(os.path.join(upload_dir, 'dataset-metadata.json'), 'w') as f:\n",
    "        json.dump(dataset_metadata, f, indent=4)\n",
    "    api = KaggleApi()\n",
    "    api.authenticate()\n",
    "    api.dataset_create_new(folder=upload_dir, convert_to_csv=False, dir_mode='tar')\n",
    "\n",
    "if CFG.upload_data:\n",
    "    print(f\"Create Dataset name:{NOTEBOOK_NAME}, output_dir:{OUTPUT_DIR}\")\n",
    "    dataset_create_new(dataset_name=NOTEBOOK_NAME, upload_dir=OUTPUT_DIR)"
   ]
  },
  {
   "cell_type": "code",
   "execution_count": null,
   "id": "465fda75-46ff-44dd-9bac-ec7fb5dc0e1c",
   "metadata": {},
   "outputs": [],
   "source": []
  }
 ],
 "metadata": {
  "kernelspec": {
   "display_name": "Python 3 (ipykernel)",
   "language": "python",
   "name": "python3"
  },
  "language_info": {
   "codemirror_mode": {
    "name": "ipython",
    "version": 3
   },
   "file_extension": ".py",
   "mimetype": "text/x-python",
   "name": "python",
   "nbconvert_exporter": "python",
   "pygments_lexer": "ipython3",
   "version": "3.9.13"
  },
  "papermill": {
   "default_parameters": {},
   "duration": 17548.763501,
   "end_time": "2023-02-11T06:57:21.580304",
   "environment_variables": {},
   "exception": null,
   "input_path": "__notebook__.ipynb",
   "output_path": "__notebook__.ipynb",
   "parameters": {},
   "start_time": "2023-02-11T02:04:52.816803",
   "version": "2.3.4"
  },
  "widgets": {
   "application/vnd.jupyter.widget-state+json": {
    "state": {
     "041e4ad0ad0649238e30bc7f058d7b7f": {
      "model_module": "@jupyter-widgets/base",
      "model_module_version": "2.0.0",
      "model_name": "LayoutModel",
      "state": {
       "_model_module": "@jupyter-widgets/base",
       "_model_module_version": "2.0.0",
       "_model_name": "LayoutModel",
       "_view_count": null,
       "_view_module": "@jupyter-widgets/base",
       "_view_module_version": "2.0.0",
       "_view_name": "LayoutView",
       "align_content": null,
       "align_items": null,
       "align_self": null,
       "border_bottom": null,
       "border_left": null,
       "border_right": null,
       "border_top": null,
       "bottom": null,
       "display": null,
       "flex": null,
       "flex_flow": null,
       "grid_area": null,
       "grid_auto_columns": null,
       "grid_auto_flow": null,
       "grid_auto_rows": null,
       "grid_column": null,
       "grid_gap": null,
       "grid_row": null,
       "grid_template_areas": null,
       "grid_template_columns": null,
       "grid_template_rows": null,
       "height": null,
       "justify_content": null,
       "justify_items": null,
       "left": null,
       "margin": null,
       "max_height": null,
       "max_width": null,
       "min_height": null,
       "min_width": null,
       "object_fit": null,
       "object_position": null,
       "order": null,
       "overflow": null,
       "padding": null,
       "right": null,
       "top": null,
       "visibility": null,
       "width": null
      }
     },
     "155a80eae5f9420cb9f8eb8151611f6c": {
      "model_module": "@jupyter-widgets/base",
      "model_module_version": "2.0.0",
      "model_name": "LayoutModel",
      "state": {
       "_model_module": "@jupyter-widgets/base",
       "_model_module_version": "2.0.0",
       "_model_name": "LayoutModel",
       "_view_count": null,
       "_view_module": "@jupyter-widgets/base",
       "_view_module_version": "2.0.0",
       "_view_name": "LayoutView",
       "align_content": null,
       "align_items": null,
       "align_self": null,
       "border_bottom": null,
       "border_left": null,
       "border_right": null,
       "border_top": null,
       "bottom": null,
       "display": null,
       "flex": null,
       "flex_flow": null,
       "grid_area": null,
       "grid_auto_columns": null,
       "grid_auto_flow": null,
       "grid_auto_rows": null,
       "grid_column": null,
       "grid_gap": null,
       "grid_row": null,
       "grid_template_areas": null,
       "grid_template_columns": null,
       "grid_template_rows": null,
       "height": null,
       "justify_content": null,
       "justify_items": null,
       "left": null,
       "margin": null,
       "max_height": null,
       "max_width": null,
       "min_height": null,
       "min_width": null,
       "object_fit": null,
       "object_position": null,
       "order": null,
       "overflow": null,
       "padding": null,
       "right": null,
       "top": null,
       "visibility": null,
       "width": null
      }
     },
     "1f002ec47d5846208c330a20bc274cc8": {
      "model_module": "@jupyter-widgets/controls",
      "model_module_version": "2.0.0",
      "model_name": "FloatProgressModel",
      "state": {
       "_dom_classes": [],
       "_model_module": "@jupyter-widgets/controls",
       "_model_module_version": "2.0.0",
       "_model_name": "FloatProgressModel",
       "_view_count": null,
       "_view_module": "@jupyter-widgets/controls",
       "_view_module_version": "2.0.0",
       "_view_name": "ProgressView",
       "bar_style": "success",
       "description": "",
       "description_allow_html": false,
       "layout": "IPY_MODEL_155a80eae5f9420cb9f8eb8151611f6c",
       "max": 747561.0,
       "min": 0.0,
       "orientation": "horizontal",
       "style": "IPY_MODEL_7a920e4464e4476c9916729fb3e8ff3f",
       "tabbable": null,
       "tooltip": null,
       "value": 747561.0
      }
     },
     "275553a3ea0746a8bcb74b45b22ec440": {
      "model_module": "@jupyter-widgets/controls",
      "model_module_version": "2.0.0",
      "model_name": "HTMLStyleModel",
      "state": {
       "_model_module": "@jupyter-widgets/controls",
       "_model_module_version": "2.0.0",
       "_model_name": "HTMLStyleModel",
       "_view_count": null,
       "_view_module": "@jupyter-widgets/base",
       "_view_module_version": "2.0.0",
       "_view_name": "StyleView",
       "background": null,
       "description_width": "",
       "font_size": null,
       "text_color": null
      }
     },
     "4c754fe720a14de7a202de9c0fcd1855": {
      "model_module": "@jupyter-widgets/base",
      "model_module_version": "2.0.0",
      "model_name": "LayoutModel",
      "state": {
       "_model_module": "@jupyter-widgets/base",
       "_model_module_version": "2.0.0",
       "_model_name": "LayoutModel",
       "_view_count": null,
       "_view_module": "@jupyter-widgets/base",
       "_view_module_version": "2.0.0",
       "_view_name": "LayoutView",
       "align_content": null,
       "align_items": null,
       "align_self": null,
       "border_bottom": null,
       "border_left": null,
       "border_right": null,
       "border_top": null,
       "bottom": null,
       "display": null,
       "flex": null,
       "flex_flow": null,
       "grid_area": null,
       "grid_auto_columns": null,
       "grid_auto_flow": null,
       "grid_auto_rows": null,
       "grid_column": null,
       "grid_gap": null,
       "grid_row": null,
       "grid_template_areas": null,
       "grid_template_columns": null,
       "grid_template_rows": null,
       "height": null,
       "justify_content": null,
       "justify_items": null,
       "left": null,
       "margin": null,
       "max_height": null,
       "max_width": null,
       "min_height": null,
       "min_width": null,
       "object_fit": null,
       "object_position": null,
       "order": null,
       "overflow": null,
       "padding": null,
       "right": null,
       "top": null,
       "visibility": null,
       "width": null
      }
     },
     "63c7bdaa1f95430584ada88ca9fc689a": {
      "model_module": "@jupyter-widgets/controls",
      "model_module_version": "2.0.0",
      "model_name": "HTMLModel",
      "state": {
       "_dom_classes": [],
       "_model_module": "@jupyter-widgets/controls",
       "_model_module_version": "2.0.0",
       "_model_name": "HTMLModel",
       "_view_count": null,
       "_view_module": "@jupyter-widgets/controls",
       "_view_module_version": "2.0.0",
       "_view_name": "HTMLView",
       "description": "",
       "description_allow_html": false,
       "layout": "IPY_MODEL_041e4ad0ad0649238e30bc7f058d7b7f",
       "placeholder": "​",
       "style": "IPY_MODEL_275553a3ea0746a8bcb74b45b22ec440",
       "tabbable": null,
       "tooltip": null,
       "value": "100%"
      }
     },
     "63f705e6ec2c4d51b79a55df8f55f966": {
      "model_module": "@jupyter-widgets/controls",
      "model_module_version": "2.0.0",
      "model_name": "HBoxModel",
      "state": {
       "_dom_classes": [],
       "_model_module": "@jupyter-widgets/controls",
       "_model_module_version": "2.0.0",
       "_model_name": "HBoxModel",
       "_view_count": null,
       "_view_module": "@jupyter-widgets/controls",
       "_view_module_version": "2.0.0",
       "_view_name": "HBoxView",
       "box_style": "",
       "children": [
        "IPY_MODEL_63c7bdaa1f95430584ada88ca9fc689a",
        "IPY_MODEL_1f002ec47d5846208c330a20bc274cc8",
        "IPY_MODEL_c813f509bbca49edaaba88b85508e492"
       ],
       "layout": "IPY_MODEL_645e622b09b24ef287c4cc966ff53845",
       "tabbable": null,
       "tooltip": null
      }
     },
     "645e622b09b24ef287c4cc966ff53845": {
      "model_module": "@jupyter-widgets/base",
      "model_module_version": "2.0.0",
      "model_name": "LayoutModel",
      "state": {
       "_model_module": "@jupyter-widgets/base",
       "_model_module_version": "2.0.0",
       "_model_name": "LayoutModel",
       "_view_count": null,
       "_view_module": "@jupyter-widgets/base",
       "_view_module_version": "2.0.0",
       "_view_name": "LayoutView",
       "align_content": null,
       "align_items": null,
       "align_self": null,
       "border_bottom": null,
       "border_left": null,
       "border_right": null,
       "border_top": null,
       "bottom": null,
       "display": null,
       "flex": null,
       "flex_flow": null,
       "grid_area": null,
       "grid_auto_columns": null,
       "grid_auto_flow": null,
       "grid_auto_rows": null,
       "grid_column": null,
       "grid_gap": null,
       "grid_row": null,
       "grid_template_areas": null,
       "grid_template_columns": null,
       "grid_template_rows": null,
       "height": null,
       "justify_content": null,
       "justify_items": null,
       "left": null,
       "margin": null,
       "max_height": null,
       "max_width": null,
       "min_height": null,
       "min_width": null,
       "object_fit": null,
       "object_position": null,
       "order": null,
       "overflow": null,
       "padding": null,
       "right": null,
       "top": null,
       "visibility": null,
       "width": null
      }
     },
     "7a920e4464e4476c9916729fb3e8ff3f": {
      "model_module": "@jupyter-widgets/controls",
      "model_module_version": "2.0.0",
      "model_name": "ProgressStyleModel",
      "state": {
       "_model_module": "@jupyter-widgets/controls",
       "_model_module_version": "2.0.0",
       "_model_name": "ProgressStyleModel",
       "_view_count": null,
       "_view_module": "@jupyter-widgets/base",
       "_view_module_version": "2.0.0",
       "_view_name": "StyleView",
       "bar_color": null,
       "description_width": ""
      }
     },
     "c813f509bbca49edaaba88b85508e492": {
      "model_module": "@jupyter-widgets/controls",
      "model_module_version": "2.0.0",
      "model_name": "HTMLModel",
      "state": {
       "_dom_classes": [],
       "_model_module": "@jupyter-widgets/controls",
       "_model_module_version": "2.0.0",
       "_model_name": "HTMLModel",
       "_view_count": null,
       "_view_module": "@jupyter-widgets/controls",
       "_view_module_version": "2.0.0",
       "_view_name": "HTMLView",
       "description": "",
       "description_allow_html": false,
       "layout": "IPY_MODEL_4c754fe720a14de7a202de9c0fcd1855",
       "placeholder": "​",
       "style": "IPY_MODEL_d1cfd719b8cd4ad0a65e99ec0239dfa6",
       "tabbable": null,
       "tooltip": null,
       "value": " 747561/747561 [01:19&lt;00:00, 9436.73it/s]"
      }
     },
     "d1cfd719b8cd4ad0a65e99ec0239dfa6": {
      "model_module": "@jupyter-widgets/controls",
      "model_module_version": "2.0.0",
      "model_name": "HTMLStyleModel",
      "state": {
       "_model_module": "@jupyter-widgets/controls",
       "_model_module_version": "2.0.0",
       "_model_name": "HTMLStyleModel",
       "_view_count": null,
       "_view_module": "@jupyter-widgets/base",
       "_view_module_version": "2.0.0",
       "_view_name": "StyleView",
       "background": null,
       "description_width": "",
       "font_size": null,
       "text_color": null
      }
     }
    },
    "version_major": 2,
    "version_minor": 0
   }
  }
 },
 "nbformat": 4,
 "nbformat_minor": 5
}
