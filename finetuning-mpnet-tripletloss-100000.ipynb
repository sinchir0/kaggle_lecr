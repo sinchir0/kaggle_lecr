{
 "cells": [
  {
   "cell_type": "markdown",
   "metadata": {},
   "source": [
    "# Fine-tuning Sentence Transformer"
   ]
  },
  {
   "cell_type": "markdown",
   "metadata": {},
   "source": [
    "https://huggingface.co/blog/how-to-train-sentence-transformers"
   ]
  },
  {
   "cell_type": "code",
   "execution_count": 1,
   "metadata": {
    "tags": []
   },
   "outputs": [],
   "source": [
    "DEBUG = False"
   ]
  },
  {
   "cell_type": "code",
   "execution_count": 2,
   "metadata": {
    "tags": []
   },
   "outputs": [],
   "source": [
    "from datasets import load_dataset"
   ]
  },
  {
   "cell_type": "code",
   "execution_count": 3,
   "metadata": {
    "tags": []
   },
   "outputs": [],
   "source": [
    "!pip -qqq install sentence-transformers\n",
    "import pandas as pd\n",
    "import numpy as np\n",
    "from tqdm.notebook import tqdm\n",
    "from sentence_transformers import SentenceTransformer, models, InputExample, losses\n",
    "from datasets import Dataset\n",
    "from torch.utils.data import DataLoader"
   ]
  },
  {
   "cell_type": "code",
   "execution_count": 4,
   "metadata": {
    "execution": {
     "iopub.execute_input": "2023-02-10T12:05:49.416904Z",
     "iopub.status.busy": "2023-02-10T12:05:49.416488Z",
     "iopub.status.idle": "2023-02-10T12:06:27.769713Z",
     "shell.execute_reply": "2023-02-10T12:06:27.768375Z",
     "shell.execute_reply.started": "2023-02-10T12:05:49.416866Z"
    }
   },
   "outputs": [],
   "source": [
    "DATA_PATH = \"/kaggle/input/learning-equality-curriculum-recommendations/\"\n",
    "topics = pd.read_csv(DATA_PATH + \"topics.csv\")\n",
    "content = pd.read_csv(DATA_PATH + \"content.csv\")\n",
    "correlations = pd.read_csv(DATA_PATH + \"correlations.csv\")"
   ]
  },
  {
   "cell_type": "code",
   "execution_count": 5,
   "metadata": {
    "execution": {
     "iopub.execute_input": "2023-02-10T12:06:27.772001Z",
     "iopub.status.busy": "2023-02-10T12:06:27.771467Z",
     "iopub.status.idle": "2023-02-10T12:06:27.812479Z",
     "shell.execute_reply": "2023-02-10T12:06:27.811569Z",
     "shell.execute_reply.started": "2023-02-10T12:06:27.771939Z"
    }
   },
   "outputs": [],
   "source": [
    "topics[\"title\"] = topics[\"title\"].fillna(\"No Title\")\n",
    "content[\"title\"] = content[\"title\"].fillna(\"No Title\")"
   ]
  },
  {
   "cell_type": "code",
   "execution_count": 6,
   "metadata": {
    "execution": {
     "iopub.execute_input": "2023-02-10T12:06:27.814666Z",
     "iopub.status.busy": "2023-02-10T12:06:27.814004Z",
     "iopub.status.idle": "2023-02-10T12:06:27.834225Z",
     "shell.execute_reply": "2023-02-10T12:06:27.833214Z",
     "shell.execute_reply.started": "2023-02-10T12:06:27.814631Z"
    }
   },
   "outputs": [
    {
     "data": {
      "text/html": [
       "<div>\n",
       "<style scoped>\n",
       "    .dataframe tbody tr th:only-of-type {\n",
       "        vertical-align: middle;\n",
       "    }\n",
       "\n",
       "    .dataframe tbody tr th {\n",
       "        vertical-align: top;\n",
       "    }\n",
       "\n",
       "    .dataframe thead th {\n",
       "        text-align: right;\n",
       "    }\n",
       "</style>\n",
       "<table border=\"1\" class=\"dataframe\">\n",
       "  <thead>\n",
       "    <tr style=\"text-align: right;\">\n",
       "      <th></th>\n",
       "      <th>topic_id</th>\n",
       "      <th>content_ids</th>\n",
       "    </tr>\n",
       "  </thead>\n",
       "  <tbody>\n",
       "    <tr>\n",
       "      <th>0</th>\n",
       "      <td>t_00004da3a1b2</td>\n",
       "      <td>c_1108dd0c7a5d c_376c5a8eb028 c_5bc0e1e2cba0 c...</td>\n",
       "    </tr>\n",
       "    <tr>\n",
       "      <th>1</th>\n",
       "      <td>t_00068291e9a4</td>\n",
       "      <td>c_639ea2ef9c95 c_89ce9367be10 c_ac1672cdcd2c c...</td>\n",
       "    </tr>\n",
       "    <tr>\n",
       "      <th>2</th>\n",
       "      <td>t_00069b63a70a</td>\n",
       "      <td>c_11a1dc0bfb99</td>\n",
       "    </tr>\n",
       "    <tr>\n",
       "      <th>3</th>\n",
       "      <td>t_0006d41a73a8</td>\n",
       "      <td>c_0c6473c3480d c_1c57a1316568 c_5e375cf14c47 c...</td>\n",
       "    </tr>\n",
       "    <tr>\n",
       "      <th>4</th>\n",
       "      <td>t_0008768bdee6</td>\n",
       "      <td>c_34e1424229b4 c_7d1a964d66d5 c_aab93ee667f4</td>\n",
       "    </tr>\n",
       "  </tbody>\n",
       "</table>\n",
       "</div>"
      ],
      "text/plain": [
       "         topic_id                                        content_ids\n",
       "0  t_00004da3a1b2  c_1108dd0c7a5d c_376c5a8eb028 c_5bc0e1e2cba0 c...\n",
       "1  t_00068291e9a4  c_639ea2ef9c95 c_89ce9367be10 c_ac1672cdcd2c c...\n",
       "2  t_00069b63a70a                                     c_11a1dc0bfb99\n",
       "3  t_0006d41a73a8  c_0c6473c3480d c_1c57a1316568 c_5e375cf14c47 c...\n",
       "4  t_0008768bdee6       c_34e1424229b4 c_7d1a964d66d5 c_aab93ee667f4"
      ]
     },
     "execution_count": 6,
     "metadata": {},
     "output_type": "execute_result"
    }
   ],
   "source": [
    "correlations.head()"
   ]
  },
  {
   "cell_type": "code",
   "execution_count": 7,
   "metadata": {
    "execution": {
     "iopub.execute_input": "2023-02-10T12:06:27.836054Z",
     "iopub.status.busy": "2023-02-10T12:06:27.835734Z",
     "iopub.status.idle": "2023-02-10T12:06:42.452449Z",
     "shell.execute_reply": "2023-02-10T12:06:42.451112Z",
     "shell.execute_reply.started": "2023-02-10T12:06:27.836027Z"
    }
   },
   "outputs": [],
   "source": [
    "train = pd.read_csv(\"/kaggle/input/lecr-uns-top-n-50/train.csv\")"
   ]
  },
  {
   "cell_type": "code",
   "execution_count": 8,
   "metadata": {
    "execution": {
     "iopub.execute_input": "2023-02-10T12:06:42.455300Z",
     "iopub.status.busy": "2023-02-10T12:06:42.454121Z",
     "iopub.status.idle": "2023-02-10T12:06:45.338203Z",
     "shell.execute_reply": "2023-02-10T12:06:45.337058Z",
     "shell.execute_reply.started": "2023-02-10T12:06:42.455262Z"
    }
   },
   "outputs": [],
   "source": [
    "train_topic_ids_content_ids = train.groupby(\"topics_ids\")[\"content_ids\"].apply(set).sort_index()"
   ]
  },
  {
   "cell_type": "code",
   "execution_count": 9,
   "metadata": {
    "execution": {
     "iopub.execute_input": "2023-02-10T12:06:45.340239Z",
     "iopub.status.busy": "2023-02-10T12:06:45.339685Z",
     "iopub.status.idle": "2023-02-10T12:06:45.504338Z",
     "shell.execute_reply": "2023-02-10T12:06:45.502797Z",
     "shell.execute_reply.started": "2023-02-10T12:06:45.340191Z"
    }
   },
   "outputs": [],
   "source": [
    "correlations[\"content_ids\"] = correlations[\"content_ids\"].apply(lambda x: set(x.split()))\n",
    "corr_topic_ids_content_ids = correlations.set_index(\"topic_id\")\n",
    "corr_topic_ids_content_ids = corr_topic_ids_content_ids.sort_index()"
   ]
  },
  {
   "cell_type": "code",
   "execution_count": 10,
   "metadata": {
    "execution": {
     "iopub.execute_input": "2023-02-10T12:06:45.508348Z",
     "iopub.status.busy": "2023-02-10T12:06:45.507773Z",
     "iopub.status.idle": "2023-02-10T12:06:45.519575Z",
     "shell.execute_reply": "2023-02-10T12:06:45.518191Z",
     "shell.execute_reply.started": "2023-02-10T12:06:45.508308Z"
    }
   },
   "outputs": [
    {
     "data": {
      "text/plain": [
       "topics_ids\n",
       "t_00004da3a1b2    {c_cbbf192e3fb1, c_ec09c6bd0877, c_adb20c7622a...\n",
       "t_00068291e9a4    {c_83e247629e9b, c_5b35ca71313d, c_f96a0ab78be...\n",
       "t_00069b63a70a    {c_271a79646124, c_864332cb2d95, c_4ea70c66b21...\n",
       "t_0006d41a73a8    {c_af08c6756929, c_9cfd108287fb, c_9a1da8bc33f...\n",
       "t_0008768bdee6    {c_fd2a0d4fdf2a, c_7b1ff48ee7d2, c_bf882e1890d...\n",
       "Name: content_ids, dtype: object"
      ]
     },
     "execution_count": 10,
     "metadata": {},
     "output_type": "execute_result"
    }
   ],
   "source": [
    "train_topic_ids_content_ids.head()"
   ]
  },
  {
   "cell_type": "code",
   "execution_count": 11,
   "metadata": {
    "execution": {
     "iopub.execute_input": "2023-02-10T12:06:45.521633Z",
     "iopub.status.busy": "2023-02-10T12:06:45.521257Z",
     "iopub.status.idle": "2023-02-10T12:06:45.538506Z",
     "shell.execute_reply": "2023-02-10T12:06:45.537146Z",
     "shell.execute_reply.started": "2023-02-10T12:06:45.521595Z"
    }
   },
   "outputs": [
    {
     "data": {
      "text/html": [
       "<div>\n",
       "<style scoped>\n",
       "    .dataframe tbody tr th:only-of-type {\n",
       "        vertical-align: middle;\n",
       "    }\n",
       "\n",
       "    .dataframe tbody tr th {\n",
       "        vertical-align: top;\n",
       "    }\n",
       "\n",
       "    .dataframe thead th {\n",
       "        text-align: right;\n",
       "    }\n",
       "</style>\n",
       "<table border=\"1\" class=\"dataframe\">\n",
       "  <thead>\n",
       "    <tr style=\"text-align: right;\">\n",
       "      <th></th>\n",
       "      <th>content_ids</th>\n",
       "    </tr>\n",
       "    <tr>\n",
       "      <th>topic_id</th>\n",
       "      <th></th>\n",
       "    </tr>\n",
       "  </thead>\n",
       "  <tbody>\n",
       "    <tr>\n",
       "      <th>t_00004da3a1b2</th>\n",
       "      <td>{c_1108dd0c7a5d, c_76231f9d0b5e, c_376c5a8eb02...</td>\n",
       "    </tr>\n",
       "    <tr>\n",
       "      <th>t_00068291e9a4</th>\n",
       "      <td>{c_ebb7fdf10a7e, c_ac1672cdcd2c, c_89ce9367be1...</td>\n",
       "    </tr>\n",
       "    <tr>\n",
       "      <th>t_00069b63a70a</th>\n",
       "      <td>{c_11a1dc0bfb99}</td>\n",
       "    </tr>\n",
       "    <tr>\n",
       "      <th>t_0006d41a73a8</th>\n",
       "      <td>{c_d7a0d7eaf799, c_5e375cf14c47, c_0c6473c3480...</td>\n",
       "    </tr>\n",
       "    <tr>\n",
       "      <th>t_0008768bdee6</th>\n",
       "      <td>{c_7d1a964d66d5, c_34e1424229b4, c_aab93ee667f4}</td>\n",
       "    </tr>\n",
       "  </tbody>\n",
       "</table>\n",
       "</div>"
      ],
      "text/plain": [
       "                                                      content_ids\n",
       "topic_id                                                         \n",
       "t_00004da3a1b2  {c_1108dd0c7a5d, c_76231f9d0b5e, c_376c5a8eb02...\n",
       "t_00068291e9a4  {c_ebb7fdf10a7e, c_ac1672cdcd2c, c_89ce9367be1...\n",
       "t_00069b63a70a                                   {c_11a1dc0bfb99}\n",
       "t_0006d41a73a8  {c_d7a0d7eaf799, c_5e375cf14c47, c_0c6473c3480...\n",
       "t_0008768bdee6   {c_7d1a964d66d5, c_34e1424229b4, c_aab93ee667f4}"
      ]
     },
     "execution_count": 11,
     "metadata": {},
     "output_type": "execute_result"
    }
   ],
   "source": [
    "corr_topic_ids_content_ids.head()"
   ]
  },
  {
   "cell_type": "code",
   "execution_count": 12,
   "metadata": {
    "execution": {
     "iopub.execute_input": "2023-02-10T12:06:45.540218Z",
     "iopub.status.busy": "2023-02-10T12:06:45.539764Z",
     "iopub.status.idle": "2023-02-10T12:06:46.572117Z",
     "shell.execute_reply": "2023-02-10T12:06:46.570887Z",
     "shell.execute_reply.started": "2023-02-10T12:06:45.540174Z"
    }
   },
   "outputs": [
    {
     "data": {
      "application/vnd.jupyter.widget-view+json": {
       "model_id": "790fd806701c4172a9cf9fe908ef8026",
       "version_major": 2,
       "version_minor": 0
      },
      "text/plain": [
       "  0%|          | 0/61517 [00:00<?, ?it/s]"
      ]
     },
     "metadata": {},
     "output_type": "display_data"
    }
   ],
   "source": [
    "output_id = {}\n",
    "for topic_id, train_content_id, corr_content_id in tqdm(\n",
    "    zip(train_topic_ids_content_ids.index, train_topic_ids_content_ids, corr_topic_ids_content_ids[\"content_ids\"]),\n",
    "    total=len(train_topic_ids_content_ids)\n",
    "):\n",
    "    pos = corr_content_id\n",
    "    neg = train_content_id - corr_content_id\n",
    "    output_id[topic_id] = {\"pos\": pos, \"neg\": neg}"
   ]
  },
  {
   "cell_type": "code",
   "execution_count": 13,
   "metadata": {
    "execution": {
     "iopub.execute_input": "2023-02-10T12:06:46.574429Z",
     "iopub.status.busy": "2023-02-10T12:06:46.573744Z",
     "iopub.status.idle": "2023-02-10T12:06:58.276233Z",
     "shell.execute_reply": "2023-02-10T12:06:58.274518Z",
     "shell.execute_reply.started": "2023-02-10T12:06:46.574383Z"
    }
   },
   "outputs": [
    {
     "data": {
      "application/vnd.jupyter.widget-view+json": {
       "model_id": "5908fc3bab3742d9a40c271ff31a479f",
       "version_major": 2,
       "version_minor": 0
      },
      "text/plain": [
       "  0%|          | 0/61517 [00:00<?, ?it/s]"
      ]
     },
     "metadata": {},
     "output_type": "display_data"
    },
    {
     "ename": "KeyboardInterrupt",
     "evalue": "",
     "output_type": "error",
     "traceback": [
      "\u001b[0;31m---------------------------------------------------------------------------\u001b[0m",
      "\u001b[0;31mKeyboardInterrupt\u001b[0m                         Traceback (most recent call last)",
      "\u001b[0;32m/tmp/ipykernel_27/1842418206.py\u001b[0m in \u001b[0;36m<module>\u001b[0;34m\u001b[0m\n\u001b[1;32m      5\u001b[0m     \u001b[0mneg_content_ids\u001b[0m \u001b[0;34m=\u001b[0m \u001b[0moutput_id\u001b[0m\u001b[0;34m[\u001b[0m\u001b[0mtopic_id\u001b[0m\u001b[0;34m]\u001b[0m\u001b[0;34m[\u001b[0m\u001b[0;34m\"neg\"\u001b[0m\u001b[0;34m]\u001b[0m\u001b[0;34m\u001b[0m\u001b[0;34m\u001b[0m\u001b[0m\n\u001b[1;32m      6\u001b[0m \u001b[0;34m\u001b[0m\u001b[0m\n\u001b[0;32m----> 7\u001b[0;31m     \u001b[0mpos_content_titles\u001b[0m \u001b[0;34m=\u001b[0m \u001b[0mcontent\u001b[0m\u001b[0;34m.\u001b[0m\u001b[0mloc\u001b[0m\u001b[0;34m[\u001b[0m\u001b[0;34m(\u001b[0m\u001b[0mcontent\u001b[0m\u001b[0;34m[\u001b[0m\u001b[0;34m\"id\"\u001b[0m\u001b[0;34m]\u001b[0m\u001b[0;34m.\u001b[0m\u001b[0misin\u001b[0m\u001b[0;34m(\u001b[0m\u001b[0mlist\u001b[0m\u001b[0;34m(\u001b[0m\u001b[0mpos_content_ids\u001b[0m\u001b[0;34m)\u001b[0m\u001b[0;34m)\u001b[0m\u001b[0;34m)\u001b[0m\u001b[0;34m,\u001b[0m\u001b[0;34m\"title\"\u001b[0m\u001b[0;34m]\u001b[0m\u001b[0;34m.\u001b[0m\u001b[0mtolist\u001b[0m\u001b[0;34m(\u001b[0m\u001b[0;34m)\u001b[0m\u001b[0;34m\u001b[0m\u001b[0;34m\u001b[0m\u001b[0m\n\u001b[0m\u001b[1;32m      8\u001b[0m     \u001b[0mneg_content_titles\u001b[0m \u001b[0;34m=\u001b[0m \u001b[0mcontent\u001b[0m\u001b[0;34m.\u001b[0m\u001b[0mloc\u001b[0m\u001b[0;34m[\u001b[0m\u001b[0;34m(\u001b[0m\u001b[0mcontent\u001b[0m\u001b[0;34m[\u001b[0m\u001b[0;34m\"id\"\u001b[0m\u001b[0;34m]\u001b[0m\u001b[0;34m.\u001b[0m\u001b[0misin\u001b[0m\u001b[0;34m(\u001b[0m\u001b[0mlist\u001b[0m\u001b[0;34m(\u001b[0m\u001b[0mneg_content_ids\u001b[0m\u001b[0;34m)\u001b[0m\u001b[0;34m)\u001b[0m\u001b[0;34m)\u001b[0m\u001b[0;34m,\u001b[0m\u001b[0;34m\"title\"\u001b[0m\u001b[0;34m]\u001b[0m\u001b[0;34m.\u001b[0m\u001b[0mtolist\u001b[0m\u001b[0;34m(\u001b[0m\u001b[0;34m)\u001b[0m\u001b[0;34m\u001b[0m\u001b[0;34m\u001b[0m\u001b[0m\n\u001b[1;32m      9\u001b[0m     \u001b[0moutput_list\u001b[0m\u001b[0;34m.\u001b[0m\u001b[0mappend\u001b[0m\u001b[0;34m(\u001b[0m\u001b[0;34m[\u001b[0m\u001b[0;34m{\u001b[0m\u001b[0;34m\"query\"\u001b[0m\u001b[0;34m:\u001b[0m \u001b[0mtopic_title\u001b[0m\u001b[0;34m,\u001b[0m\u001b[0;34m\"pos\"\u001b[0m\u001b[0;34m:\u001b[0m \u001b[0mpos_content_titles\u001b[0m\u001b[0;34m,\u001b[0m \u001b[0;34m\"neg\"\u001b[0m\u001b[0;34m:\u001b[0m \u001b[0mneg_content_titles\u001b[0m\u001b[0;34m}\u001b[0m\u001b[0;34m]\u001b[0m\u001b[0;34m)\u001b[0m\u001b[0;34m\u001b[0m\u001b[0;34m\u001b[0m\u001b[0m\n",
      "\u001b[0;32m/opt/conda/lib/python3.7/site-packages/pandas/core/series.py\u001b[0m in \u001b[0;36misin\u001b[0;34m(self, values)\u001b[0m\n\u001b[1;32m   5023\u001b[0m         \u001b[0mdtype\u001b[0m\u001b[0;34m:\u001b[0m \u001b[0mbool\u001b[0m\u001b[0;34m\u001b[0m\u001b[0;34m\u001b[0m\u001b[0m\n\u001b[1;32m   5024\u001b[0m         \"\"\"\n\u001b[0;32m-> 5025\u001b[0;31m         \u001b[0mresult\u001b[0m \u001b[0;34m=\u001b[0m \u001b[0malgorithms\u001b[0m\u001b[0;34m.\u001b[0m\u001b[0misin\u001b[0m\u001b[0;34m(\u001b[0m\u001b[0mself\u001b[0m\u001b[0;34m.\u001b[0m\u001b[0m_values\u001b[0m\u001b[0;34m,\u001b[0m \u001b[0mvalues\u001b[0m\u001b[0;34m)\u001b[0m\u001b[0;34m\u001b[0m\u001b[0;34m\u001b[0m\u001b[0m\n\u001b[0m\u001b[1;32m   5026\u001b[0m         return self._constructor(result, index=self.index).__finalize__(\n\u001b[1;32m   5027\u001b[0m             \u001b[0mself\u001b[0m\u001b[0;34m,\u001b[0m \u001b[0mmethod\u001b[0m\u001b[0;34m=\u001b[0m\u001b[0;34m\"isin\"\u001b[0m\u001b[0;34m\u001b[0m\u001b[0;34m\u001b[0m\u001b[0m\n",
      "\u001b[0;32m/opt/conda/lib/python3.7/site-packages/pandas/core/algorithms.py\u001b[0m in \u001b[0;36misin\u001b[0;34m(comps, values)\u001b[0m\n\u001b[1;32m    522\u001b[0m         \u001b[0mf\u001b[0m \u001b[0;34m=\u001b[0m \u001b[0mhtable\u001b[0m\u001b[0;34m.\u001b[0m\u001b[0mismember\u001b[0m\u001b[0;34m\u001b[0m\u001b[0;34m\u001b[0m\u001b[0m\n\u001b[1;32m    523\u001b[0m \u001b[0;34m\u001b[0m\u001b[0m\n\u001b[0;32m--> 524\u001b[0;31m     \u001b[0;32mreturn\u001b[0m \u001b[0mf\u001b[0m\u001b[0;34m(\u001b[0m\u001b[0mcomps\u001b[0m\u001b[0;34m,\u001b[0m \u001b[0mvalues\u001b[0m\u001b[0;34m)\u001b[0m\u001b[0;34m\u001b[0m\u001b[0;34m\u001b[0m\u001b[0m\n\u001b[0m\u001b[1;32m    525\u001b[0m \u001b[0;34m\u001b[0m\u001b[0m\n\u001b[1;32m    526\u001b[0m \u001b[0;34m\u001b[0m\u001b[0m\n",
      "\u001b[0;31mKeyboardInterrupt\u001b[0m: "
     ]
    }
   ],
   "source": [
    "output_list = []\n",
    "for topic_id in tqdm(output_id.keys()):\n",
    "    topic_title = topics.loc[(topics[\"id\"] == topic_id), \"title\"].values[0]\n",
    "    pos_content_ids = output_id[topic_id][\"pos\"]\n",
    "    neg_content_ids = output_id[topic_id][\"neg\"]\n",
    "    \n",
    "    pos_content_titles = content.loc[(content[\"id\"].isin(list(pos_content_ids))),\"title\"].tolist()\n",
    "    neg_content_titles = content.loc[(content[\"id\"].isin(list(neg_content_ids))),\"title\"].tolist()\n",
    "    output_list.append([{\"query\": topic_title,\"pos\": pos_content_titles, \"neg\": neg_content_titles}])\n",
    "    if DEBUG and len(output_list) == 100:\n",
    "        break"
   ]
  },
  {
   "cell_type": "code",
   "execution_count": null,
   "metadata": {
    "execution": {
     "iopub.status.busy": "2023-02-10T12:06:58.277114Z",
     "iopub.status.idle": "2023-02-10T12:06:58.277537Z",
     "shell.execute_reply": "2023-02-10T12:06:58.277357Z",
     "shell.execute_reply.started": "2023-02-10T12:06:58.277337Z"
    }
   },
   "outputs": [],
   "source": [
    "df_dataset = pd.DataFrame(output_list, columns=[\"set\"])"
   ]
  },
  {
   "cell_type": "code",
   "execution_count": null,
   "metadata": {
    "execution": {
     "iopub.status.busy": "2023-02-10T12:06:58.280775Z",
     "iopub.status.idle": "2023-02-10T12:06:58.281404Z",
     "shell.execute_reply": "2023-02-10T12:06:58.281134Z",
     "shell.execute_reply.started": "2023-02-10T12:06:58.281105Z"
    }
   },
   "outputs": [],
   "source": [
    "import itertools\n",
    "from sentence_transformers import InputExample\n",
    "\n",
    "train_examples = []\n",
    "train_data = df_dataset['set']\n",
    "n_examples = df_dataset.shape[0]\n",
    "\n",
    "cnt = 0\n",
    "for i in tqdm(range(n_examples), total=n_examples):\n",
    "    example = train_data[i]\n",
    "    for query, pos, neg in itertools.product([example['query']], example['pos'], example['neg'][:10]):\n",
    "        train_examples.append(InputExample(texts=[query, pos, neg]))\n",
    "        cnt += 1\n",
    "    if DEBUG and cnt >= 100:\n",
    "        break\n",
    "    elif cnt >= 100_000: # positive sampleのみだと6万ぐらいであり、上回るように\n",
    "        break"
   ]
  },
  {
   "cell_type": "code",
   "execution_count": null,
   "metadata": {
    "execution": {
     "iopub.status.busy": "2023-02-10T12:06:58.283306Z",
     "iopub.status.idle": "2023-02-10T12:06:58.283936Z",
     "shell.execute_reply": "2023-02-10T12:06:58.283667Z",
     "shell.execute_reply.started": "2023-02-10T12:06:58.283637Z"
    }
   },
   "outputs": [],
   "source": [
    "from torch.utils.data import DataLoader\n",
    "\n",
    "train_dataloader = DataLoader(train_examples, shuffle=True, batch_size=64)"
   ]
  },
  {
   "cell_type": "code",
   "execution_count": null,
   "metadata": {
    "execution": {
     "iopub.status.busy": "2023-02-10T12:06:58.286087Z",
     "iopub.status.idle": "2023-02-10T12:06:58.287335Z",
     "shell.execute_reply": "2023-02-10T12:06:58.287061Z",
     "shell.execute_reply.started": "2023-02-10T12:06:58.287029Z"
    }
   },
   "outputs": [],
   "source": [
    "from sentence_transformers import SentenceTransformer\n",
    "\n",
    "model_id = \"sentence-transformers/paraphrase-multilingual-mpnet-base-v2\"\n",
    "model = SentenceTransformer(model_id)"
   ]
  },
  {
   "cell_type": "code",
   "execution_count": null,
   "metadata": {
    "execution": {
     "iopub.status.busy": "2023-02-10T12:06:58.288731Z",
     "iopub.status.idle": "2023-02-10T12:06:58.289838Z",
     "shell.execute_reply": "2023-02-10T12:06:58.289543Z",
     "shell.execute_reply.started": "2023-02-10T12:06:58.289514Z"
    }
   },
   "outputs": [],
   "source": [
    "from sentence_transformers import losses\n",
    "\n",
    "train_loss = losses.TripletLoss(model=model)"
   ]
  },
  {
   "cell_type": "code",
   "execution_count": null,
   "metadata": {
    "execution": {
     "iopub.status.busy": "2023-02-10T12:06:58.291332Z",
     "iopub.status.idle": "2023-02-10T12:06:58.291898Z",
     "shell.execute_reply": "2023-02-10T12:06:58.291660Z",
     "shell.execute_reply.started": "2023-02-10T12:06:58.291546Z"
    }
   },
   "outputs": [],
   "source": [
    "num_epochs = 10\n",
    "if DEBUG:\n",
    "    num_epochs = 1\n",
    "warmup_steps = int(len(train_dataloader) * num_epochs * 0.1) #10% of train data\n",
    "    \n",
    "model.fit(\n",
    "    train_objectives=[(train_dataloader, train_loss)],\n",
    "    epochs=num_epochs,\n",
    "    warmup_steps=warmup_steps\n",
    ")"
   ]
  },
  {
   "cell_type": "code",
   "execution_count": null,
   "metadata": {
    "execution": {
     "iopub.status.busy": "2023-02-10T12:06:58.293618Z",
     "iopub.status.idle": "2023-02-10T12:06:58.294051Z",
     "shell.execute_reply": "2023-02-10T12:06:58.293861Z",
     "shell.execute_reply.started": "2023-02-10T12:06:58.293841Z"
    }
   },
   "outputs": [],
   "source": [
    "model.save(\"/kaggle/working/paraphrase-multilingual-mpnet-base-v2-exp\")"
   ]
  },
  {
   "cell_type": "code",
   "execution_count": null,
   "metadata": {},
   "outputs": [],
   "source": []
  }
 ],
 "metadata": {
  "kernelspec": {
   "display_name": "Python 3 (ipykernel)",
   "language": "python",
   "name": "python3"
  },
  "language_info": {
   "codemirror_mode": {
    "name": "ipython",
    "version": 3
   },
   "file_extension": ".py",
   "mimetype": "text/x-python",
   "name": "python",
   "nbconvert_exporter": "python",
   "pygments_lexer": "ipython3",
   "version": "3.9.13"
  }
 },
 "nbformat": 4,
 "nbformat_minor": 4
}
